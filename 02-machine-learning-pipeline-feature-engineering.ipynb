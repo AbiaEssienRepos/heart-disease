{
 "cells": [
  {
   "cell_type": "markdown",
   "id": "bb6b3530-25dd-4345-a6e6-c3cc58970014",
   "metadata": {},
   "source": [
    "# Machine Learning Pipeline - Feature Engineering\n",
    "\n",
    "In the following notebooks, we will go through the implementation of each one of the steps in the Machine Learning Pipeline. \n",
    "\n",
    "We will discuss:\n",
    "\n",
    "1. Data Analysis\n",
    "2. **Feature Engineering**\n",
    "3. Feature Selection\n",
    "4. Model Training\n",
    "5. Obtaining Predictions / Scoring"
   ]
  },
  {
   "cell_type": "code",
   "execution_count": 1,
   "id": "81f8fd27-899f-4f4f-bcec-16972ad5f764",
   "metadata": {},
   "outputs": [],
   "source": [
    "# to handle datasets\n",
    "import pandas as pd\n",
    "import numpy as np\n",
    "\n",
    "# for plotting\n",
    "import matplotlib.pyplot as plt\n",
    "import seaborn as sns\n",
    "sns.set_style('ticks')\n",
    "\n",
    "# for the yeo-johnson transformation\n",
    "import scipy.stats as stats\n",
    "\n",
    "# to divide train and test set\n",
    "from sklearn.model_selection import train_test_split\n",
    "\n",
    "# feature scaling\n",
    "from sklearn.preprocessing import MinMaxScaler\n",
    "\n",
    "# to save the trained scaler class\n",
    "import joblib\n",
    "\n",
    "# to visualise al the columns in the dataframe\n",
    "pd.pandas.set_option('display.max_columns', None)"
   ]
  },
  {
   "cell_type": "code",
   "execution_count": 2,
   "id": "c9105206-3e25-4f6c-982c-80770f4053f7",
   "metadata": {},
   "outputs": [
    {
     "name": "stdout",
     "output_type": "stream",
     "text": [
      "(918, 12)\n"
     ]
    },
    {
     "data": {
      "text/html": [
       "<div>\n",
       "<style scoped>\n",
       "    .dataframe tbody tr th:only-of-type {\n",
       "        vertical-align: middle;\n",
       "    }\n",
       "\n",
       "    .dataframe tbody tr th {\n",
       "        vertical-align: top;\n",
       "    }\n",
       "\n",
       "    .dataframe thead th {\n",
       "        text-align: right;\n",
       "    }\n",
       "</style>\n",
       "<table border=\"1\" class=\"dataframe\">\n",
       "  <thead>\n",
       "    <tr style=\"text-align: right;\">\n",
       "      <th></th>\n",
       "      <th>Age</th>\n",
       "      <th>Sex</th>\n",
       "      <th>ChestPainType</th>\n",
       "      <th>RestingBP</th>\n",
       "      <th>Cholesterol</th>\n",
       "      <th>FastingBS</th>\n",
       "      <th>RestingECG</th>\n",
       "      <th>MaxHR</th>\n",
       "      <th>ExerciseAngina</th>\n",
       "      <th>Oldpeak</th>\n",
       "      <th>ST_Slope</th>\n",
       "      <th>HeartDisease</th>\n",
       "    </tr>\n",
       "  </thead>\n",
       "  <tbody>\n",
       "    <tr>\n",
       "      <th>0</th>\n",
       "      <td>40</td>\n",
       "      <td>M</td>\n",
       "      <td>ATA</td>\n",
       "      <td>140</td>\n",
       "      <td>289</td>\n",
       "      <td>0</td>\n",
       "      <td>Normal</td>\n",
       "      <td>172</td>\n",
       "      <td>N</td>\n",
       "      <td>0.0</td>\n",
       "      <td>Up</td>\n",
       "      <td>0</td>\n",
       "    </tr>\n",
       "    <tr>\n",
       "      <th>1</th>\n",
       "      <td>49</td>\n",
       "      <td>F</td>\n",
       "      <td>NAP</td>\n",
       "      <td>160</td>\n",
       "      <td>180</td>\n",
       "      <td>0</td>\n",
       "      <td>Normal</td>\n",
       "      <td>156</td>\n",
       "      <td>N</td>\n",
       "      <td>1.0</td>\n",
       "      <td>Flat</td>\n",
       "      <td>1</td>\n",
       "    </tr>\n",
       "    <tr>\n",
       "      <th>2</th>\n",
       "      <td>37</td>\n",
       "      <td>M</td>\n",
       "      <td>ATA</td>\n",
       "      <td>130</td>\n",
       "      <td>283</td>\n",
       "      <td>0</td>\n",
       "      <td>ST</td>\n",
       "      <td>98</td>\n",
       "      <td>N</td>\n",
       "      <td>0.0</td>\n",
       "      <td>Up</td>\n",
       "      <td>0</td>\n",
       "    </tr>\n",
       "    <tr>\n",
       "      <th>3</th>\n",
       "      <td>48</td>\n",
       "      <td>F</td>\n",
       "      <td>ASY</td>\n",
       "      <td>138</td>\n",
       "      <td>214</td>\n",
       "      <td>0</td>\n",
       "      <td>Normal</td>\n",
       "      <td>108</td>\n",
       "      <td>Y</td>\n",
       "      <td>1.5</td>\n",
       "      <td>Flat</td>\n",
       "      <td>1</td>\n",
       "    </tr>\n",
       "    <tr>\n",
       "      <th>4</th>\n",
       "      <td>54</td>\n",
       "      <td>M</td>\n",
       "      <td>NAP</td>\n",
       "      <td>150</td>\n",
       "      <td>195</td>\n",
       "      <td>0</td>\n",
       "      <td>Normal</td>\n",
       "      <td>122</td>\n",
       "      <td>N</td>\n",
       "      <td>0.0</td>\n",
       "      <td>Up</td>\n",
       "      <td>0</td>\n",
       "    </tr>\n",
       "  </tbody>\n",
       "</table>\n",
       "</div>"
      ],
      "text/plain": [
       "   Age Sex ChestPainType  RestingBP  Cholesterol  FastingBS RestingECG  MaxHR  \\\n",
       "0   40   M           ATA        140          289          0     Normal    172   \n",
       "1   49   F           NAP        160          180          0     Normal    156   \n",
       "2   37   M           ATA        130          283          0         ST     98   \n",
       "3   48   F           ASY        138          214          0     Normal    108   \n",
       "4   54   M           NAP        150          195          0     Normal    122   \n",
       "\n",
       "  ExerciseAngina  Oldpeak ST_Slope  HeartDisease  \n",
       "0              N      0.0       Up             0  \n",
       "1              N      1.0     Flat             1  \n",
       "2              N      0.0       Up             0  \n",
       "3              Y      1.5     Flat             1  \n",
       "4              N      0.0       Up             0  "
      ]
     },
     "execution_count": 2,
     "metadata": {},
     "output_type": "execute_result"
    }
   ],
   "source": [
    "# load dataset\n",
    "data = pd.read_csv('heart.csv')\n",
    "\n",
    "# rows and columns of the data\n",
    "print(data.shape)\n",
    "\n",
    "# visualise the dataset\n",
    "data.head()"
   ]
  },
  {
   "cell_type": "markdown",
   "id": "b5348a99-ebaf-49a5-9c75-6bdc9f686f7d",
   "metadata": {},
   "source": [
    "# Separate dataset into train and test\n",
    "\n",
    "It is important to separate our data intro training and testing set. \n",
    "\n",
    "When we engineer features, some techniques learn parameters from data. It is important to learn these parameters only from the train set. This is to avoid over-fitting.\n",
    "\n",
    "**Separating the data into train and test involves randomness, therefore, we need to set the seed.**"
   ]
  },
  {
   "cell_type": "code",
   "execution_count": 3,
   "id": "65684d8a-3a2f-470a-966c-818cce4ed215",
   "metadata": {},
   "outputs": [],
   "source": [
    "# Let's separate into train and test set\n",
    "# Remember to set the seed (random_state for this sklearn function)\n",
    "\n",
    "X_train, X_test, y_train, y_test = train_test_split(\n",
    "    data.drop(['HeartDisease'], axis=1), # predictive variables\n",
    "    data['HeartDisease'], # target\n",
    "    test_size=0.2, # portion of dataset to allocate to test set\n",
    "    random_state=0, # we are setting the seed here\n",
    ")"
   ]
  },
  {
   "cell_type": "code",
   "execution_count": 4,
   "id": "60757a6c-6a1f-42b6-be9d-d9876cc47d3d",
   "metadata": {},
   "outputs": [
    {
     "data": {
      "text/plain": [
       "((734, 11), (184, 11))"
      ]
     },
     "execution_count": 4,
     "metadata": {},
     "output_type": "execute_result"
    }
   ],
   "source": [
    "X_train.shape, X_test.shape"
   ]
  },
  {
   "cell_type": "code",
   "execution_count": 5,
   "id": "d0bc0660-1480-42ca-8745-d233b05c388a",
   "metadata": {},
   "outputs": [
    {
     "data": {
      "text/html": [
       "<div>\n",
       "<style scoped>\n",
       "    .dataframe tbody tr th:only-of-type {\n",
       "        vertical-align: middle;\n",
       "    }\n",
       "\n",
       "    .dataframe tbody tr th {\n",
       "        vertical-align: top;\n",
       "    }\n",
       "\n",
       "    .dataframe thead th {\n",
       "        text-align: right;\n",
       "    }\n",
       "</style>\n",
       "<table border=\"1\" class=\"dataframe\">\n",
       "  <thead>\n",
       "    <tr style=\"text-align: right;\">\n",
       "      <th></th>\n",
       "      <th>Age</th>\n",
       "      <th>Sex</th>\n",
       "      <th>ChestPainType</th>\n",
       "      <th>RestingBP</th>\n",
       "      <th>Cholesterol</th>\n",
       "      <th>FastingBS</th>\n",
       "      <th>RestingECG</th>\n",
       "      <th>MaxHR</th>\n",
       "      <th>ExerciseAngina</th>\n",
       "      <th>Oldpeak</th>\n",
       "      <th>ST_Slope</th>\n",
       "    </tr>\n",
       "  </thead>\n",
       "  <tbody>\n",
       "    <tr>\n",
       "      <th>378</th>\n",
       "      <td>70</td>\n",
       "      <td>M</td>\n",
       "      <td>ASY</td>\n",
       "      <td>140</td>\n",
       "      <td>0</td>\n",
       "      <td>1</td>\n",
       "      <td>Normal</td>\n",
       "      <td>157</td>\n",
       "      <td>Y</td>\n",
       "      <td>2.0</td>\n",
       "      <td>Flat</td>\n",
       "    </tr>\n",
       "    <tr>\n",
       "      <th>356</th>\n",
       "      <td>46</td>\n",
       "      <td>M</td>\n",
       "      <td>ASY</td>\n",
       "      <td>115</td>\n",
       "      <td>0</td>\n",
       "      <td>0</td>\n",
       "      <td>Normal</td>\n",
       "      <td>113</td>\n",
       "      <td>Y</td>\n",
       "      <td>1.5</td>\n",
       "      <td>Flat</td>\n",
       "    </tr>\n",
       "    <tr>\n",
       "      <th>738</th>\n",
       "      <td>65</td>\n",
       "      <td>F</td>\n",
       "      <td>NAP</td>\n",
       "      <td>160</td>\n",
       "      <td>360</td>\n",
       "      <td>0</td>\n",
       "      <td>LVH</td>\n",
       "      <td>151</td>\n",
       "      <td>N</td>\n",
       "      <td>0.8</td>\n",
       "      <td>Up</td>\n",
       "    </tr>\n",
       "    <tr>\n",
       "      <th>85</th>\n",
       "      <td>66</td>\n",
       "      <td>M</td>\n",
       "      <td>ASY</td>\n",
       "      <td>140</td>\n",
       "      <td>139</td>\n",
       "      <td>0</td>\n",
       "      <td>Normal</td>\n",
       "      <td>94</td>\n",
       "      <td>Y</td>\n",
       "      <td>1.0</td>\n",
       "      <td>Flat</td>\n",
       "    </tr>\n",
       "    <tr>\n",
       "      <th>427</th>\n",
       "      <td>59</td>\n",
       "      <td>M</td>\n",
       "      <td>ASY</td>\n",
       "      <td>140</td>\n",
       "      <td>0</td>\n",
       "      <td>0</td>\n",
       "      <td>ST</td>\n",
       "      <td>117</td>\n",
       "      <td>Y</td>\n",
       "      <td>1.0</td>\n",
       "      <td>Flat</td>\n",
       "    </tr>\n",
       "  </tbody>\n",
       "</table>\n",
       "</div>"
      ],
      "text/plain": [
       "     Age Sex ChestPainType  RestingBP  Cholesterol  FastingBS RestingECG  \\\n",
       "378   70   M           ASY        140            0          1     Normal   \n",
       "356   46   M           ASY        115            0          0     Normal   \n",
       "738   65   F           NAP        160          360          0        LVH   \n",
       "85    66   M           ASY        140          139          0     Normal   \n",
       "427   59   M           ASY        140            0          0         ST   \n",
       "\n",
       "     MaxHR ExerciseAngina  Oldpeak ST_Slope  \n",
       "378    157              Y      2.0     Flat  \n",
       "356    113              Y      1.5     Flat  \n",
       "738    151              N      0.8       Up  \n",
       "85      94              Y      1.0     Flat  \n",
       "427    117              Y      1.0     Flat  "
      ]
     },
     "execution_count": 5,
     "metadata": {},
     "output_type": "execute_result"
    }
   ],
   "source": [
    "X_train.head()"
   ]
  },
  {
   "cell_type": "markdown",
   "id": "4da85a8d-2eb6-4fe2-826d-da2b83ac6bdd",
   "metadata": {},
   "source": [
    "# Feature Engineering\n",
    "\n",
    "## Missing values\n",
    "\n",
    "Recall we had no null values but rather a recurrence of unusual 0 values in our Cholesterol and RestingBP variables. To correct this error, we will fill replace the zero values with the means of the respective variables.\n",
    "\n",
    "**NOTE:** Our mean computation will exclude the rows with 0 values, i.e. the total number of rows will be adjusted for only the rows with non-zero values.\n",
    "\n",
    "### Cholesterol"
   ]
  },
  {
   "cell_type": "code",
   "execution_count": 6,
   "id": "6bba5f8c-c58b-40f0-8cf5-738462496d48",
   "metadata": {},
   "outputs": [
    {
     "data": {
      "text/plain": [
       "242.8818635607321"
      ]
     },
     "execution_count": 6,
     "metadata": {},
     "output_type": "execute_result"
    }
   ],
   "source": [
    "# exclude non-zero rows\n",
    "tmp = X_train[X_train['Cholesterol']!=0]\n",
    "\n",
    "# grab the mean\n",
    "cholesterol_mean = tmp['Cholesterol'].mean()\n",
    "cholesterol_mean"
   ]
  },
  {
   "cell_type": "code",
   "execution_count": 7,
   "id": "2d5e5930-419f-41aa-a06e-91a6e36a4580",
   "metadata": {},
   "outputs": [],
   "source": [
    "# replace 0 values with the mean\n",
    "X_train['Cholesterol'] = np.where(X_train['Cholesterol']!=0,X_train['Cholesterol'],cholesterol_mean)\n",
    "X_test['Cholesterol'] = np.where(X_test['Cholesterol']!=0,X_test['Cholesterol'],cholesterol_mean)"
   ]
  },
  {
   "cell_type": "markdown",
   "id": "b9c78419-e50c-4a83-b8e3-4876acf3f6ce",
   "metadata": {},
   "source": [
    "### RestingBP"
   ]
  },
  {
   "cell_type": "code",
   "execution_count": 8,
   "id": "fc3d4b37-b8ed-4934-8fd9-7c7b9508a75c",
   "metadata": {},
   "outputs": [
    {
     "data": {
      "text/plain": [
       "132.72442019099591"
      ]
     },
     "execution_count": 8,
     "metadata": {},
     "output_type": "execute_result"
    }
   ],
   "source": [
    "# exclude non-zero rows\n",
    "tmp = X_train[X_train['RestingBP']!=0]\n",
    "\n",
    "# grab the mean\n",
    "restingbp_mean = tmp['RestingBP'].mean()\n",
    "restingbp_mean"
   ]
  },
  {
   "cell_type": "code",
   "execution_count": 9,
   "id": "f3843971-f589-47e6-a099-84295f95ee4c",
   "metadata": {},
   "outputs": [],
   "source": [
    "# replace 0 values with the mean\n",
    "X_train['RestingBP'] = np.where(X_train['RestingBP']!=0,X_train['RestingBP'],restingbp_mean)\n",
    "X_test['RestingBP'] = np.where(X_test['RestingBP']!=0,X_test['RestingBP'],restingbp_mean)"
   ]
  },
  {
   "cell_type": "markdown",
   "id": "c1b34d48-73a0-49c5-ae88-efeb1754059d",
   "metadata": {
    "tags": []
   },
   "source": [
    "## Categorical Variables\n",
    "\n",
    "A common operation with categorical variables is to map non-binary variables by their assigned order if they happen to be ordinal. Ordinality for our variables would have to be determined by domain knowledge which we currently do not have. In place of that, we can assign ordinality based on the the rate of heart disease per label in the category.\n",
    "\n",
    "For the binary variables, we will go ahead and one-hot encode them. This operation is typically done after removing rare labels but our variables have no rare labels.\n",
    "\n",
    "### Encoding of categorical variables\n",
    "\n",
    "#### Binary variables\n",
    "\n",
    "We will now transform the strings of our binary variables into numbers."
   ]
  },
  {
   "cell_type": "code",
   "execution_count": 10,
   "id": "35d6f3dd-3af5-4c14-82a2-5418b3d6d568",
   "metadata": {},
   "outputs": [
    {
     "data": {
      "text/plain": [
       "306    N\n",
       "711    N\n",
       "298    N\n",
       "466    Y\n",
       "253    N\n",
       "Name: ExerciseAngina, dtype: object"
      ]
     },
     "execution_count": 10,
     "metadata": {},
     "output_type": "execute_result"
    }
   ],
   "source": [
    "X_test['ExerciseAngina'].head()"
   ]
  },
  {
   "cell_type": "code",
   "execution_count": 11,
   "id": "5d165527-e025-4edf-8a5d-aa18100ff977",
   "metadata": {},
   "outputs": [],
   "source": [
    "binary = ['Sex', 'ExerciseAngina', 'FastingBS']\n",
    "\n",
    "# cast all binary variables as categorical\n",
    "# FastingBS is recorded as int\n",
    "X_train[binary] = X_train[binary].astype(str)\n",
    "X_test[binary] = X_test[binary].astype(str)"
   ]
  },
  {
   "cell_type": "code",
   "execution_count": 12,
   "id": "5332cc71-cc67-47fc-a282-3cd294c084ca",
   "metadata": {},
   "outputs": [
    {
     "data": {
      "text/html": [
       "<div>\n",
       "<style scoped>\n",
       "    .dataframe tbody tr th:only-of-type {\n",
       "        vertical-align: middle;\n",
       "    }\n",
       "\n",
       "    .dataframe tbody tr th {\n",
       "        vertical-align: top;\n",
       "    }\n",
       "\n",
       "    .dataframe thead th {\n",
       "        text-align: right;\n",
       "    }\n",
       "</style>\n",
       "<table border=\"1\" class=\"dataframe\">\n",
       "  <thead>\n",
       "    <tr style=\"text-align: right;\">\n",
       "      <th></th>\n",
       "      <th>Sex</th>\n",
       "      <th>ExerciseAngina</th>\n",
       "      <th>FastingBS</th>\n",
       "    </tr>\n",
       "  </thead>\n",
       "  <tbody>\n",
       "    <tr>\n",
       "      <th>378</th>\n",
       "      <td>M</td>\n",
       "      <td>Y</td>\n",
       "      <td>1</td>\n",
       "    </tr>\n",
       "    <tr>\n",
       "      <th>356</th>\n",
       "      <td>M</td>\n",
       "      <td>Y</td>\n",
       "      <td>0</td>\n",
       "    </tr>\n",
       "    <tr>\n",
       "      <th>738</th>\n",
       "      <td>F</td>\n",
       "      <td>N</td>\n",
       "      <td>0</td>\n",
       "    </tr>\n",
       "    <tr>\n",
       "      <th>85</th>\n",
       "      <td>M</td>\n",
       "      <td>Y</td>\n",
       "      <td>0</td>\n",
       "    </tr>\n",
       "    <tr>\n",
       "      <th>427</th>\n",
       "      <td>M</td>\n",
       "      <td>Y</td>\n",
       "      <td>0</td>\n",
       "    </tr>\n",
       "  </tbody>\n",
       "</table>\n",
       "</div>"
      ],
      "text/plain": [
       "    Sex ExerciseAngina FastingBS\n",
       "378   M              Y         1\n",
       "356   M              Y         0\n",
       "738   F              N         0\n",
       "85    M              Y         0\n",
       "427   M              Y         0"
      ]
     },
     "execution_count": 12,
     "metadata": {},
     "output_type": "execute_result"
    }
   ],
   "source": [
    "X_train[binary].head()"
   ]
  },
  {
   "cell_type": "code",
   "execution_count": 13,
   "id": "4f0cb939-798e-4414-a275-6ac38446bd6b",
   "metadata": {},
   "outputs": [],
   "source": [
    "# function to encode categorical variables\n",
    "\n",
    "def category_encoder(X,variables):\n",
    "        \n",
    "        # loop over each feature in the list\n",
    "        for feature in variables:\n",
    "            \n",
    "            dummies = pd.get_dummies(X[feature],drop_first=True) # grab the dummies\n",
    "            for column in dummies.columns: # loop over the columns in the dummies dataframe\n",
    "                dummies = dummies.rename(columns={column:feature + '_' + column}) # affix the feature name to the column name to make it easily identifiable\n",
    "            X = pd.concat([X,dummies],axis=1) # concat the dummy to the original dataframe\n",
    "            X = X.drop(feature,axis=1) # drop the string column\n",
    "        return X # return the dataframe"
   ]
  },
  {
   "cell_type": "code",
   "execution_count": 14,
   "id": "d0ef4a0e-aadd-4cd7-a568-75ce9a8b76b0",
   "metadata": {},
   "outputs": [],
   "source": [
    "X_train = category_encoder(X_train,binary)\n",
    "X_test = category_encoder(X_test,binary)"
   ]
  },
  {
   "cell_type": "markdown",
   "id": "f3cc497f-0708-4241-8eff-0438590b8e32",
   "metadata": {},
   "source": [
    "A common issue with drop-one operations during one-hot encoding for binary variables is new variables in the train set may not be replicated in the test set. This suggests the original variable the encoded variables came from could quasi-constant features. \n",
    "\n",
    "It is always best to check for this disparity after one-hot encoding and dropping the variable entirely if the disparity exists."
   ]
  },
  {
   "cell_type": "code",
   "execution_count": 15,
   "id": "0de78310-2394-4547-ad3d-321e6ac22e5f",
   "metadata": {},
   "outputs": [],
   "source": [
    "# sanity check after drop-one operation\n",
    "for feat in X_train.columns:\n",
    "    if feat not in X_test.columns:\n",
    "        print(feat)"
   ]
  },
  {
   "cell_type": "markdown",
   "id": "179994d5-52fc-408d-90c8-6c74c5a8e39f",
   "metadata": {},
   "source": [
    "We don't have any disparity in features between the train and test set."
   ]
  },
  {
   "cell_type": "markdown",
   "id": "28e5f78a-0165-4cdd-b2dd-30ad35a0d320",
   "metadata": {},
   "source": [
    "#### Non-binary variables"
   ]
  },
  {
   "cell_type": "code",
   "execution_count": 16,
   "id": "7d4f3dea-17c7-49ef-9a56-2ab78e5b01be",
   "metadata": {},
   "outputs": [],
   "source": [
    "non_binary = ['ChestPainType', 'RestingECG', 'ST_Slope']"
   ]
  },
  {
   "cell_type": "code",
   "execution_count": 17,
   "id": "d20470b3-9292-49a2-9c0b-c5b4b2ed3398",
   "metadata": {},
   "outputs": [
    {
     "data": {
      "text/plain": [
       "ASY    391\n",
       "NAP    162\n",
       "ATA    145\n",
       "TA      36\n",
       "Name: ChestPainType, dtype: int64"
      ]
     },
     "execution_count": 17,
     "metadata": {},
     "output_type": "execute_result"
    }
   ],
   "source": [
    "X_train['ChestPainType'].value_counts()"
   ]
  },
  {
   "cell_type": "code",
   "execution_count": 18,
   "id": "7178e8e1-c73a-4bfe-8ad0-f31506d28579",
   "metadata": {},
   "outputs": [],
   "source": [
    "train = pd.concat([X_train,y_train],axis=1)"
   ]
  },
  {
   "cell_type": "code",
   "execution_count": 19,
   "id": "17a957c0-7ecd-40b6-96d5-879e6bb19b79",
   "metadata": {},
   "outputs": [
    {
     "name": "stdout",
     "output_type": "stream",
     "text": [
      "ChestPainType {'ATA': 1, 'NAP': 2, 'TA': 3, 'ASY': 4}\n",
      "\n",
      "RestingECG {'Normal': 1, 'LVH': 2, 'ST': 3}\n",
      "\n",
      "ST_Slope {'Up': 1, 'Down': 2, 'Flat': 3}\n",
      "\n"
     ]
    }
   ],
   "source": [
    "# empty dictionary to store the parameters of the variables\n",
    "params = {'ChestPainType': {},\n",
    "     'RestingECG': {},\n",
    "     'ST_Slope': {}}\n",
    "\n",
    "# fit: grab and persist parameters to the dictionary\n",
    "# NOTE: the parameters are the heart disease rates per label in the category\n",
    "for column in non_binary:\n",
    "    for label in train[column].unique():\n",
    "        label_disease = len(train[(train[column]==label) & (train['HeartDisease']==1)])\n",
    "        label_size = len(train[train[column]==label])\n",
    "        params[column][label] = label_disease / label_size\n",
    "        \n",
    "# transform: re-categorise variables with saved parameters\n",
    "    labels = pd.Series(params[column])\n",
    "    ordered_labels = labels.sort_values().index\n",
    "    ordinal_label = {k: i for i, k in enumerate(ordered_labels, 1)}\n",
    "    \n",
    "    print(column, ordinal_label)\n",
    "    print()\n",
    "    \n",
    "    X_train[column] = X_train[column].map(ordinal_label)\n",
    "    X_test[column] = X_test[column].map(ordinal_label)"
   ]
  },
  {
   "cell_type": "code",
   "execution_count": 20,
   "id": "0c9e5af6-d35a-4e91-b3a0-0bb01ef857cc",
   "metadata": {},
   "outputs": [
    {
     "data": {
      "text/plain": [
       "{'ChestPainType': {'ASY': 0.7851662404092071,\n",
       "  'NAP': 0.35185185185185186,\n",
       "  'TA': 0.5,\n",
       "  'ATA': 0.1310344827586207},\n",
       " 'RestingECG': {'Normal': 0.5146067415730337,\n",
       "  'LVH': 0.5625,\n",
       "  'ST': 0.6275862068965518},\n",
       " 'ST_Slope': {'Flat': 0.8351648351648352,\n",
       "  'Up': 0.1761006289308176,\n",
       "  'Down': 0.7884615384615384}}"
      ]
     },
     "execution_count": 20,
     "metadata": {},
     "output_type": "execute_result"
    }
   ],
   "source": [
    "# print out the persisted parameters\n",
    "params"
   ]
  },
  {
   "cell_type": "code",
   "execution_count": 21,
   "id": "8a7fc5d5-8108-4329-9243-291a4054fcad",
   "metadata": {},
   "outputs": [
    {
     "data": {
      "text/html": [
       "<div>\n",
       "<style scoped>\n",
       "    .dataframe tbody tr th:only-of-type {\n",
       "        vertical-align: middle;\n",
       "    }\n",
       "\n",
       "    .dataframe tbody tr th {\n",
       "        vertical-align: top;\n",
       "    }\n",
       "\n",
       "    .dataframe thead th {\n",
       "        text-align: right;\n",
       "    }\n",
       "</style>\n",
       "<table border=\"1\" class=\"dataframe\">\n",
       "  <thead>\n",
       "    <tr style=\"text-align: right;\">\n",
       "      <th></th>\n",
       "      <th>Age</th>\n",
       "      <th>ChestPainType</th>\n",
       "      <th>RestingBP</th>\n",
       "      <th>Cholesterol</th>\n",
       "      <th>RestingECG</th>\n",
       "      <th>MaxHR</th>\n",
       "      <th>Oldpeak</th>\n",
       "      <th>ST_Slope</th>\n",
       "      <th>Sex_M</th>\n",
       "      <th>ExerciseAngina_Y</th>\n",
       "      <th>FastingBS_1</th>\n",
       "    </tr>\n",
       "  </thead>\n",
       "  <tbody>\n",
       "    <tr>\n",
       "      <th>378</th>\n",
       "      <td>70</td>\n",
       "      <td>4</td>\n",
       "      <td>140.0</td>\n",
       "      <td>242.881864</td>\n",
       "      <td>1</td>\n",
       "      <td>157</td>\n",
       "      <td>2.0</td>\n",
       "      <td>3</td>\n",
       "      <td>1</td>\n",
       "      <td>1</td>\n",
       "      <td>1</td>\n",
       "    </tr>\n",
       "    <tr>\n",
       "      <th>356</th>\n",
       "      <td>46</td>\n",
       "      <td>4</td>\n",
       "      <td>115.0</td>\n",
       "      <td>242.881864</td>\n",
       "      <td>1</td>\n",
       "      <td>113</td>\n",
       "      <td>1.5</td>\n",
       "      <td>3</td>\n",
       "      <td>1</td>\n",
       "      <td>1</td>\n",
       "      <td>0</td>\n",
       "    </tr>\n",
       "    <tr>\n",
       "      <th>738</th>\n",
       "      <td>65</td>\n",
       "      <td>2</td>\n",
       "      <td>160.0</td>\n",
       "      <td>360.000000</td>\n",
       "      <td>2</td>\n",
       "      <td>151</td>\n",
       "      <td>0.8</td>\n",
       "      <td>1</td>\n",
       "      <td>0</td>\n",
       "      <td>0</td>\n",
       "      <td>0</td>\n",
       "    </tr>\n",
       "    <tr>\n",
       "      <th>85</th>\n",
       "      <td>66</td>\n",
       "      <td>4</td>\n",
       "      <td>140.0</td>\n",
       "      <td>139.000000</td>\n",
       "      <td>1</td>\n",
       "      <td>94</td>\n",
       "      <td>1.0</td>\n",
       "      <td>3</td>\n",
       "      <td>1</td>\n",
       "      <td>1</td>\n",
       "      <td>0</td>\n",
       "    </tr>\n",
       "    <tr>\n",
       "      <th>427</th>\n",
       "      <td>59</td>\n",
       "      <td>4</td>\n",
       "      <td>140.0</td>\n",
       "      <td>242.881864</td>\n",
       "      <td>3</td>\n",
       "      <td>117</td>\n",
       "      <td>1.0</td>\n",
       "      <td>3</td>\n",
       "      <td>1</td>\n",
       "      <td>1</td>\n",
       "      <td>0</td>\n",
       "    </tr>\n",
       "  </tbody>\n",
       "</table>\n",
       "</div>"
      ],
      "text/plain": [
       "     Age  ChestPainType  RestingBP  Cholesterol  RestingECG  MaxHR  Oldpeak  \\\n",
       "378   70              4      140.0   242.881864           1    157      2.0   \n",
       "356   46              4      115.0   242.881864           1    113      1.5   \n",
       "738   65              2      160.0   360.000000           2    151      0.8   \n",
       "85    66              4      140.0   139.000000           1     94      1.0   \n",
       "427   59              4      140.0   242.881864           3    117      1.0   \n",
       "\n",
       "     ST_Slope  Sex_M  ExerciseAngina_Y  FastingBS_1  \n",
       "378         3      1                 1            1  \n",
       "356         3      1                 1            0  \n",
       "738         1      0                 0            0  \n",
       "85          3      1                 1            0  \n",
       "427         3      1                 1            0  "
      ]
     },
     "execution_count": 21,
     "metadata": {},
     "output_type": "execute_result"
    }
   ],
   "source": [
    "# visualise the dataframe to confirm the transformations\n",
    "X_train.head()"
   ]
  },
  {
   "cell_type": "code",
   "execution_count": 22,
   "id": "6eeda08a-8415-4921-9aa3-0ef92a9326e5",
   "metadata": {},
   "outputs": [],
   "source": [
    "# let's now save the train and test sets for the next notebook!\n",
    "\n",
    "X_train.to_csv('xtrain_unscaled.csv', index=False)\n",
    "X_test.to_csv('xtest_unscaled.csv', index=False)\n",
    "\n",
    "y_train.to_csv('ytrain.csv', index=False)\n",
    "y_test.to_csv('ytest.csv', index=False)"
   ]
  },
  {
   "cell_type": "code",
   "execution_count": null,
   "id": "b793c4e2-7c87-4b2c-94b0-d5d898e7b5a9",
   "metadata": {},
   "outputs": [],
   "source": []
  }
 ],
 "metadata": {
  "kernelspec": {
   "display_name": "Python 3 (ipykernel)",
   "language": "python",
   "name": "python3"
  },
  "language_info": {
   "codemirror_mode": {
    "name": "ipython",
    "version": 3
   },
   "file_extension": ".py",
   "mimetype": "text/x-python",
   "name": "python",
   "nbconvert_exporter": "python",
   "pygments_lexer": "ipython3",
   "version": "3.9.7"
  }
 },
 "nbformat": 4,
 "nbformat_minor": 5
}
