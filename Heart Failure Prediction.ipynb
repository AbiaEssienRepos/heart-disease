{
 "cells": [
  {
   "cell_type": "markdown",
   "id": "416ef619",
   "metadata": {},
   "source": [
    "## Problem Statement:\n",
    "\n",
    "Cardiovascular diseases (CVDs) are the number 1 cause of death globally, taking an estimated 17.9 million lives each year, which accounts for 31% of all deaths worldwide. Four out of 5CVD deaths are due to heart attacks and strokes, and one-third of these deaths occur prematurely in people under 70 years of age. Heart failure is a common event caused by CVDs and this dataset contains 11 features that can be used to predict a possible heart disease.\n",
    "\n",
    "People with cardiovascular disease or who are at high cardiovascular risk (due to the presence of one or more risk factors such as hypertension, diabetes, hyperlipidaemia or already established disease) need early detection and management wherein a machine learning model can be of great help.\n",
    "\n",
    "The \"HeartDisease\" column contains our label."
   ]
  },
  {
   "cell_type": "markdown",
   "id": "3714f15f",
   "metadata": {},
   "source": [
    "### Data Overview"
   ]
  },
  {
   "cell_type": "markdown",
   "id": "ddbe89f8",
   "metadata": {},
   "source": [
    "----\n",
    "-----\n",
    "Here is the information on this particular data set:\n",
    "\n",
    "<table border=\"1\" class=\"dataframe\">\n",
    "  <thead>\n",
    "    <tr style=\"text-align: right;\">\n",
    "      <th></th>\n",
    "      <th>Feature</th>\n",
    "      <th>Description</th>\n",
    "    </tr>\n",
    "  </thead>\n",
    "  <tbody>\n",
    "    <tr>\n",
    "      <th>0</th>\n",
    "      <td>Age</td>\n",
    "      <td>age of the patient [years]</td>\n",
    "    </tr>\n",
    "    <tr>\n",
    "      <th>1</th>\n",
    "      <td>Sex</td>\n",
    "      <td>sex of the patient [M: Male, F: Female]</td>\n",
    "    </tr>\n",
    "    <tr>\n",
    "      <th>2</th>\n",
    "      <td>ChestPainType</td>\n",
    "      <td>chest pain type [TA: Typical Angina, ATA: Atypical Angina, NAP: Non-Anginal Pain, ASY: Asymptomatic]</td>\n",
    "    </tr>\n",
    "    <tr>\n",
    "      <th>3</th>\n",
    "      <td>RestingBP</td>\n",
    "      <td>resting blood pressure [mm Hg]</td>\n",
    "    </tr>\n",
    "    <tr>\n",
    "      <th>4</th>\n",
    "      <td>Cholesterol</td>\n",
    "      <td>serum cholesterol [mm/dl]</td>\n",
    "    </tr>\n",
    "    <tr>\n",
    "      <th>5</th>\n",
    "      <td>FastingBS</td>\n",
    "      <td>fasting blood sugar [1: if FastingBS > 120 mg/dl, 0: otherwise]</td>\n",
    "    </tr>\n",
    "    <tr>\n",
    "      <th>6</th>\n",
    "      <td>RestingRCG</td>\n",
    "      <td>resting electrocardiogram results [Normal: Normal, ST: having ST-T wave abnormality (T wave inversions and/or ST elevation or depression of > 0.05 mV), LVH: showing probable or definite left ventricular hypertrophy by Estes' criteria]</td>\n",
    "    </tr>\n",
    "    <tr>\n",
    "      <th>7</th>\n",
    "      <td>MaxHR</td>\n",
    "      <td>maximum heart rate achieved [Numeric value between 60 and 202]</td>\n",
    "    </tr>\n",
    "    <tr>\n",
    "      <th>8</th>\n",
    "      <td>ExerciseAngina</td>\n",
    "      <td>exercise-induced angina [Y: Yes, N: No]</td>\n",
    "    </tr>\n",
    "    <tr>\n",
    "      <th>9</th>\n",
    "      <td>Oldpeak</td>\n",
    "      <td>ST [Numeric value measured in depression]</td>\n",
    "    </tr>\n",
    "    <tr>\n",
    "      <th>10</th>\n",
    "      <td>ST_Slope</td>\n",
    "      <td>the slope of the peak exercise ST segment [Up: upsloping, Flat: flat, Down: downsloping]</td>\n",
    "    </tr>\n",
    "    <tr>\n",
    "      <th>11</th>\n",
    "      <td>HeartDisease</td>\n",
    "      <td>output class [1: heart disease, 0: Normal]</td>\n",
    "    </tr>\n",
    "  </tbody>\n",
    "</table>\n",
    "\n",
    "---\n",
    "----"
   ]
  },
  {
   "cell_type": "markdown",
   "id": "8eb3cc6a",
   "metadata": {},
   "source": [
    "LET'S GET STARTED!!!!"
   ]
  },
  {
   "cell_type": "markdown",
   "id": "9d5a978c",
   "metadata": {},
   "source": [
    "### Library Imports:"
   ]
  },
  {
   "cell_type": "code",
   "execution_count": 1,
   "id": "d7a7016b",
   "metadata": {},
   "outputs": [],
   "source": [
    "import pandas as pd"
   ]
  },
  {
   "cell_type": "code",
   "execution_count": 2,
   "id": "2af5449e",
   "metadata": {},
   "outputs": [],
   "source": [
    "import numpy as np"
   ]
  },
  {
   "cell_type": "code",
   "execution_count": 3,
   "id": "310fec74",
   "metadata": {},
   "outputs": [],
   "source": [
    "import matplotlib.pyplot as plt"
   ]
  },
  {
   "cell_type": "code",
   "execution_count": 4,
   "id": "fb6591d4",
   "metadata": {},
   "outputs": [],
   "source": [
    "%matplotlib inline"
   ]
  },
  {
   "cell_type": "code",
   "execution_count": 5,
   "id": "f6a340ea",
   "metadata": {},
   "outputs": [],
   "source": [
    "import seaborn as sns"
   ]
  },
  {
   "cell_type": "markdown",
   "id": "c3385dbe",
   "metadata": {},
   "source": [
    "### Starter Code\n",
    "\n",
    "#### Note: Feature information on the data has been provided as a .csv file for easy lookup throughout the notebook:"
   ]
  },
  {
   "cell_type": "code",
   "execution_count": 6,
   "id": "67595a00",
   "metadata": {},
   "outputs": [],
   "source": [
    "info = pd.read_csv('heart_info.csv',index_col='Feature')"
   ]
  },
  {
   "cell_type": "markdown",
   "id": "06986a92",
   "metadata": {},
   "source": [
    "To grab the description of 'ChestPainType', for instance:"
   ]
  },
  {
   "cell_type": "code",
   "execution_count": 7,
   "id": "894a7af7",
   "metadata": {},
   "outputs": [
    {
     "name": "stdout",
     "output_type": "stream",
     "text": [
      "chest pain type [TA: Typical Angina, ATA: Atypical Angina, NAP: Non-Anginal Pain, ASY: Asymptomatic]\n"
     ]
    }
   ],
   "source": [
    "print(info.loc['ChestPainType']['Description'])"
   ]
  },
  {
   "cell_type": "markdown",
   "id": "e61f1c76",
   "metadata": {},
   "source": [
    "To make grabbing descriptions easier, we can create a function:"
   ]
  },
  {
   "cell_type": "code",
   "execution_count": 8,
   "id": "af0e8826",
   "metadata": {},
   "outputs": [],
   "source": [
    "def feat_info(feature):\n",
    "    print(info.loc[feature]['Description'])"
   ]
  },
  {
   "cell_type": "code",
   "execution_count": 9,
   "id": "b6c7bafc",
   "metadata": {},
   "outputs": [
    {
     "name": "stdout",
     "output_type": "stream",
     "text": [
      "chest pain type [TA: Typical Angina, ATA: Atypical Angina, NAP: Non-Anginal Pain, ASY: Asymptomatic]\n"
     ]
    }
   ],
   "source": [
    "feat_info('ChestPainType')"
   ]
  },
  {
   "cell_type": "markdown",
   "id": "01eea9d3",
   "metadata": {},
   "source": [
    "### Loading the data"
   ]
  },
  {
   "cell_type": "code",
   "execution_count": 10,
   "id": "c4d12a05",
   "metadata": {},
   "outputs": [],
   "source": [
    "heart = pd.read_csv('heart.csv')"
   ]
  },
  {
   "cell_type": "code",
   "execution_count": 11,
   "id": "6690e679",
   "metadata": {},
   "outputs": [
    {
     "data": {
      "text/html": [
       "<div>\n",
       "<style scoped>\n",
       "    .dataframe tbody tr th:only-of-type {\n",
       "        vertical-align: middle;\n",
       "    }\n",
       "\n",
       "    .dataframe tbody tr th {\n",
       "        vertical-align: top;\n",
       "    }\n",
       "\n",
       "    .dataframe thead th {\n",
       "        text-align: right;\n",
       "    }\n",
       "</style>\n",
       "<table border=\"1\" class=\"dataframe\">\n",
       "  <thead>\n",
       "    <tr style=\"text-align: right;\">\n",
       "      <th></th>\n",
       "      <th>Age</th>\n",
       "      <th>Sex</th>\n",
       "      <th>ChestPainType</th>\n",
       "      <th>RestingBP</th>\n",
       "      <th>Cholesterol</th>\n",
       "      <th>FastingBS</th>\n",
       "      <th>RestingECG</th>\n",
       "      <th>MaxHR</th>\n",
       "      <th>ExerciseAngina</th>\n",
       "      <th>Oldpeak</th>\n",
       "      <th>ST_Slope</th>\n",
       "      <th>HeartDisease</th>\n",
       "    </tr>\n",
       "  </thead>\n",
       "  <tbody>\n",
       "    <tr>\n",
       "      <th>0</th>\n",
       "      <td>40</td>\n",
       "      <td>M</td>\n",
       "      <td>ATA</td>\n",
       "      <td>140</td>\n",
       "      <td>289</td>\n",
       "      <td>0</td>\n",
       "      <td>Normal</td>\n",
       "      <td>172</td>\n",
       "      <td>N</td>\n",
       "      <td>0.0</td>\n",
       "      <td>Up</td>\n",
       "      <td>0</td>\n",
       "    </tr>\n",
       "    <tr>\n",
       "      <th>1</th>\n",
       "      <td>49</td>\n",
       "      <td>F</td>\n",
       "      <td>NAP</td>\n",
       "      <td>160</td>\n",
       "      <td>180</td>\n",
       "      <td>0</td>\n",
       "      <td>Normal</td>\n",
       "      <td>156</td>\n",
       "      <td>N</td>\n",
       "      <td>1.0</td>\n",
       "      <td>Flat</td>\n",
       "      <td>1</td>\n",
       "    </tr>\n",
       "    <tr>\n",
       "      <th>2</th>\n",
       "      <td>37</td>\n",
       "      <td>M</td>\n",
       "      <td>ATA</td>\n",
       "      <td>130</td>\n",
       "      <td>283</td>\n",
       "      <td>0</td>\n",
       "      <td>ST</td>\n",
       "      <td>98</td>\n",
       "      <td>N</td>\n",
       "      <td>0.0</td>\n",
       "      <td>Up</td>\n",
       "      <td>0</td>\n",
       "    </tr>\n",
       "    <tr>\n",
       "      <th>3</th>\n",
       "      <td>48</td>\n",
       "      <td>F</td>\n",
       "      <td>ASY</td>\n",
       "      <td>138</td>\n",
       "      <td>214</td>\n",
       "      <td>0</td>\n",
       "      <td>Normal</td>\n",
       "      <td>108</td>\n",
       "      <td>Y</td>\n",
       "      <td>1.5</td>\n",
       "      <td>Flat</td>\n",
       "      <td>1</td>\n",
       "    </tr>\n",
       "    <tr>\n",
       "      <th>4</th>\n",
       "      <td>54</td>\n",
       "      <td>M</td>\n",
       "      <td>NAP</td>\n",
       "      <td>150</td>\n",
       "      <td>195</td>\n",
       "      <td>0</td>\n",
       "      <td>Normal</td>\n",
       "      <td>122</td>\n",
       "      <td>N</td>\n",
       "      <td>0.0</td>\n",
       "      <td>Up</td>\n",
       "      <td>0</td>\n",
       "    </tr>\n",
       "  </tbody>\n",
       "</table>\n",
       "</div>"
      ],
      "text/plain": [
       "   Age Sex ChestPainType  RestingBP  Cholesterol  FastingBS RestingECG  MaxHR  \\\n",
       "0   40   M           ATA        140          289          0     Normal    172   \n",
       "1   49   F           NAP        160          180          0     Normal    156   \n",
       "2   37   M           ATA        130          283          0         ST     98   \n",
       "3   48   F           ASY        138          214          0     Normal    108   \n",
       "4   54   M           NAP        150          195          0     Normal    122   \n",
       "\n",
       "  ExerciseAngina  Oldpeak ST_Slope  HeartDisease  \n",
       "0              N      0.0       Up             0  \n",
       "1              N      1.0     Flat             1  \n",
       "2              N      0.0       Up             0  \n",
       "3              Y      1.5     Flat             1  \n",
       "4              N      0.0       Up             0  "
      ]
     },
     "execution_count": 11,
     "metadata": {},
     "output_type": "execute_result"
    }
   ],
   "source": [
    "heart.head()"
   ]
  },
  {
   "cell_type": "code",
   "execution_count": 12,
   "id": "2f3f13f9",
   "metadata": {},
   "outputs": [
    {
     "data": {
      "text/plain": [
       "Index(['Age', 'Sex', 'ChestPainType', 'RestingBP', 'Cholesterol', 'FastingBS',\n",
       "       'RestingECG', 'MaxHR', 'ExerciseAngina', 'Oldpeak', 'ST_Slope',\n",
       "       'HeartDisease'],\n",
       "      dtype='object')"
      ]
     },
     "execution_count": 12,
     "metadata": {},
     "output_type": "execute_result"
    }
   ],
   "source": [
    "heart.columns"
   ]
  },
  {
   "cell_type": "code",
   "execution_count": 13,
   "id": "b143a4b7",
   "metadata": {},
   "outputs": [
    {
     "data": {
      "text/plain": [
       "(918, 12)"
      ]
     },
     "execution_count": 13,
     "metadata": {},
     "output_type": "execute_result"
    }
   ],
   "source": [
    "heart.shape"
   ]
  },
  {
   "cell_type": "code",
   "execution_count": 14,
   "id": "e07beb73",
   "metadata": {},
   "outputs": [
    {
     "data": {
      "text/html": [
       "<div>\n",
       "<style scoped>\n",
       "    .dataframe tbody tr th:only-of-type {\n",
       "        vertical-align: middle;\n",
       "    }\n",
       "\n",
       "    .dataframe tbody tr th {\n",
       "        vertical-align: top;\n",
       "    }\n",
       "\n",
       "    .dataframe thead th {\n",
       "        text-align: right;\n",
       "    }\n",
       "</style>\n",
       "<table border=\"1\" class=\"dataframe\">\n",
       "  <thead>\n",
       "    <tr style=\"text-align: right;\">\n",
       "      <th></th>\n",
       "      <th>Age</th>\n",
       "      <th>RestingBP</th>\n",
       "      <th>Cholesterol</th>\n",
       "      <th>FastingBS</th>\n",
       "      <th>MaxHR</th>\n",
       "      <th>Oldpeak</th>\n",
       "      <th>HeartDisease</th>\n",
       "    </tr>\n",
       "  </thead>\n",
       "  <tbody>\n",
       "    <tr>\n",
       "      <th>count</th>\n",
       "      <td>918.000000</td>\n",
       "      <td>918.000000</td>\n",
       "      <td>918.000000</td>\n",
       "      <td>918.000000</td>\n",
       "      <td>918.000000</td>\n",
       "      <td>918.000000</td>\n",
       "      <td>918.000000</td>\n",
       "    </tr>\n",
       "    <tr>\n",
       "      <th>mean</th>\n",
       "      <td>53.510893</td>\n",
       "      <td>132.396514</td>\n",
       "      <td>198.799564</td>\n",
       "      <td>0.233115</td>\n",
       "      <td>136.809368</td>\n",
       "      <td>0.887364</td>\n",
       "      <td>0.553377</td>\n",
       "    </tr>\n",
       "    <tr>\n",
       "      <th>std</th>\n",
       "      <td>9.432617</td>\n",
       "      <td>18.514154</td>\n",
       "      <td>109.384145</td>\n",
       "      <td>0.423046</td>\n",
       "      <td>25.460334</td>\n",
       "      <td>1.066570</td>\n",
       "      <td>0.497414</td>\n",
       "    </tr>\n",
       "    <tr>\n",
       "      <th>min</th>\n",
       "      <td>28.000000</td>\n",
       "      <td>0.000000</td>\n",
       "      <td>0.000000</td>\n",
       "      <td>0.000000</td>\n",
       "      <td>60.000000</td>\n",
       "      <td>-2.600000</td>\n",
       "      <td>0.000000</td>\n",
       "    </tr>\n",
       "    <tr>\n",
       "      <th>25%</th>\n",
       "      <td>47.000000</td>\n",
       "      <td>120.000000</td>\n",
       "      <td>173.250000</td>\n",
       "      <td>0.000000</td>\n",
       "      <td>120.000000</td>\n",
       "      <td>0.000000</td>\n",
       "      <td>0.000000</td>\n",
       "    </tr>\n",
       "    <tr>\n",
       "      <th>50%</th>\n",
       "      <td>54.000000</td>\n",
       "      <td>130.000000</td>\n",
       "      <td>223.000000</td>\n",
       "      <td>0.000000</td>\n",
       "      <td>138.000000</td>\n",
       "      <td>0.600000</td>\n",
       "      <td>1.000000</td>\n",
       "    </tr>\n",
       "    <tr>\n",
       "      <th>75%</th>\n",
       "      <td>60.000000</td>\n",
       "      <td>140.000000</td>\n",
       "      <td>267.000000</td>\n",
       "      <td>0.000000</td>\n",
       "      <td>156.000000</td>\n",
       "      <td>1.500000</td>\n",
       "      <td>1.000000</td>\n",
       "    </tr>\n",
       "    <tr>\n",
       "      <th>max</th>\n",
       "      <td>77.000000</td>\n",
       "      <td>200.000000</td>\n",
       "      <td>603.000000</td>\n",
       "      <td>1.000000</td>\n",
       "      <td>202.000000</td>\n",
       "      <td>6.200000</td>\n",
       "      <td>1.000000</td>\n",
       "    </tr>\n",
       "  </tbody>\n",
       "</table>\n",
       "</div>"
      ],
      "text/plain": [
       "              Age   RestingBP  Cholesterol   FastingBS       MaxHR  \\\n",
       "count  918.000000  918.000000   918.000000  918.000000  918.000000   \n",
       "mean    53.510893  132.396514   198.799564    0.233115  136.809368   \n",
       "std      9.432617   18.514154   109.384145    0.423046   25.460334   \n",
       "min     28.000000    0.000000     0.000000    0.000000   60.000000   \n",
       "25%     47.000000  120.000000   173.250000    0.000000  120.000000   \n",
       "50%     54.000000  130.000000   223.000000    0.000000  138.000000   \n",
       "75%     60.000000  140.000000   267.000000    0.000000  156.000000   \n",
       "max     77.000000  200.000000   603.000000    1.000000  202.000000   \n",
       "\n",
       "          Oldpeak  HeartDisease  \n",
       "count  918.000000    918.000000  \n",
       "mean     0.887364      0.553377  \n",
       "std      1.066570      0.497414  \n",
       "min     -2.600000      0.000000  \n",
       "25%      0.000000      0.000000  \n",
       "50%      0.600000      1.000000  \n",
       "75%      1.500000      1.000000  \n",
       "max      6.200000      1.000000  "
      ]
     },
     "execution_count": 14,
     "metadata": {},
     "output_type": "execute_result"
    }
   ],
   "source": [
    "heart.describe()"
   ]
  },
  {
   "cell_type": "markdown",
   "id": "5d883e3a",
   "metadata": {},
   "source": [
    "## Section 1: Exploratory Data Analysis"
   ]
  },
  {
   "cell_type": "markdown",
   "id": "31982ff0",
   "metadata": {},
   "source": [
    "**Label Feature**"
   ]
  },
  {
   "cell_type": "markdown",
   "id": "f8870702",
   "metadata": {},
   "source": [
    "Let's visualise the countplot for the label (HeartDisease) considering we're trying to predict it."
   ]
  },
  {
   "cell_type": "code",
   "execution_count": 15,
   "id": "39345d79",
   "metadata": {},
   "outputs": [
    {
     "data": {
      "text/plain": [
       "<AxesSubplot:xlabel='HeartDisease', ylabel='count'>"
      ]
     },
     "execution_count": 15,
     "metadata": {},
     "output_type": "execute_result"
    },
    {
     "data": {
      "image/png": "[encoded data removed]",
      "text/plain": [
       "<Figure size 432x288 with 1 Axes>"
      ]
     },
     "metadata": {
      "needs_background": "light"
     },
     "output_type": "display_data"
    }
   ],
   "source": [
    "sns.countplot(x='HeartDisease',data=heart)"
   ]
  },
  {
   "cell_type": "markdown",
   "id": "a97d6d97",
   "metadata": {},
   "source": [
    "Number of Normal Heart Instances:"
   ]
  },
  {
   "cell_type": "code",
   "execution_count": 16,
   "id": "29fe5c01",
   "metadata": {},
   "outputs": [
    {
     "data": {
      "text/plain": [
       "410.0"
      ]
     },
     "execution_count": 16,
     "metadata": {},
     "output_type": "execute_result"
    }
   ],
   "source": [
    "heart[heart['HeartDisease']==0]['HeartDisease'].describe().loc['count']"
   ]
  },
  {
   "cell_type": "markdown",
   "id": "47946052",
   "metadata": {},
   "source": [
    "Number of Heart Failure Instances:"
   ]
  },
  {
   "cell_type": "code",
   "execution_count": 17,
   "id": "a74d805f",
   "metadata": {},
   "outputs": [
    {
     "data": {
      "text/plain": [
       "508.0"
      ]
     },
     "execution_count": 17,
     "metadata": {},
     "output_type": "execute_result"
    }
   ],
   "source": [
    "heart[heart['HeartDisease']==1]['HeartDisease'].describe().loc['count']"
   ]
  },
  {
   "cell_type": "markdown",
   "id": "a35611ea",
   "metadata": {},
   "source": [
    "This seems like a fairly balanced problem and we can expect to do well across the precision, recall and accuracy categories in our classification report eventually after learning and predicting. \n",
    "\n",
    "Our model would only be slighty more sensitive to classification erroes for the '0' class than it would for the '1' class."
   ]
  },
  {
   "cell_type": "markdown",
   "id": "90fdff39",
   "metadata": {},
   "source": [
    "**Distribution of the Continuous Features.**"
   ]
  },
  {
   "cell_type": "markdown",
   "id": "f84b8566",
   "metadata": {},
   "source": [
    "Let's identify the continous features:"
   ]
  },
  {
   "cell_type": "code",
   "execution_count": 18,
   "id": "a415608b",
   "metadata": {},
   "outputs": [
    {
     "data": {
      "text/html": [
       "<div>\n",
       "<style scoped>\n",
       "    .dataframe tbody tr th:only-of-type {\n",
       "        vertical-align: middle;\n",
       "    }\n",
       "\n",
       "    .dataframe tbody tr th {\n",
       "        vertical-align: top;\n",
       "    }\n",
       "\n",
       "    .dataframe thead th {\n",
       "        text-align: right;\n",
       "    }\n",
       "</style>\n",
       "<table border=\"1\" class=\"dataframe\">\n",
       "  <thead>\n",
       "    <tr style=\"text-align: right;\">\n",
       "      <th></th>\n",
       "      <th>Description</th>\n",
       "      <th>FeatureType</th>\n",
       "    </tr>\n",
       "    <tr>\n",
       "      <th>Feature</th>\n",
       "      <th></th>\n",
       "      <th></th>\n",
       "    </tr>\n",
       "  </thead>\n",
       "  <tbody>\n",
       "    <tr>\n",
       "      <th>Age</th>\n",
       "      <td>age of the patient [years]</td>\n",
       "      <td>Continuous</td>\n",
       "    </tr>\n",
       "    <tr>\n",
       "      <th>RestingBP</th>\n",
       "      <td>resting blood pressure [mm Hg]</td>\n",
       "      <td>Continuous</td>\n",
       "    </tr>\n",
       "    <tr>\n",
       "      <th>Cholesterol</th>\n",
       "      <td>serum cholesterol [mm/dl]</td>\n",
       "      <td>Continuous</td>\n",
       "    </tr>\n",
       "    <tr>\n",
       "      <th>MaxHR</th>\n",
       "      <td>maximum heart rate achieved [Numeric value bet...</td>\n",
       "      <td>Continuous</td>\n",
       "    </tr>\n",
       "    <tr>\n",
       "      <th>Oldpeak</th>\n",
       "      <td>ST [Numeric value measured in depression]</td>\n",
       "      <td>Continuous</td>\n",
       "    </tr>\n",
       "  </tbody>\n",
       "</table>\n",
       "</div>"
      ],
      "text/plain": [
       "                                                   Description FeatureType\n",
       "Feature                                                                   \n",
       "Age                                 age of the patient [years]  Continuous\n",
       "RestingBP                       resting blood pressure [mm Hg]  Continuous\n",
       "Cholesterol                          serum cholesterol [mm/dl]  Continuous\n",
       "MaxHR        maximum heart rate achieved [Numeric value bet...  Continuous\n",
       "Oldpeak              ST [Numeric value measured in depression]  Continuous"
      ]
     },
     "execution_count": 18,
     "metadata": {},
     "output_type": "execute_result"
    }
   ],
   "source": [
    "info[info['FeatureType']=='Continuous']"
   ]
  },
  {
   "cell_type": "markdown",
   "id": "3cfcda03",
   "metadata": {},
   "source": [
    "**Age:**"
   ]
  },
  {
   "cell_type": "code",
   "execution_count": 19,
   "id": "004fde46",
   "metadata": {},
   "outputs": [
    {
     "data": {
      "text/plain": [
       "<AxesSubplot:ylabel='Frequency'>"
      ]
     },
     "execution_count": 19,
     "metadata": {},
     "output_type": "execute_result"
    },
    {
     "data": {
      "image/png": "[encoded data removed]",
      "text/plain": [
       "<Figure size 432x288 with 1 Axes>"
      ]
     },
     "metadata": {
      "needs_background": "light"
     },
     "output_type": "display_data"
    }
   ],
   "source": [
    "heart['Age'].plot(kind='hist',bins=50)"
   ]
  },
  {
   "cell_type": "markdown",
   "id": "c3ac4f47",
   "metadata": {},
   "source": [
    "The data suggests quite a wide age net was cast. Perhaps, heart problems and failures are a condition across different ages. It does seem normally distributed, however, with a cluster/central tendency around age 55."
   ]
  },
  {
   "cell_type": "markdown",
   "id": "a6acc6dc",
   "metadata": {},
   "source": [
    "Let's see if heart failures are a common condition with certain age groups:"
   ]
  },
  {
   "cell_type": "code",
   "execution_count": 20,
   "id": "87105e8c",
   "metadata": {},
   "outputs": [
    {
     "data": {
      "text/plain": [
       "<seaborn.axisgrid.FacetGrid at 0x11a5fea90>"
      ]
     },
     "execution_count": 20,
     "metadata": {},
     "output_type": "execute_result"
    },
    {
     "data": {
      "image/png": "[encoded data removed]",
      "text/plain": [
       "<Figure size 432x216 with 2 Axes>"
      ]
     },
     "metadata": {
      "needs_background": "light"
     },
     "output_type": "display_data"
    }
   ],
   "source": [
    "g = sns.FacetGrid(data=heart,col='HeartDisease')\n",
    "g.map(sns.histplot,'Age')"
   ]
  },
  {
   "cell_type": "markdown",
   "id": "5ab796b4",
   "metadata": {},
   "source": [
    "It would seem (from the data) that heart conditions are pretty common across every identified age group in the dataset. Although more people between the ages of 50 - 65 are prone to suffer heart failures."
   ]
  },
  {
   "cell_type": "markdown",
   "id": "c309f8a9",
   "metadata": {},
   "source": [
    "**Resting Blood Pressure:**"
   ]
  },
  {
   "cell_type": "code",
   "execution_count": 21,
   "id": "73622bba",
   "metadata": {},
   "outputs": [
    {
     "data": {
      "text/plain": [
       "<AxesSubplot:ylabel='Frequency'>"
      ]
     },
     "execution_count": 21,
     "metadata": {},
     "output_type": "execute_result"
    },
    {
     "data": {
      "image/png": "[encoded data removed]",
      "text/plain": [
       "<Figure size 432x288 with 1 Axes>"
      ]
     },
     "metadata": {
      "needs_background": "light"
     },
     "output_type": "display_data"
    }
   ],
   "source": [
    "heart['RestingBP'].plot(kind='hist',bins=50)"
   ]
  },
  {
   "cell_type": "markdown",
   "id": "6efade4d",
   "metadata": {},
   "source": [
    "Most people in the dataset have RBPs that fall between 100 and 175mmHg. There is one individual with a RestingBP of O though."
   ]
  },
  {
   "cell_type": "code",
   "execution_count": 22,
   "id": "2c14ad9d",
   "metadata": {},
   "outputs": [
    {
     "data": {
      "text/html": [
       "<div>\n",
       "<style scoped>\n",
       "    .dataframe tbody tr th:only-of-type {\n",
       "        vertical-align: middle;\n",
       "    }\n",
       "\n",
       "    .dataframe tbody tr th {\n",
       "        vertical-align: top;\n",
       "    }\n",
       "\n",
       "    .dataframe thead th {\n",
       "        text-align: right;\n",
       "    }\n",
       "</style>\n",
       "<table border=\"1\" class=\"dataframe\">\n",
       "  <thead>\n",
       "    <tr style=\"text-align: right;\">\n",
       "      <th></th>\n",
       "      <th>Age</th>\n",
       "      <th>Sex</th>\n",
       "      <th>ChestPainType</th>\n",
       "      <th>RestingBP</th>\n",
       "      <th>Cholesterol</th>\n",
       "      <th>FastingBS</th>\n",
       "      <th>RestingECG</th>\n",
       "      <th>MaxHR</th>\n",
       "      <th>ExerciseAngina</th>\n",
       "      <th>Oldpeak</th>\n",
       "      <th>ST_Slope</th>\n",
       "      <th>HeartDisease</th>\n",
       "    </tr>\n",
       "  </thead>\n",
       "  <tbody>\n",
       "    <tr>\n",
       "      <th>449</th>\n",
       "      <td>55</td>\n",
       "      <td>M</td>\n",
       "      <td>NAP</td>\n",
       "      <td>0</td>\n",
       "      <td>0</td>\n",
       "      <td>0</td>\n",
       "      <td>Normal</td>\n",
       "      <td>155</td>\n",
       "      <td>N</td>\n",
       "      <td>1.5</td>\n",
       "      <td>Flat</td>\n",
       "      <td>1</td>\n",
       "    </tr>\n",
       "  </tbody>\n",
       "</table>\n",
       "</div>"
      ],
      "text/plain": [
       "     Age Sex ChestPainType  RestingBP  Cholesterol  FastingBS RestingECG  \\\n",
       "449   55   M           NAP          0            0          0     Normal   \n",
       "\n",
       "     MaxHR ExerciseAngina  Oldpeak ST_Slope  HeartDisease  \n",
       "449    155              N      1.5     Flat             1  "
      ]
     },
     "execution_count": 22,
     "metadata": {},
     "output_type": "execute_result"
    }
   ],
   "source": [
    "heart[heart['RestingBP']==0]"
   ]
  },
  {
   "cell_type": "markdown",
   "id": "96cd765b",
   "metadata": {},
   "source": [
    "It turns out this person is a 55 year old male. It would require domain expertise (which we don't have right now) to determine if this a healthy/optimal RestingBP for a person of that age. Another possibility could be that his actual RBP wasn't recorded for this dataset considering his Cholesterol and FastingBS data is also set at 0. Ironically, he is labelled as having Heart Disease."
   ]
  },
  {
   "cell_type": "markdown",
   "id": "ff176d83",
   "metadata": {},
   "source": [
    "Let's explore any possible relationships between RestingBP and our label:"
   ]
  },
  {
   "cell_type": "code",
   "execution_count": 23,
   "id": "e6117382",
   "metadata": {},
   "outputs": [
    {
     "data": {
      "text/plain": [
       "<seaborn.axisgrid.FacetGrid at 0x11a8e9eb0>"
      ]
     },
     "execution_count": 23,
     "metadata": {},
     "output_type": "execute_result"
    },
    {
     "data": {
      "image/png": "[encoded data removed]",
      "text/plain": [
       "<Figure size 432x216 with 2 Axes>"
      ]
     },
     "metadata": {
      "needs_background": "light"
     },
     "output_type": "display_data"
    }
   ],
   "source": [
    "g = sns.FacetGrid(data=heart,col='HeartDisease')\n",
    "g.map(sns.histplot,'RestingBP')"
   ]
  },
  {
   "cell_type": "markdown",
   "id": "62b02dc2",
   "metadata": {},
   "source": [
    "There are more people in this data set with RBPs between 100 and 150 suffering from heart disease than otherwise. However, it is also clear that RBP is not a reliable individual predictor or heart disease when you consider that quite a number of non-sufferers also have high RBPs."
   ]
  },
  {
   "cell_type": "markdown",
   "id": "9aa9512f",
   "metadata": {},
   "source": [
    "**Cholesterol:**"
   ]
  },
  {
   "cell_type": "code",
   "execution_count": 24,
   "id": "4b33061f",
   "metadata": {},
   "outputs": [
    {
     "data": {
      "text/plain": [
       "<AxesSubplot:ylabel='Frequency'>"
      ]
     },
     "execution_count": 24,
     "metadata": {},
     "output_type": "execute_result"
    },
    {
     "data": {
      "image/png": "[encoded data removed]",
      "text/plain": [
       "<Figure size 432x288 with 1 Axes>"
      ]
     },
     "metadata": {
      "needs_background": "light"
     },
     "output_type": "display_data"
    }
   ],
   "source": [
    "heart['Cholesterol'].plot(kind='hist',bins=50)"
   ]
  },
  {
   "cell_type": "markdown",
   "id": "48bc569d",
   "metadata": {},
   "source": [
    "We find a high frequency of individuals in the dataset with 0 cholesterol levels."
   ]
  },
  {
   "cell_type": "code",
   "execution_count": 25,
   "id": "0ff967eb",
   "metadata": {},
   "outputs": [
    {
     "data": {
      "text/plain": [
       "Age               172\n",
       "Sex               172\n",
       "ChestPainType     172\n",
       "RestingBP         172\n",
       "Cholesterol       172\n",
       "FastingBS         172\n",
       "RestingECG        172\n",
       "MaxHR             172\n",
       "ExerciseAngina    172\n",
       "Oldpeak           172\n",
       "ST_Slope          172\n",
       "HeartDisease      172\n",
       "dtype: int64"
      ]
     },
     "execution_count": 25,
     "metadata": {},
     "output_type": "execute_result"
    }
   ],
   "source": [
    "heart[heart['Cholesterol']==0].count()"
   ]
  },
  {
   "cell_type": "markdown",
   "id": "9b2879a6",
   "metadata": {},
   "source": [
    "There are 172 people with 0 cholesterol levels. To be sure that this is an oversight, let's explore a possible connection/relationship between cholesterol and heart disease. If we find that people with 0 cholesterol still suffer heart disease, we can conclude that this could be a recording error."
   ]
  },
  {
   "cell_type": "code",
   "execution_count": 26,
   "id": "60e6c4b7",
   "metadata": {},
   "outputs": [
    {
     "data": {
      "text/plain": [
       "<seaborn.axisgrid.FacetGrid at 0x11ac8b0a0>"
      ]
     },
     "execution_count": 26,
     "metadata": {},
     "output_type": "execute_result"
    },
    {
     "data": {
      "image/png": "[encoded data removed]",
      "text/plain": [
       "<Figure size 432x216 with 2 Axes>"
      ]
     },
     "metadata": {
      "needs_background": "light"
     },
     "output_type": "display_data"
    }
   ],
   "source": [
    "g = sns.FacetGrid(data=heart,col='HeartDisease')\n",
    "g.map(sns.histplot,'Cholesterol')"
   ]
  },
  {
   "cell_type": "markdown",
   "id": "bb924694",
   "metadata": {},
   "source": [
    "There is a high occurence of heart disease amongst people with 0 cholesterol. Before writing it off, it would be best to consult some domain experts to confirm if this could be an observable phenomena/pattern in the real world."
   ]
  },
  {
   "cell_type": "markdown",
   "id": "ac9d0a7a",
   "metadata": {},
   "source": [
    "To get a true sense of the connection between cholesterol and heart disease in the mean time, we might have to control for this 0 occurence by removing it from the dataset for this analysis."
   ]
  },
  {
   "cell_type": "code",
   "execution_count": 27,
   "id": "6ce3d240",
   "metadata": {},
   "outputs": [],
   "source": [
    "heart_adj = heart[heart['Cholesterol'] > 0]"
   ]
  },
  {
   "cell_type": "code",
   "execution_count": 28,
   "id": "80ad01b1",
   "metadata": {},
   "outputs": [
    {
     "data": {
      "text/plain": [
       "<seaborn.axisgrid.FacetGrid at 0x11ac8bf40>"
      ]
     },
     "execution_count": 28,
     "metadata": {},
     "output_type": "execute_result"
    },
    {
     "data": {
      "image/png": "[encoded data removed]",
      "text/plain": [
       "<Figure size 432x216 with 2 Axes>"
      ]
     },
     "metadata": {
      "needs_background": "light"
     },
     "output_type": "display_data"
    }
   ],
   "source": [
    "g = sns.FacetGrid(data=heart_adj,col='HeartDisease')\n",
    "g.map(sns.histplot,'Cholesterol')"
   ]
  },
  {
   "cell_type": "markdown",
   "id": "8925946c",
   "metadata": {},
   "source": [
    "There's nothing remarkably different to notice here as both plots suggest no observable relationships between cholesterol levels and heart disease.\n",
    "\n",
    "What we can note/study/acknowledge is the existence of outliers. i.e. sufferers with low levels of cholesterol and non-sufferers with high levels of cholesterol."
   ]
  },
  {
   "cell_type": "code",
   "execution_count": 29,
   "id": "f040770d",
   "metadata": {},
   "outputs": [
    {
     "data": {
      "text/plain": [
       "count    390.000000\n",
       "mean     238.769231\n",
       "std       55.394617\n",
       "min       85.000000\n",
       "25%      203.000000\n",
       "50%      231.500000\n",
       "75%      269.000000\n",
       "max      564.000000\n",
       "Name: Cholesterol, dtype: float64"
      ]
     },
     "execution_count": 29,
     "metadata": {},
     "output_type": "execute_result"
    }
   ],
   "source": [
    "heart_adj[(heart_adj['HeartDisease']==0)].describe()['Cholesterol']"
   ]
  },
  {
   "cell_type": "code",
   "execution_count": 30,
   "id": "60f42001",
   "metadata": {},
   "outputs": [
    {
     "data": {
      "text/plain": [
       "count    356.000000\n",
       "mean     251.061798\n",
       "std       62.462713\n",
       "min      100.000000\n",
       "25%      212.000000\n",
       "50%      246.000000\n",
       "75%      283.250000\n",
       "max      603.000000\n",
       "Name: Cholesterol, dtype: float64"
      ]
     },
     "execution_count": 30,
     "metadata": {},
     "output_type": "execute_result"
    }
   ],
   "source": [
    "heart_adj[(heart_adj['HeartDisease']==1)].describe()['Cholesterol']"
   ]
  },
  {
   "cell_type": "markdown",
   "id": "3a7c64d0",
   "metadata": {},
   "source": [
    "On average, we can conclude that individuals with heart disease have 13 mm/dl more cholesterol that individuals without heart disease. In the context of our previous plots, we can actually consider this difference negligible."
   ]
  },
  {
   "cell_type": "markdown",
   "id": "29e5c924",
   "metadata": {},
   "source": [
    "**Maximum Heart Rate:**"
   ]
  },
  {
   "cell_type": "code",
   "execution_count": 31,
   "id": "f8c1516e",
   "metadata": {},
   "outputs": [
    {
     "data": {
      "text/plain": [
       "<AxesSubplot:ylabel='Frequency'>"
      ]
     },
     "execution_count": 31,
     "metadata": {},
     "output_type": "execute_result"
    },
    {
     "data": {
      "image/png": "[encoded data removed]",
      "text/plain": [
       "<Figure size 432x288 with 1 Axes>"
      ]
     },
     "metadata": {
      "needs_background": "light"
     },
     "output_type": "display_data"
    }
   ],
   "source": [
    "heart['MaxHR'].plot(kind='hist',bins=50)"
   ]
  },
  {
   "cell_type": "markdown",
   "id": "577ac01c",
   "metadata": {},
   "source": [
    "The heart rate data seems well-spread with noticeable spikes around the round figures."
   ]
  },
  {
   "cell_type": "markdown",
   "id": "6484fad7",
   "metadata": {},
   "source": [
    "Let's examine it's connection to heart disease."
   ]
  },
  {
   "cell_type": "code",
   "execution_count": 32,
   "id": "14a3de94",
   "metadata": {},
   "outputs": [
    {
     "data": {
      "text/plain": [
       "<seaborn.axisgrid.FacetGrid at 0x11b1e6280>"
      ]
     },
     "execution_count": 32,
     "metadata": {},
     "output_type": "execute_result"
    },
    {
     "data": {
      "image/png": "[encoded data removed]",
      "text/plain": [
       "<Figure size 432x216 with 2 Axes>"
      ]
     },
     "metadata": {
      "needs_background": "light"
     },
     "output_type": "display_data"
    }
   ],
   "source": [
    "g = sns.FacetGrid(data=heart_adj,col='HeartDisease')\n",
    "g.map(sns.histplot,'MaxHR')"
   ]
  },
  {
   "cell_type": "markdown",
   "id": "e6a7f8b6",
   "metadata": {},
   "source": [
    "Again, we find another feature offering no particular insight into a possible connection with heart disease."
   ]
  },
  {
   "cell_type": "markdown",
   "id": "a49498a6",
   "metadata": {},
   "source": [
    "**Let's examine correlations between the continuous features.**"
   ]
  },
  {
   "cell_type": "code",
   "execution_count": 33,
   "id": "858987c3",
   "metadata": {},
   "outputs": [
    {
     "data": {
      "text/html": [
       "<div>\n",
       "<style scoped>\n",
       "    .dataframe tbody tr th:only-of-type {\n",
       "        vertical-align: middle;\n",
       "    }\n",
       "\n",
       "    .dataframe tbody tr th {\n",
       "        vertical-align: top;\n",
       "    }\n",
       "\n",
       "    .dataframe thead th {\n",
       "        text-align: right;\n",
       "    }\n",
       "</style>\n",
       "<table border=\"1\" class=\"dataframe\">\n",
       "  <thead>\n",
       "    <tr style=\"text-align: right;\">\n",
       "      <th></th>\n",
       "      <th>Description</th>\n",
       "      <th>FeatureType</th>\n",
       "    </tr>\n",
       "    <tr>\n",
       "      <th>Feature</th>\n",
       "      <th></th>\n",
       "      <th></th>\n",
       "    </tr>\n",
       "  </thead>\n",
       "  <tbody>\n",
       "    <tr>\n",
       "      <th>Age</th>\n",
       "      <td>age of the patient [years]</td>\n",
       "      <td>Continuous</td>\n",
       "    </tr>\n",
       "    <tr>\n",
       "      <th>RestingBP</th>\n",
       "      <td>resting blood pressure [mm Hg]</td>\n",
       "      <td>Continuous</td>\n",
       "    </tr>\n",
       "    <tr>\n",
       "      <th>Cholesterol</th>\n",
       "      <td>serum cholesterol [mm/dl]</td>\n",
       "      <td>Continuous</td>\n",
       "    </tr>\n",
       "    <tr>\n",
       "      <th>MaxHR</th>\n",
       "      <td>maximum heart rate achieved [Numeric value bet...</td>\n",
       "      <td>Continuous</td>\n",
       "    </tr>\n",
       "    <tr>\n",
       "      <th>Oldpeak</th>\n",
       "      <td>ST [Numeric value measured in depression]</td>\n",
       "      <td>Continuous</td>\n",
       "    </tr>\n",
       "  </tbody>\n",
       "</table>\n",
       "</div>"
      ],
      "text/plain": [
       "                                                   Description FeatureType\n",
       "Feature                                                                   \n",
       "Age                                 age of the patient [years]  Continuous\n",
       "RestingBP                       resting blood pressure [mm Hg]  Continuous\n",
       "Cholesterol                          serum cholesterol [mm/dl]  Continuous\n",
       "MaxHR        maximum heart rate achieved [Numeric value bet...  Continuous\n",
       "Oldpeak              ST [Numeric value measured in depression]  Continuous"
      ]
     },
     "execution_count": 33,
     "metadata": {},
     "output_type": "execute_result"
    }
   ],
   "source": [
    "info[info['FeatureType']=='Continuous']"
   ]
  },
  {
   "cell_type": "code",
   "execution_count": 34,
   "id": "993630e0",
   "metadata": {},
   "outputs": [
    {
     "data": {
      "text/plain": [
       "<AxesSubplot:>"
      ]
     },
     "execution_count": 34,
     "metadata": {},
     "output_type": "execute_result"
    },
    {
     "data": {
      "image/png": "[encoded data removed]",
      "text/plain": [
       "<Figure size 864x504 with 2 Axes>"
      ]
     },
     "metadata": {
      "needs_background": "light"
     },
     "output_type": "display_data"
    }
   ],
   "source": [
    "plt.figure(figsize=(12,7))\n",
    "sns.heatmap(heart[['Age','RestingBP','Cholesterol','MaxHR','Oldpeak']].corr(),annot=True,cmap='viridis')"
   ]
  },
  {
   "cell_type": "markdown",
   "id": "c12ea54e",
   "metadata": {},
   "source": [
    "A few interesting correlations to take note of between our continous features - Age/RestingBP, MaxHR/Cholesterol, Age/OldPeak"
   ]
  },
  {
   "cell_type": "markdown",
   "id": "f1d47311",
   "metadata": {},
   "source": [
    "**Categorical Features.**"
   ]
  },
  {
   "cell_type": "code",
   "execution_count": 35,
   "id": "460d7ef4",
   "metadata": {},
   "outputs": [
    {
     "data": {
      "text/html": [
       "<div>\n",
       "<style scoped>\n",
       "    .dataframe tbody tr th:only-of-type {\n",
       "        vertical-align: middle;\n",
       "    }\n",
       "\n",
       "    .dataframe tbody tr th {\n",
       "        vertical-align: top;\n",
       "    }\n",
       "\n",
       "    .dataframe thead th {\n",
       "        text-align: right;\n",
       "    }\n",
       "</style>\n",
       "<table border=\"1\" class=\"dataframe\">\n",
       "  <thead>\n",
       "    <tr style=\"text-align: right;\">\n",
       "      <th></th>\n",
       "      <th>Description</th>\n",
       "      <th>FeatureType</th>\n",
       "    </tr>\n",
       "    <tr>\n",
       "      <th>Feature</th>\n",
       "      <th></th>\n",
       "      <th></th>\n",
       "    </tr>\n",
       "  </thead>\n",
       "  <tbody>\n",
       "    <tr>\n",
       "      <th>Sex</th>\n",
       "      <td>sex of the patient [M: Male, F: Female]</td>\n",
       "      <td>Categorical</td>\n",
       "    </tr>\n",
       "    <tr>\n",
       "      <th>ChestPainType</th>\n",
       "      <td>chest pain type [TA: Typical Angina, ATA: Atyp...</td>\n",
       "      <td>Categorical</td>\n",
       "    </tr>\n",
       "    <tr>\n",
       "      <th>FastingBS</th>\n",
       "      <td>fasting blood sugar [1: if FastingBS &gt; 120 mg/...</td>\n",
       "      <td>Categorical</td>\n",
       "    </tr>\n",
       "    <tr>\n",
       "      <th>RestingECG</th>\n",
       "      <td>resting electrocardiogram results [Normal: Nor...</td>\n",
       "      <td>Categorical</td>\n",
       "    </tr>\n",
       "    <tr>\n",
       "      <th>ExerciseAngina</th>\n",
       "      <td>exercise-induced angina [Y: Yes, N: No]</td>\n",
       "      <td>Categorical</td>\n",
       "    </tr>\n",
       "    <tr>\n",
       "      <th>ST_Slope</th>\n",
       "      <td>the slope of the peak exercise ST segment [Up:...</td>\n",
       "      <td>Categorical</td>\n",
       "    </tr>\n",
       "    <tr>\n",
       "      <th>HeartDisease</th>\n",
       "      <td>output class [1: heart disease, 0: Normal]</td>\n",
       "      <td>Categorical</td>\n",
       "    </tr>\n",
       "  </tbody>\n",
       "</table>\n",
       "</div>"
      ],
      "text/plain": [
       "                                                      Description  FeatureType\n",
       "Feature                                                                       \n",
       "Sex                       sex of the patient [M: Male, F: Female]  Categorical\n",
       "ChestPainType   chest pain type [TA: Typical Angina, ATA: Atyp...  Categorical\n",
       "FastingBS       fasting blood sugar [1: if FastingBS > 120 mg/...  Categorical\n",
       "RestingECG      resting electrocardiogram results [Normal: Nor...  Categorical\n",
       "ExerciseAngina            exercise-induced angina [Y: Yes, N: No]  Categorical\n",
       "ST_Slope        the slope of the peak exercise ST segment [Up:...  Categorical\n",
       "HeartDisease           output class [1: heart disease, 0: Normal]  Categorical"
      ]
     },
     "execution_count": 35,
     "metadata": {},
     "output_type": "execute_result"
    }
   ],
   "source": [
    "info[info['FeatureType']=='Categorical']"
   ]
  },
  {
   "cell_type": "markdown",
   "id": "45160d53",
   "metadata": {},
   "source": [
    "Let's examine relationships between our categorical features and our label."
   ]
  },
  {
   "cell_type": "markdown",
   "id": "6229a8f9",
   "metadata": {},
   "source": [
    "**Sex:**"
   ]
  },
  {
   "cell_type": "code",
   "execution_count": 36,
   "id": "02713e40",
   "metadata": {},
   "outputs": [
    {
     "data": {
      "text/plain": [
       "<AxesSubplot:xlabel='Sex', ylabel='count'>"
      ]
     },
     "execution_count": 36,
     "metadata": {},
     "output_type": "execute_result"
    },
    {
     "data": {
      "image/png": "[encoded data removed]",
      "text/plain": [
       "<Figure size 432x288 with 1 Axes>"
      ]
     },
     "metadata": {
      "needs_background": "light"
     },
     "output_type": "display_data"
    }
   ],
   "source": [
    "sns.countplot(x='Sex',data=heart)"
   ]
  },
  {
   "cell_type": "code",
   "execution_count": 37,
   "id": "46dd7689",
   "metadata": {},
   "outputs": [
    {
     "data": {
      "text/plain": [
       "Sex\n",
       "F    0.21024\n",
       "M    0.78976\n",
       "Name: HeartDisease, dtype: float64"
      ]
     },
     "execution_count": 37,
     "metadata": {},
     "output_type": "execute_result"
    }
   ],
   "source": [
    "heart.groupby('Sex')['HeartDisease'].count()/len(heart)"
   ]
  },
  {
   "cell_type": "markdown",
   "id": "bffa971b",
   "metadata": {},
   "source": [
    "Men account for about 80% of the dataset making this feature very unbalanced."
   ]
  },
  {
   "cell_type": "code",
   "execution_count": 38,
   "id": "7e3106bc",
   "metadata": {},
   "outputs": [
    {
     "data": {
      "text/plain": [
       "<AxesSubplot:xlabel='Sex', ylabel='count'>"
      ]
     },
     "execution_count": 38,
     "metadata": {},
     "output_type": "execute_result"
    },
    {
     "data": {
      "image/png": "[encoded data removed]",
      "text/plain": [
       "<Figure size 432x288 with 1 Axes>"
      ]
     },
     "metadata": {
      "needs_background": "light"
     },
     "output_type": "display_data"
    }
   ],
   "source": [
    "sns.countplot(x='Sex',data=heart,hue='HeartDisease')"
   ]
  },
  {
   "cell_type": "markdown",
   "id": "91ba77f3",
   "metadata": {},
   "source": [
    "Percentage of men without heart disease:"
   ]
  },
  {
   "cell_type": "code",
   "execution_count": 39,
   "id": "48fecc3e",
   "metadata": {},
   "outputs": [
    {
     "data": {
      "text/plain": [
       "0.3682758620689655"
      ]
     },
     "execution_count": 39,
     "metadata": {},
     "output_type": "execute_result"
    }
   ],
   "source": [
    "heart[(heart['Sex']=='M') & (heart['HeartDisease']==0)]['HeartDisease'].describe().loc['count'] / heart[(heart['Sex']=='M')]['HeartDisease'].describe().loc['count']"
   ]
  },
  {
   "cell_type": "markdown",
   "id": "e502a6bd",
   "metadata": {},
   "source": [
    "Percentage of men with heart disease:"
   ]
  },
  {
   "cell_type": "code",
   "execution_count": 40,
   "id": "558b8a3c",
   "metadata": {},
   "outputs": [
    {
     "data": {
      "text/plain": [
       "0.6317241379310344"
      ]
     },
     "execution_count": 40,
     "metadata": {},
     "output_type": "execute_result"
    }
   ],
   "source": [
    "heart[(heart['Sex']=='M') & (heart['HeartDisease']==1)]['HeartDisease'].describe().loc['count'] / heart[(heart['Sex']=='M')]['HeartDisease'].describe().loc['count']"
   ]
  },
  {
   "cell_type": "markdown",
   "id": "71531b38",
   "metadata": {},
   "source": [
    "Percentage of women without heart disease:"
   ]
  },
  {
   "cell_type": "code",
   "execution_count": 41,
   "id": "f04c85bb",
   "metadata": {},
   "outputs": [
    {
     "data": {
      "text/plain": [
       "0.7409326424870466"
      ]
     },
     "execution_count": 41,
     "metadata": {},
     "output_type": "execute_result"
    }
   ],
   "source": [
    "heart[(heart['Sex']=='F') & (heart['HeartDisease']==0)]['HeartDisease'].describe().loc['count'] / heart[(heart['Sex']=='F')]['HeartDisease'].describe().loc['count']"
   ]
  },
  {
   "cell_type": "markdown",
   "id": "3c35d861",
   "metadata": {},
   "source": [
    "Percentage of women with heart disease:"
   ]
  },
  {
   "cell_type": "code",
   "execution_count": 42,
   "id": "83e5d649",
   "metadata": {},
   "outputs": [
    {
     "data": {
      "text/plain": [
       "0.25906735751295334"
      ]
     },
     "execution_count": 42,
     "metadata": {},
     "output_type": "execute_result"
    }
   ],
   "source": [
    "heart[(heart['Sex']=='F') & (heart['HeartDisease']==1)]['HeartDisease'].describe().loc['count'] / heart[(heart['Sex']=='F')]['HeartDisease'].describe().loc['count']"
   ]
  },
  {
   "cell_type": "markdown",
   "id": "72ef9bac",
   "metadata": {},
   "source": [
    "Heart disease seems prevalent among men (63%) than women (26%). But it is important to note that Sex is an unbalanced feature here with men taking up a considerable share of the data so our inference might be unreliable."
   ]
  },
  {
   "cell_type": "markdown",
   "id": "17ecddc5",
   "metadata": {},
   "source": [
    "**Chest Pain Type:**"
   ]
  },
  {
   "cell_type": "code",
   "execution_count": 43,
   "id": "35f20f98",
   "metadata": {},
   "outputs": [
    {
     "data": {
      "text/plain": [
       "<AxesSubplot:xlabel='ChestPainType', ylabel='count'>"
      ]
     },
     "execution_count": 43,
     "metadata": {},
     "output_type": "execute_result"
    },
    {
     "data": {
      "image/png": "[encoded data removed]",
      "text/plain": [
       "<Figure size 432x288 with 1 Axes>"
      ]
     },
     "metadata": {
      "needs_background": "light"
     },
     "output_type": "display_data"
    }
   ],
   "source": [
    "sns.countplot(x='ChestPainType',data=heart,hue='HeartDisease')"
   ]
  },
  {
   "cell_type": "code",
   "execution_count": 44,
   "id": "9de402dc",
   "metadata": {
    "scrolled": true
   },
   "outputs": [
    {
     "name": "stdout",
     "output_type": "stream",
     "text": [
      "chest pain type [TA: Typical Angina, ATA: Atypical Angina, NAP: Non-Anginal Pain, ASY: Asymptomatic]\n"
     ]
    }
   ],
   "source": [
    "feat_info('ChestPainType')"
   ]
  },
  {
   "cell_type": "markdown",
   "id": "9ead3207",
   "metadata": {},
   "source": [
    "There is a higher prevalence of heart disease with individuals who have the ASY (Asymptomatic) chest pain type. It is the only pain type category with more people who have the condition suffering heart disease than people without heart disease in the category. \n",
    "\n",
    "We can consider the ASY pain type a reliable indicator/predictor of heart disease.\n",
    "\n",
    "This observation would require domain knowledge to investigate the connection between the ASY pain type and heart disease.\n",
    "\n",
    "Another thing to note is heart disease doesn't tend to be common with individuals with the ATA (Atypical Angina) chest pain type.\n",
    "\n",
    "Also, the TA (Typical Angina) pain type might not be a reliable indicator of heart disease."
   ]
  },
  {
   "cell_type": "markdown",
   "id": "c09cdf44",
   "metadata": {},
   "source": [
    "**Fasting Blood Sugar:**"
   ]
  },
  {
   "cell_type": "code",
   "execution_count": 45,
   "id": "1642b019",
   "metadata": {
    "scrolled": true
   },
   "outputs": [
    {
     "data": {
      "text/plain": [
       "<AxesSubplot:xlabel='FastingBS', ylabel='count'>"
      ]
     },
     "execution_count": 45,
     "metadata": {},
     "output_type": "execute_result"
    },
    {
     "data": {
      "image/png": "[encoded data removed]",
      "text/plain": [
       "<Figure size 432x288 with 1 Axes>"
      ]
     },
     "metadata": {
      "needs_background": "light"
     },
     "output_type": "display_data"
    }
   ],
   "source": [
    "sns.countplot(x='FastingBS',data=heart,hue='HeartDisease')"
   ]
  },
  {
   "cell_type": "code",
   "execution_count": 46,
   "id": "35b307a1",
   "metadata": {},
   "outputs": [
    {
     "name": "stdout",
     "output_type": "stream",
     "text": [
      "fasting blood sugar [1: if FastingBS > 120 mg/dl, 0: otherwise]\n"
     ]
    }
   ],
   "source": [
    "feat_info('FastingBS')"
   ]
  },
  {
   "cell_type": "markdown",
   "id": "f9c8d329",
   "metadata": {},
   "source": [
    "The data suggests individuals with a FastingBS > 120 mg/dl are more prone to suffer heart disease. The findings aren't exactly conclusive on the heart disease implications for individuals with lower FBS levels."
   ]
  },
  {
   "cell_type": "markdown",
   "id": "95bad21f",
   "metadata": {},
   "source": [
    "**Resting ECG:**"
   ]
  },
  {
   "cell_type": "code",
   "execution_count": 47,
   "id": "1bc7cad5",
   "metadata": {},
   "outputs": [
    {
     "data": {
      "text/plain": [
       "<AxesSubplot:xlabel='RestingECG', ylabel='count'>"
      ]
     },
     "execution_count": 47,
     "metadata": {},
     "output_type": "execute_result"
    },
    {
     "data": {
      "image/png": "[encoded data removed]",
      "text/plain": [
       "<Figure size 432x288 with 1 Axes>"
      ]
     },
     "metadata": {
      "needs_background": "light"
     },
     "output_type": "display_data"
    }
   ],
   "source": [
    "sns.countplot(x='RestingECG',data=heart,hue='HeartDisease')"
   ]
  },
  {
   "cell_type": "code",
   "execution_count": 48,
   "id": "a521f7c7",
   "metadata": {},
   "outputs": [
    {
     "name": "stdout",
     "output_type": "stream",
     "text": [
      "resting electrocardiogram results [Normal: Normal, ST: having ST-T wave abnormality (T wave inversions and/or ST elevation or depression of > 0.05 mV), LVH: showing probable or definite left ventricular hypertrophy by Estes' criteria]\n"
     ]
    }
   ],
   "source": [
    "feat_info('RestingECG')"
   ]
  },
  {
   "cell_type": "markdown",
   "id": "e7790354",
   "metadata": {},
   "source": [
    "There isn't any particualar ECG result type that appears to be a strong indicator of heart disease judging from the countplot."
   ]
  },
  {
   "cell_type": "markdown",
   "id": "962fc62c",
   "metadata": {},
   "source": [
    "**Exercise Angina**:"
   ]
  },
  {
   "cell_type": "code",
   "execution_count": 49,
   "id": "9a5cd3e8",
   "metadata": {},
   "outputs": [
    {
     "data": {
      "text/plain": [
       "<AxesSubplot:xlabel='ExerciseAngina', ylabel='count'>"
      ]
     },
     "execution_count": 49,
     "metadata": {},
     "output_type": "execute_result"
    },
    {
     "data": {
      "image/png": "[encoded data removed]",
      "text/plain": [
       "<Figure size 432x288 with 1 Axes>"
      ]
     },
     "metadata": {
      "needs_background": "light"
     },
     "output_type": "display_data"
    }
   ],
   "source": [
    "sns.countplot(x='ExerciseAngina',data=heart,hue='HeartDisease')"
   ]
  },
  {
   "cell_type": "markdown",
   "id": "43b3ed61",
   "metadata": {},
   "source": [
    "Exercise Angina seems to be a leading indicator/predictor of heart disease. However, we might need domain expertise to explain heart disease in individuals without exercise angina as evidenced in the plot."
   ]
  },
  {
   "cell_type": "markdown",
   "id": "af87e659",
   "metadata": {},
   "source": [
    "## Section 2: Data Preprocessing"
   ]
  },
  {
   "cell_type": "markdown",
   "id": "b68ec05b",
   "metadata": {},
   "source": [
    "### Missing Data"
   ]
  },
  {
   "cell_type": "markdown",
   "id": "f372c10c",
   "metadata": {},
   "source": [
    "**NOTE:** Dealing with missing data is typically nuanced and there isn't an absolute correct answer. Our options usually are to keep the missing data, drop the missing data, or fill in the missing data."
   ]
  },
  {
   "cell_type": "code",
   "execution_count": 50,
   "id": "233d213d",
   "metadata": {},
   "outputs": [
    {
     "data": {
      "text/plain": [
       "Age               0\n",
       "Sex               0\n",
       "ChestPainType     0\n",
       "RestingBP         0\n",
       "Cholesterol       0\n",
       "FastingBS         0\n",
       "RestingECG        0\n",
       "MaxHR             0\n",
       "ExerciseAngina    0\n",
       "Oldpeak           0\n",
       "ST_Slope          0\n",
       "HeartDisease      0\n",
       "dtype: int64"
      ]
     },
     "execution_count": 50,
     "metadata": {},
     "output_type": "execute_result"
    }
   ],
   "source": [
    "heart.isnull().sum()"
   ]
  },
  {
   "cell_type": "markdown",
   "id": "8d17c62f",
   "metadata": {},
   "source": [
    "Luckily for us, we have no features with missing data."
   ]
  },
  {
   "cell_type": "markdown",
   "id": "2cdb77df",
   "metadata": {},
   "source": [
    "**BUT:** We do have to be mindful of the 0 occurrences/instances in the RestingBP, Cholesterol and FastingBS features and investigate (with the help of domain knowledge, of course) if this is a normal real-life occurence or the figures were erroneously recorded into the dataset."
   ]
  },
  {
   "cell_type": "markdown",
   "id": "47386926",
   "metadata": {},
   "source": [
    "Total number of RestingBP 0 instances:"
   ]
  },
  {
   "cell_type": "code",
   "execution_count": 51,
   "id": "ec0d94b2",
   "metadata": {},
   "outputs": [
    {
     "data": {
      "text/plain": [
       "1.0"
      ]
     },
     "execution_count": 51,
     "metadata": {},
     "output_type": "execute_result"
    }
   ],
   "source": [
    "heart[heart['RestingBP']==0]['HeartDisease'].describe().loc['count']"
   ]
  },
  {
   "cell_type": "markdown",
   "id": "ea51bae6",
   "metadata": {},
   "source": [
    "Total number of Cholesterol 0 instances:"
   ]
  },
  {
   "cell_type": "code",
   "execution_count": 52,
   "id": "05d97c8d",
   "metadata": {},
   "outputs": [
    {
     "data": {
      "text/plain": [
       "172.0"
      ]
     },
     "execution_count": 52,
     "metadata": {},
     "output_type": "execute_result"
    }
   ],
   "source": [
    "heart[heart['Cholesterol']==0]['HeartDisease'].describe().loc['count']"
   ]
  },
  {
   "cell_type": "markdown",
   "id": "2a342258",
   "metadata": {},
   "source": [
    "Total number of FastingBS 0 instances:"
   ]
  },
  {
   "cell_type": "code",
   "execution_count": 53,
   "id": "d5fb2360",
   "metadata": {},
   "outputs": [
    {
     "data": {
      "text/plain": [
       "704.0"
      ]
     },
     "execution_count": 53,
     "metadata": {},
     "output_type": "execute_result"
    }
   ],
   "source": [
    "heart[heart['FastingBS']==0]['HeartDisease'].describe().loc['count']"
   ]
  },
  {
   "cell_type": "markdown",
   "id": "a75b0941",
   "metadata": {},
   "source": [
    "The number of 0 instances with Cholesterol and FastingBF are a considerable fraction of the entire dataset.\n",
    "\n",
    "What we can do, in the meanwhile, is run two different models i.e. one with both Cholesterol and FastingBS features and one without. The goal would be to see if the absence of these features has a material effect on our classification results."
   ]
  },
  {
   "cell_type": "markdown",
   "id": "a56fed31",
   "metadata": {},
   "source": [
    "### String Categories and Dummy Variables"
   ]
  },
  {
   "cell_type": "markdown",
   "id": "d959a270",
   "metadata": {},
   "source": [
    "**Non-numeric Columns:**"
   ]
  },
  {
   "cell_type": "code",
   "execution_count": 54,
   "id": "b5cfcc82",
   "metadata": {},
   "outputs": [
    {
     "data": {
      "text/plain": [
       "Index(['Sex', 'ChestPainType', 'RestingECG', 'ExerciseAngina', 'ST_Slope'], dtype='object')"
      ]
     },
     "execution_count": 54,
     "metadata": {},
     "output_type": "execute_result"
    }
   ],
   "source": [
    "heart.select_dtypes(['object']).columns"
   ]
  },
  {
   "cell_type": "markdown",
   "id": "93a0a152",
   "metadata": {},
   "source": [
    "We have to convert these features into dummy variable types our model can understand and work with."
   ]
  },
  {
   "cell_type": "markdown",
   "id": "4fc9a403",
   "metadata": {},
   "source": [
    "**Sex:**"
   ]
  },
  {
   "cell_type": "code",
   "execution_count": 55,
   "id": "ee21a3c0",
   "metadata": {},
   "outputs": [],
   "source": [
    "sex = pd.get_dummies(heart['Sex'],drop_first=True)"
   ]
  },
  {
   "cell_type": "code",
   "execution_count": 56,
   "id": "3b794bba",
   "metadata": {},
   "outputs": [],
   "source": [
    "heart = pd.concat([heart.drop('Sex',axis=1),sex],axis=1)"
   ]
  },
  {
   "cell_type": "code",
   "execution_count": 57,
   "id": "5b6610c3",
   "metadata": {},
   "outputs": [],
   "source": [
    "heart = heart.rename(columns = {'M':'Male'})"
   ]
  },
  {
   "cell_type": "markdown",
   "id": "0a7948ea",
   "metadata": {},
   "source": [
    "**Chest Pain Type:**"
   ]
  },
  {
   "cell_type": "code",
   "execution_count": 58,
   "id": "54e4d282",
   "metadata": {},
   "outputs": [],
   "source": [
    "chestpaintype = pd.get_dummies(heart['ChestPainType'],drop_first=True)"
   ]
  },
  {
   "cell_type": "code",
   "execution_count": 59,
   "id": "ca0e9269",
   "metadata": {},
   "outputs": [],
   "source": [
    "heart = pd.concat([heart,chestpaintype],axis=1)"
   ]
  },
  {
   "cell_type": "markdown",
   "id": "306009eb",
   "metadata": {},
   "source": [
    "**Resting ECG:**"
   ]
  },
  {
   "cell_type": "code",
   "execution_count": 60,
   "id": "91c358dc",
   "metadata": {},
   "outputs": [],
   "source": [
    "ecg = pd.get_dummies(heart['RestingECG'],drop_first=True)"
   ]
  },
  {
   "cell_type": "code",
   "execution_count": 61,
   "id": "b2beab39",
   "metadata": {},
   "outputs": [],
   "source": [
    "heart = pd.concat([heart,ecg],axis=1)"
   ]
  },
  {
   "cell_type": "markdown",
   "id": "54f1ccd9",
   "metadata": {},
   "source": [
    "**Exercise Angina:**"
   ]
  },
  {
   "cell_type": "code",
   "execution_count": 62,
   "id": "02017495",
   "metadata": {},
   "outputs": [],
   "source": [
    "e_a = pd.get_dummies(heart['ExerciseAngina'],drop_first=True)"
   ]
  },
  {
   "cell_type": "code",
   "execution_count": 63,
   "id": "437205ae",
   "metadata": {},
   "outputs": [],
   "source": [
    "heart = heart = pd.concat([heart,e_a],axis=1)"
   ]
  },
  {
   "cell_type": "markdown",
   "id": "08b13f3d",
   "metadata": {},
   "source": [
    "**ST Slope:**"
   ]
  },
  {
   "cell_type": "code",
   "execution_count": 64,
   "id": "f8233f45",
   "metadata": {},
   "outputs": [],
   "source": [
    "s_t = pd.get_dummies(heart['ST_Slope'],drop_first=True)"
   ]
  },
  {
   "cell_type": "code",
   "execution_count": 65,
   "id": "3d6d3b34",
   "metadata": {},
   "outputs": [],
   "source": [
    "heart = heart = pd.concat([heart,s_t],axis=1)"
   ]
  },
  {
   "cell_type": "markdown",
   "id": "b02718a1",
   "metadata": {},
   "source": [
    "### Feature Engineering"
   ]
  },
  {
   "cell_type": "markdown",
   "id": "bd7f76b3",
   "metadata": {},
   "source": [
    "The dataset doesn't exactly require any feature engineering as none of the features contains useful information or any information at all that could be separated out into a new feature/column by itself."
   ]
  },
  {
   "cell_type": "markdown",
   "id": "ee3e0e66",
   "metadata": {},
   "source": [
    "## Section 3: Machine Learning"
   ]
  },
  {
   "cell_type": "markdown",
   "id": "aa9d9a3e",
   "metadata": {},
   "source": [
    "### Train-Test Split"
   ]
  },
  {
   "cell_type": "code",
   "execution_count": 66,
   "id": "d91a9b6e",
   "metadata": {},
   "outputs": [],
   "source": [
    "from sklearn.model_selection import train_test_split"
   ]
  },
  {
   "cell_type": "code",
   "execution_count": 67,
   "id": "1a88942d",
   "metadata": {},
   "outputs": [
    {
     "data": {
      "text/plain": [
       "Index(['ChestPainType', 'RestingECG', 'ExerciseAngina', 'ST_Slope'], dtype='object')"
      ]
     },
     "execution_count": 67,
     "metadata": {},
     "output_type": "execute_result"
    }
   ],
   "source": [
    "heart.select_dtypes(['object']).columns"
   ]
  },
  {
   "cell_type": "code",
   "execution_count": 68,
   "id": "da1b37e9",
   "metadata": {},
   "outputs": [
    {
     "data": {
      "text/plain": [
       "Index(['Age', 'ChestPainType', 'RestingBP', 'Cholesterol', 'FastingBS',\n",
       "       'RestingECG', 'MaxHR', 'ExerciseAngina', 'Oldpeak', 'ST_Slope',\n",
       "       'HeartDisease', 'Male', 'ATA', 'NAP', 'TA', 'Normal', 'ST', 'Y', 'Flat',\n",
       "       'Up'],\n",
       "      dtype='object')"
      ]
     },
     "execution_count": 68,
     "metadata": {},
     "output_type": "execute_result"
    }
   ],
   "source": [
    "heart.columns"
   ]
  },
  {
   "cell_type": "code",
   "execution_count": 69,
   "id": "f2a95b1f",
   "metadata": {},
   "outputs": [],
   "source": [
    "X = heart.drop(['ChestPainType', 'RestingECG', 'ExerciseAngina', 'ST_Slope','HeartDisease'],axis=1).values"
   ]
  },
  {
   "cell_type": "code",
   "execution_count": 70,
   "id": "4975bb9a",
   "metadata": {},
   "outputs": [],
   "source": [
    "y = heart['HeartDisease'].values"
   ]
  },
  {
   "cell_type": "code",
   "execution_count": 71,
   "id": "9f26b36b",
   "metadata": {},
   "outputs": [],
   "source": [
    "X_train, X_test, y_train, y_test = train_test_split(X, y, test_size=0.3, random_state=101)"
   ]
  },
  {
   "cell_type": "markdown",
   "id": "9373ff7b",
   "metadata": {},
   "source": [
    "### Data Normalisation"
   ]
  },
  {
   "cell_type": "code",
   "execution_count": 72,
   "id": "029a3383",
   "metadata": {},
   "outputs": [],
   "source": [
    "from sklearn.preprocessing import MinMaxScaler"
   ]
  },
  {
   "cell_type": "code",
   "execution_count": 73,
   "id": "3cc36ae1",
   "metadata": {},
   "outputs": [],
   "source": [
    "scaler = MinMaxScaler()"
   ]
  },
  {
   "cell_type": "code",
   "execution_count": 74,
   "id": "2acb3c47",
   "metadata": {},
   "outputs": [],
   "source": [
    "X_train = scaler.fit_transform(X_train)"
   ]
  },
  {
   "cell_type": "code",
   "execution_count": 75,
   "id": "4439cba9",
   "metadata": {},
   "outputs": [],
   "source": [
    "X_test = scaler.transform(X_test)"
   ]
  },
  {
   "cell_type": "markdown",
   "id": "6094dcde",
   "metadata": {},
   "source": [
    "**NOTE:** "
   ]
  },
  {
   "cell_type": "markdown",
   "id": "24e2a9ed",
   "metadata": {},
   "source": [
    "### Creating the Model"
   ]
  },
  {
   "cell_type": "code",
   "execution_count": 76,
   "id": "c45f4289",
   "metadata": {},
   "outputs": [],
   "source": [
    "import tensorflow as tf\n",
    "from tensorflow.keras.models import Sequential\n",
    "from tensorflow.keras.layers import Dense"
   ]
  },
  {
   "cell_type": "markdown",
   "id": "e5ac2cf2",
   "metadata": {},
   "source": [
    "A common rule of thumb is basing the number of neurons in our layers on the size of our actual feature data. "
   ]
  },
  {
   "cell_type": "code",
   "execution_count": 77,
   "id": "07daba22",
   "metadata": {},
   "outputs": [
    {
     "data": {
      "text/plain": [
       "(642, 15)"
      ]
     },
     "execution_count": 77,
     "metadata": {},
     "output_type": "execute_result"
    }
   ],
   "source": [
    "X_train.shape"
   ]
  },
  {
   "cell_type": "markdown",
   "id": "a912597c",
   "metadata": {},
   "source": [
    "We have 15 incoming features which is a good range for our number of neurons per layer."
   ]
  },
  {
   "cell_type": "markdown",
   "id": "6b11cd6f",
   "metadata": {},
   "source": [
    "To avoid overfitting, we'll adopt early stopping callback and add in dropout layers to stop the training based on our validation loss."
   ]
  },
  {
   "cell_type": "code",
   "execution_count": 78,
   "id": "35c20614",
   "metadata": {},
   "outputs": [],
   "source": [
    "from tensorflow.keras.callbacks import EarlyStopping"
   ]
  },
  {
   "cell_type": "code",
   "execution_count": 79,
   "id": "f44b7b11",
   "metadata": {},
   "outputs": [],
   "source": [
    "early_stop = EarlyStopping(monitor='val_loss',mode='min',verbose=1,patience=25)"
   ]
  },
  {
   "cell_type": "code",
   "execution_count": 80,
   "id": "af26e616",
   "metadata": {},
   "outputs": [
    {
     "name": "stderr",
     "output_type": "stream",
     "text": [
      "2022-10-01 23:16:49.286090: I tensorflow/core/platform/cpu_feature_guard.cc:151] This TensorFlow binary is optimized with oneAPI Deep Neural Network Library (oneDNN) to use the following CPU instructions in performance-critical operations:  AVX2 FMA\n",
      "To enable them in other operations, rebuild TensorFlow with the appropriate compiler flags.\n"
     ]
    }
   ],
   "source": [
    "model = Sequential()\n",
    "\n",
    "model.add(Dense(19,activation='relu'))\n",
    "\n",
    "model.add(Dense(19,activation='relu'))\n",
    "\n",
    "model.add(Dense(19,activation='relu'))\n",
    "\n",
    "model.add(Dense(19,activation='relu'))\n",
    "\n",
    "model.add(Dense(1,activation='sigmoid'))\n",
    "\n",
    "model.compile(loss='binary_crossentropy',optimizer='adam')"
   ]
  },
  {
   "cell_type": "markdown",
   "id": "0acdc8ab",
   "metadata": {},
   "source": [
    "We don't need to specify an epoch and batch size for the model considering the dataset is small."
   ]
  },
  {
   "cell_type": "code",
   "execution_count": 81,
   "id": "3bed6e36",
   "metadata": {},
   "outputs": [
    {
     "name": "stdout",
     "output_type": "stream",
     "text": [
      "Epoch 1/250\n",
      "21/21 [==============================] - 1s 8ms/step - loss: 0.6622 - val_loss: 0.6173\n",
      "Epoch 2/250\n",
      "21/21 [==============================] - 0s 2ms/step - loss: 0.5888 - val_loss: 0.5507\n",
      "Epoch 3/250\n",
      "21/21 [==============================] - 0s 2ms/step - loss: 0.5065 - val_loss: 0.4666\n",
      "Epoch 4/250\n",
      "21/21 [==============================] - 0s 2ms/step - loss: 0.4193 - val_loss: 0.4150\n",
      "Epoch 5/250\n",
      "21/21 [==============================] - 0s 2ms/step - loss: 0.3671 - val_loss: 0.4030\n",
      "Epoch 6/250\n",
      "21/21 [==============================] - 0s 2ms/step - loss: 0.3494 - val_loss: 0.3996\n",
      "Epoch 7/250\n",
      "21/21 [==============================] - 0s 2ms/step - loss: 0.3399 - val_loss: 0.3924\n",
      "Epoch 8/250\n",
      "21/21 [==============================] - 0s 2ms/step - loss: 0.3324 - val_loss: 0.3919\n",
      "Epoch 9/250\n",
      "21/21 [==============================] - 0s 2ms/step - loss: 0.3290 - val_loss: 0.3939\n",
      "Epoch 10/250\n",
      "21/21 [==============================] - 0s 2ms/step - loss: 0.3243 - val_loss: 0.3915\n",
      "Epoch 11/250\n",
      "21/21 [==============================] - 0s 2ms/step - loss: 0.3266 - val_loss: 0.3922\n",
      "Epoch 12/250\n",
      "21/21 [==============================] - 0s 2ms/step - loss: 0.3180 - val_loss: 0.3939\n",
      "Epoch 13/250\n",
      "21/21 [==============================] - 0s 2ms/step - loss: 0.3185 - val_loss: 0.3889\n",
      "Epoch 14/250\n",
      "21/21 [==============================] - 0s 2ms/step - loss: 0.3147 - val_loss: 0.3884\n",
      "Epoch 15/250\n",
      "21/21 [==============================] - 0s 2ms/step - loss: 0.3122 - val_loss: 0.3880\n",
      "Epoch 16/250\n",
      "21/21 [==============================] - 0s 2ms/step - loss: 0.3105 - val_loss: 0.3906\n",
      "Epoch 17/250\n",
      "21/21 [==============================] - 0s 2ms/step - loss: 0.3096 - val_loss: 0.3872\n",
      "Epoch 18/250\n",
      "21/21 [==============================] - 0s 2ms/step - loss: 0.3062 - val_loss: 0.3862\n",
      "Epoch 19/250\n",
      "21/21 [==============================] - 0s 2ms/step - loss: 0.3083 - val_loss: 0.3839\n",
      "Epoch 20/250\n",
      "21/21 [==============================] - 0s 2ms/step - loss: 0.3046 - val_loss: 0.3840\n",
      "Epoch 21/250\n",
      "21/21 [==============================] - 0s 2ms/step - loss: 0.3080 - val_loss: 0.3918\n",
      "Epoch 22/250\n",
      "21/21 [==============================] - 0s 2ms/step - loss: 0.3155 - val_loss: 0.3898\n",
      "Epoch 23/250\n",
      "21/21 [==============================] - 0s 2ms/step - loss: 0.2997 - val_loss: 0.3879\n",
      "Epoch 24/250\n",
      "21/21 [==============================] - 0s 2ms/step - loss: 0.2967 - val_loss: 0.3889\n",
      "Epoch 25/250\n",
      "21/21 [==============================] - 0s 2ms/step - loss: 0.2951 - val_loss: 0.3857\n",
      "Epoch 26/250\n",
      "21/21 [==============================] - 0s 2ms/step - loss: 0.2978 - val_loss: 0.3944\n",
      "Epoch 27/250\n",
      "21/21 [==============================] - 0s 2ms/step - loss: 0.2973 - val_loss: 0.3809\n",
      "Epoch 28/250\n",
      "21/21 [==============================] - 0s 2ms/step - loss: 0.2922 - val_loss: 0.3854\n",
      "Epoch 29/250\n",
      "21/21 [==============================] - 0s 2ms/step - loss: 0.2928 - val_loss: 0.3854\n",
      "Epoch 30/250\n",
      "21/21 [==============================] - 0s 2ms/step - loss: 0.2893 - val_loss: 0.3881\n",
      "Epoch 31/250\n",
      "21/21 [==============================] - 0s 2ms/step - loss: 0.2924 - val_loss: 0.3959\n",
      "Epoch 32/250\n",
      "21/21 [==============================] - 0s 2ms/step - loss: 0.2856 - val_loss: 0.3870\n",
      "Epoch 33/250\n",
      "21/21 [==============================] - 0s 2ms/step - loss: 0.2841 - val_loss: 0.3919\n",
      "Epoch 34/250\n",
      "21/21 [==============================] - 0s 2ms/step - loss: 0.2814 - val_loss: 0.3900\n",
      "Epoch 35/250\n",
      "21/21 [==============================] - 0s 2ms/step - loss: 0.2827 - val_loss: 0.3909\n",
      "Epoch 36/250\n",
      "21/21 [==============================] - 0s 2ms/step - loss: 0.2825 - val_loss: 0.3937\n",
      "Epoch 37/250\n",
      "21/21 [==============================] - 0s 2ms/step - loss: 0.2796 - val_loss: 0.3919\n",
      "Epoch 38/250\n",
      "21/21 [==============================] - 0s 2ms/step - loss: 0.2840 - val_loss: 0.3796\n",
      "Epoch 39/250\n",
      "21/21 [==============================] - 0s 2ms/step - loss: 0.2790 - val_loss: 0.3958\n",
      "Epoch 40/250\n",
      "21/21 [==============================] - 0s 2ms/step - loss: 0.2779 - val_loss: 0.3942\n",
      "Epoch 41/250\n",
      "21/21 [==============================] - 0s 2ms/step - loss: 0.2795 - val_loss: 0.3994\n",
      "Epoch 42/250\n",
      "21/21 [==============================] - 0s 2ms/step - loss: 0.2883 - val_loss: 0.3901\n",
      "Epoch 43/250\n",
      "21/21 [==============================] - 0s 2ms/step - loss: 0.2776 - val_loss: 0.3913\n",
      "Epoch 44/250\n",
      "21/21 [==============================] - 0s 2ms/step - loss: 0.2743 - val_loss: 0.4024\n",
      "Epoch 45/250\n",
      "21/21 [==============================] - 0s 2ms/step - loss: 0.2727 - val_loss: 0.3949\n",
      "Epoch 46/250\n",
      "21/21 [==============================] - 0s 2ms/step - loss: 0.2731 - val_loss: 0.3936\n",
      "Epoch 47/250\n",
      "21/21 [==============================] - 0s 2ms/step - loss: 0.2702 - val_loss: 0.3930\n",
      "Epoch 48/250\n",
      "21/21 [==============================] - 0s 2ms/step - loss: 0.2696 - val_loss: 0.3922\n",
      "Epoch 49/250\n",
      "21/21 [==============================] - 0s 2ms/step - loss: 0.2690 - val_loss: 0.3953\n",
      "Epoch 50/250\n",
      "21/21 [==============================] - 0s 2ms/step - loss: 0.2675 - val_loss: 0.3983\n",
      "Epoch 51/250\n",
      "21/21 [==============================] - 0s 2ms/step - loss: 0.2690 - val_loss: 0.3920\n",
      "Epoch 52/250\n",
      "21/21 [==============================] - 0s 2ms/step - loss: 0.2653 - val_loss: 0.4084\n",
      "Epoch 53/250\n",
      "21/21 [==============================] - 0s 2ms/step - loss: 0.2677 - val_loss: 0.3946\n",
      "Epoch 54/250\n",
      "21/21 [==============================] - 0s 2ms/step - loss: 0.2652 - val_loss: 0.3990\n",
      "Epoch 55/250\n",
      "21/21 [==============================] - 0s 2ms/step - loss: 0.2661 - val_loss: 0.3972\n",
      "Epoch 56/250\n",
      "21/21 [==============================] - 0s 2ms/step - loss: 0.2756 - val_loss: 0.4138\n",
      "Epoch 57/250\n",
      "21/21 [==============================] - 0s 2ms/step - loss: 0.2694 - val_loss: 0.4026\n",
      "Epoch 58/250\n",
      "21/21 [==============================] - 0s 2ms/step - loss: 0.2751 - val_loss: 0.4111\n",
      "Epoch 59/250\n",
      "21/21 [==============================] - 0s 2ms/step - loss: 0.2673 - val_loss: 0.4092\n",
      "Epoch 60/250\n",
      "21/21 [==============================] - 0s 2ms/step - loss: 0.2609 - val_loss: 0.4016\n",
      "Epoch 61/250\n",
      "21/21 [==============================] - 0s 2ms/step - loss: 0.2641 - val_loss: 0.4049\n",
      "Epoch 62/250\n",
      "21/21 [==============================] - 0s 2ms/step - loss: 0.2637 - val_loss: 0.4123\n",
      "Epoch 63/250\n",
      "21/21 [==============================] - 0s 2ms/step - loss: 0.2595 - val_loss: 0.3994\n",
      "Epoch 63: early stopping\n"
     ]
    },
    {
     "data": {
      "text/plain": [
       "<keras.callbacks.History at 0x1478f2fa0>"
      ]
     },
     "execution_count": 81,
     "metadata": {},
     "output_type": "execute_result"
    }
   ],
   "source": [
    "model.fit(x=X_train,y=y_train,epochs=250,validation_data=(X_test,y_test),callbacks=[early_stop])"
   ]
  },
  {
   "cell_type": "markdown",
   "id": "5d6f84b5",
   "metadata": {},
   "source": [
    "### Prediction and Evaluation"
   ]
  },
  {
   "cell_type": "code",
   "execution_count": 82,
   "id": "003a5773",
   "metadata": {},
   "outputs": [],
   "source": [
    "from sklearn.metrics import classification_report,confusion_matrix"
   ]
  },
  {
   "cell_type": "code",
   "execution_count": 83,
   "id": "ec12eebc",
   "metadata": {},
   "outputs": [],
   "source": [
    "predictions =  ((model.predict(X_test))>0.5).astype(int)"
   ]
  },
  {
   "cell_type": "code",
   "execution_count": 84,
   "id": "d52394d4",
   "metadata": {},
   "outputs": [
    {
     "data": {
      "text/plain": [
       "array([[0],\n",
       "       [1],\n",
       "       [0],\n",
       "       [1],\n",
       "       [1],\n",
       "       [1],\n",
       "       [0],\n",
       "       [0],\n",
       "       [1],\n",
       "       [0]])"
      ]
     },
     "execution_count": 84,
     "metadata": {},
     "output_type": "execute_result"
    }
   ],
   "source": [
    "predictions[:10]"
   ]
  },
  {
   "cell_type": "code",
   "execution_count": 85,
   "id": "eba83954",
   "metadata": {},
   "outputs": [
    {
     "name": "stdout",
     "output_type": "stream",
     "text": [
      "[[ 98  28]\n",
      " [ 16 134]]\n",
      "\n",
      "\n",
      "              precision    recall  f1-score   support\n",
      "\n",
      "           0       0.86      0.78      0.82       126\n",
      "           1       0.83      0.89      0.86       150\n",
      "\n",
      "    accuracy                           0.84       276\n",
      "   macro avg       0.84      0.84      0.84       276\n",
      "weighted avg       0.84      0.84      0.84       276\n",
      "\n"
     ]
    }
   ],
   "source": [
    "print(confusion_matrix(y_test,predictions))\n",
    "print('\\n')\n",
    "print(classification_report(y_test,predictions))"
   ]
  },
  {
   "cell_type": "code",
   "execution_count": 86,
   "id": "affce397",
   "metadata": {},
   "outputs": [],
   "source": [
    "zero_col_check = (heart[['Age', 'ChestPainType', 'RestingBP', 'Cholesterol', 'FastingBS',\n",
    "       'RestingECG', 'MaxHR', 'ExerciseAngina', 'Oldpeak', 'ST_Slope']] == 0)"
   ]
  },
  {
   "cell_type": "code",
   "execution_count": 87,
   "id": "29fc5997",
   "metadata": {},
   "outputs": [
    {
     "data": {
      "text/plain": [
       "Age                 0\n",
       "ChestPainType       0\n",
       "RestingBP           1\n",
       "Cholesterol       172\n",
       "FastingBS         704\n",
       "RestingECG          0\n",
       "MaxHR               0\n",
       "ExerciseAngina      0\n",
       "Oldpeak           368\n",
       "ST_Slope            0\n",
       "dtype: int64"
      ]
     },
     "execution_count": 87,
     "metadata": {},
     "output_type": "execute_result"
    }
   ],
   "source": [
    "zero_col_check.sum()"
   ]
  },
  {
   "cell_type": "markdown",
   "id": "c70669a8",
   "metadata": {},
   "source": [
    "To see how significant this missing values are, let's convert the series in terms of percentage of the entire dataset:"
   ]
  },
  {
   "cell_type": "code",
   "execution_count": 88,
   "id": "0801850a",
   "metadata": {},
   "outputs": [
    {
     "data": {
      "text/plain": [
       "Age               0.000000\n",
       "ChestPainType     0.000000\n",
       "RestingBP         0.001089\n",
       "Cholesterol       0.187364\n",
       "FastingBS         0.766885\n",
       "RestingECG        0.000000\n",
       "MaxHR             0.000000\n",
       "ExerciseAngina    0.000000\n",
       "Oldpeak           0.400871\n",
       "ST_Slope          0.000000\n",
       "dtype: float64"
      ]
     },
     "execution_count": 88,
     "metadata": {},
     "output_type": "execute_result"
    }
   ],
   "source": [
    "zero_col_check.sum()/len(heart)"
   ]
  },
  {
   "cell_type": "markdown",
   "id": "f63ca931",
   "metadata": {},
   "source": [
    "**Old Peak:**"
   ]
  },
  {
   "cell_type": "markdown",
   "id": "733685ec",
   "metadata": {},
   "source": [
    "We can safely ignore the 0 values in the Oldpeak feature because they represent no depression on the ST segment of the ECG which means no abnormalities.\n",
    "\n",
    "Source: https://www.kaggle.com/datasets/fedesoriano/heart-failure-prediction/discussion/285525"
   ]
  },
  {
   "cell_type": "markdown",
   "id": "835bbe4d",
   "metadata": {},
   "source": [
    "**Resting BP:**"
   ]
  },
  {
   "cell_type": "markdown",
   "id": "7e9070f2",
   "metadata": {},
   "source": [
    "At just 0.11% of the entire dataframe with a single zero entry, it wouldn't make much of a difference changing the value. We can leave the row as is or delete it. Either way, it's fine."
   ]
  },
  {
   "cell_type": "markdown",
   "id": "4cb78755",
   "metadata": {},
   "source": [
    "We can try to fill in the missing values for the other features based off the averages of correlated columns and see if the model performs better this time. The problem with this method, however, is it's not exactly suited for this particular dataset. "
   ]
  },
  {
   "cell_type": "markdown",
   "id": "137ff7a3",
   "metadata": {},
   "source": [
    "**Cholesterol:**"
   ]
  },
  {
   "cell_type": "markdown",
   "id": "8918f9ca",
   "metadata": {},
   "source": [
    "Let's find a column with a high correlation with Cholesterol."
   ]
  },
  {
   "cell_type": "code",
   "execution_count": 89,
   "id": "e0737d1c",
   "metadata": {
    "scrolled": true
   },
   "outputs": [
    {
     "ename": "NameError",
     "evalue": "name 'zero_cols' is not defined",
     "output_type": "error",
     "traceback": [
      "\u001b[0;31m---------------------------------------------------------------------------\u001b[0m",
      "\u001b[0;31mNameError\u001b[0m                                 Traceback (most recent call last)",
      "\u001b[0;32m/var/folders/xl/v8krktws1950jqr4dwl6px980000gp/T/ipykernel_8128/2177177878.py\u001b[0m in \u001b[0;36m<module>\u001b[0;34m\u001b[0m\n\u001b[0;32m----> 1\u001b[0;31m \u001b[0mheart\u001b[0m\u001b[0;34m[\u001b[0m\u001b[0mzero_cols\u001b[0m\u001b[0;34m]\u001b[0m\u001b[0;34m.\u001b[0m\u001b[0mcorr\u001b[0m\u001b[0;34m(\u001b[0m\u001b[0;34m)\u001b[0m\u001b[0;34m[\u001b[0m\u001b[0;34m'Cholesterol'\u001b[0m\u001b[0;34m]\u001b[0m\u001b[0;34m.\u001b[0m\u001b[0msort_values\u001b[0m\u001b[0;34m(\u001b[0m\u001b[0;34m)\u001b[0m\u001b[0;34m\u001b[0m\u001b[0;34m\u001b[0m\u001b[0m\n\u001b[0m",
      "\u001b[0;31mNameError\u001b[0m: name 'zero_cols' is not defined"
     ]
    }
   ],
   "source": [
    "heart[zero_cols].corr()['Cholesterol'].sort_values()"
   ]
  },
  {
   "cell_type": "markdown",
   "id": "84a48c6d",
   "metadata": {},
   "source": [
    "The MaxHR feature correlates the most with Cholesterol but there are 10 MaxHR figures with zero mean values for Cholesterol already. This clearly doesn't help our problem."
   ]
  },
  {
   "cell_type": "code",
   "execution_count": 90,
   "id": "d6723447",
   "metadata": {},
   "outputs": [
    {
     "data": {
      "text/plain": [
       "False    109\n",
       "True      10\n",
       "Name: Cholesterol, dtype: int64"
      ]
     },
     "execution_count": 90,
     "metadata": {},
     "output_type": "execute_result"
    }
   ],
   "source": [
    "(heart.groupby('MaxHR').mean()['Cholesterol']==0).value_counts()"
   ]
  },
  {
   "cell_type": "markdown",
   "id": "ea604912",
   "metadata": {},
   "source": [
    "**FastingBS:**"
   ]
  },
  {
   "cell_type": "code",
   "execution_count": 91,
   "id": "094529ac",
   "metadata": {},
   "outputs": [
    {
     "ename": "NameError",
     "evalue": "name 'zero_cols' is not defined",
     "output_type": "error",
     "traceback": [
      "\u001b[0;31m---------------------------------------------------------------------------\u001b[0m",
      "\u001b[0;31mNameError\u001b[0m                                 Traceback (most recent call last)",
      "\u001b[0;32m/var/folders/xl/v8krktws1950jqr4dwl6px980000gp/T/ipykernel_8128/3950140856.py\u001b[0m in \u001b[0;36m<module>\u001b[0;34m\u001b[0m\n\u001b[0;32m----> 1\u001b[0;31m \u001b[0mheart\u001b[0m\u001b[0;34m[\u001b[0m\u001b[0mzero_cols\u001b[0m\u001b[0;34m]\u001b[0m\u001b[0;34m.\u001b[0m\u001b[0mcorr\u001b[0m\u001b[0;34m(\u001b[0m\u001b[0;34m)\u001b[0m\u001b[0;34m[\u001b[0m\u001b[0;34m'FastingBS'\u001b[0m\u001b[0;34m]\u001b[0m\u001b[0;34m.\u001b[0m\u001b[0msort_values\u001b[0m\u001b[0;34m(\u001b[0m\u001b[0;34m)\u001b[0m\u001b[0;34m\u001b[0m\u001b[0;34m\u001b[0m\u001b[0m\n\u001b[0m",
      "\u001b[0;31mNameError\u001b[0m: name 'zero_cols' is not defined"
     ]
    }
   ],
   "source": [
    "heart[zero_cols].corr()['FastingBS'].sort_values()"
   ]
  },
  {
   "cell_type": "markdown",
   "id": "3b74887d",
   "metadata": {},
   "source": [
    "The Age feature correlates the most with FastingBS."
   ]
  },
  {
   "cell_type": "code",
   "execution_count": 92,
   "id": "f0dee297",
   "metadata": {},
   "outputs": [
    {
     "data": {
      "text/plain": [
       "False    39\n",
       "True     11\n",
       "Name: FastingBS, dtype: int64"
      ]
     },
     "execution_count": 92,
     "metadata": {},
     "output_type": "execute_result"
    }
   ],
   "source": [
    "(heart.groupby('Age').mean()['FastingBS']==0).value_counts()"
   ]
  },
  {
   "cell_type": "markdown",
   "id": "a85e356f",
   "metadata": {},
   "source": [
    "There are 11 Age figures with zero mean values for FastingBS. This also doesn't help our problem."
   ]
  },
  {
   "cell_type": "markdown",
   "id": "4c8d89e2",
   "metadata": {},
   "source": [
    "Let's try to fit the model again without these two features and see if the results are any different and possibly, even better. Remember that while Cholesterol showed no observable connection to heart disease earlier in the project, FastingBS showed a compelling connection to heart disease for individuals with levels exceeding 120 mg/dl."
   ]
  },
  {
   "cell_type": "code",
   "execution_count": 93,
   "id": "bb369b2b",
   "metadata": {},
   "outputs": [
    {
     "data": {
      "text/plain": [
       "Age                 int64\n",
       "ChestPainType      object\n",
       "RestingBP           int64\n",
       "Cholesterol         int64\n",
       "FastingBS           int64\n",
       "RestingECG         object\n",
       "MaxHR               int64\n",
       "ExerciseAngina     object\n",
       "Oldpeak           float64\n",
       "ST_Slope           object\n",
       "HeartDisease        int64\n",
       "Male                uint8\n",
       "ATA                 uint8\n",
       "NAP                 uint8\n",
       "TA                  uint8\n",
       "Normal              uint8\n",
       "ST                  uint8\n",
       "Y                   uint8\n",
       "Flat                uint8\n",
       "Up                  uint8\n",
       "dtype: object"
      ]
     },
     "execution_count": 93,
     "metadata": {},
     "output_type": "execute_result"
    }
   ],
   "source": [
    "heart.dtypes"
   ]
  },
  {
   "cell_type": "code",
   "execution_count": 94,
   "id": "6603addf",
   "metadata": {},
   "outputs": [],
   "source": [
    "X = heart.drop(['ChestPainType','Cholesterol','FastingBS','RestingECG','ExerciseAngina','ST_Slope','HeartDisease'],axis=1).values"
   ]
  },
  {
   "cell_type": "code",
   "execution_count": 95,
   "id": "56421947",
   "metadata": {},
   "outputs": [],
   "source": [
    "y = heart['HeartDisease'].values"
   ]
  },
  {
   "cell_type": "code",
   "execution_count": 96,
   "id": "dce2dbea",
   "metadata": {},
   "outputs": [],
   "source": [
    "X_train, X_test, y_train, y_test = train_test_split(X, y, test_size=0.3, random_state=101)"
   ]
  },
  {
   "cell_type": "code",
   "execution_count": 97,
   "id": "770100e9",
   "metadata": {},
   "outputs": [],
   "source": [
    "from sklearn.preprocessing import MinMaxScaler\n",
    "scaler = MinMaxScaler()\n",
    "X_train = scaler.fit_transform(X_train)\n",
    "X_test = scaler.transform(X_test)"
   ]
  },
  {
   "cell_type": "code",
   "execution_count": 98,
   "id": "06066517",
   "metadata": {},
   "outputs": [],
   "source": [
    "early_stop = EarlyStopping(monitor='val_loss',mode='min',verbose=1,patience=25)"
   ]
  },
  {
   "cell_type": "code",
   "execution_count": 99,
   "id": "a27414d4",
   "metadata": {},
   "outputs": [],
   "source": [
    "model = Sequential()\n",
    "\n",
    "model.add(Dense(19,activation='relu'))\n",
    "\n",
    "model.add(Dense(19,activation='relu'))\n",
    "\n",
    "model.add(Dense(19,activation='relu'))\n",
    "\n",
    "model.add(Dense(19,activation='relu'))\n",
    "\n",
    "model.add(Dense(1,activation='sigmoid'))\n",
    "\n",
    "model.compile(loss='binary_crossentropy',optimizer='adam')"
   ]
  },
  {
   "cell_type": "code",
   "execution_count": 100,
   "id": "d5683f49",
   "metadata": {},
   "outputs": [
    {
     "name": "stdout",
     "output_type": "stream",
     "text": [
      "Epoch 1/250\n",
      "21/21 [==============================] - 0s 6ms/step - loss: 0.6788 - val_loss: 0.6574\n",
      "Epoch 2/250\n",
      "21/21 [==============================] - 0s 2ms/step - loss: 0.6244 - val_loss: 0.6045\n",
      "Epoch 3/250\n",
      "21/21 [==============================] - 0s 2ms/step - loss: 0.5603 - val_loss: 0.5394\n",
      "Epoch 4/250\n",
      "21/21 [==============================] - 0s 2ms/step - loss: 0.4805 - val_loss: 0.4714\n",
      "Epoch 5/250\n",
      "21/21 [==============================] - 0s 2ms/step - loss: 0.4236 - val_loss: 0.4404\n",
      "Epoch 6/250\n",
      "21/21 [==============================] - 0s 2ms/step - loss: 0.3808 - val_loss: 0.4260\n",
      "Epoch 7/250\n",
      "21/21 [==============================] - 0s 2ms/step - loss: 0.3583 - val_loss: 0.4316\n",
      "Epoch 8/250\n",
      "21/21 [==============================] - 0s 2ms/step - loss: 0.3535 - val_loss: 0.4226\n",
      "Epoch 9/250\n",
      "21/21 [==============================] - 0s 2ms/step - loss: 0.3439 - val_loss: 0.4176\n",
      "Epoch 10/250\n",
      "21/21 [==============================] - 0s 2ms/step - loss: 0.3416 - val_loss: 0.4167\n",
      "Epoch 11/250\n",
      "21/21 [==============================] - 0s 2ms/step - loss: 0.3392 - val_loss: 0.4112\n",
      "Epoch 12/250\n",
      "21/21 [==============================] - 0s 2ms/step - loss: 0.3380 - val_loss: 0.4119\n",
      "Epoch 13/250\n",
      "21/21 [==============================] - 0s 2ms/step - loss: 0.3387 - val_loss: 0.4175\n",
      "Epoch 14/250\n",
      "21/21 [==============================] - 0s 2ms/step - loss: 0.3310 - val_loss: 0.4100\n",
      "Epoch 15/250\n",
      "21/21 [==============================] - 0s 2ms/step - loss: 0.3343 - val_loss: 0.3992\n",
      "Epoch 16/250\n",
      "21/21 [==============================] - 0s 2ms/step - loss: 0.3393 - val_loss: 0.4035\n",
      "Epoch 17/250\n",
      "21/21 [==============================] - 0s 2ms/step - loss: 0.3345 - val_loss: 0.4045\n",
      "Epoch 18/250\n",
      "21/21 [==============================] - 0s 2ms/step - loss: 0.3283 - val_loss: 0.4121\n",
      "Epoch 19/250\n",
      "21/21 [==============================] - 0s 2ms/step - loss: 0.3251 - val_loss: 0.4132\n",
      "Epoch 20/250\n",
      "21/21 [==============================] - 0s 2ms/step - loss: 0.3234 - val_loss: 0.4087\n",
      "Epoch 21/250\n",
      "21/21 [==============================] - 0s 2ms/step - loss: 0.3217 - val_loss: 0.4110\n",
      "Epoch 22/250\n",
      "21/21 [==============================] - 0s 2ms/step - loss: 0.3249 - val_loss: 0.4065\n",
      "Epoch 23/250\n",
      "21/21 [==============================] - 0s 2ms/step - loss: 0.3212 - val_loss: 0.4038\n",
      "Epoch 24/250\n",
      "21/21 [==============================] - 0s 2ms/step - loss: 0.3195 - val_loss: 0.4075\n",
      "Epoch 25/250\n",
      "21/21 [==============================] - 0s 2ms/step - loss: 0.3170 - val_loss: 0.4092\n",
      "Epoch 26/250\n",
      "21/21 [==============================] - 0s 2ms/step - loss: 0.3153 - val_loss: 0.4073\n",
      "Epoch 27/250\n",
      "21/21 [==============================] - 0s 2ms/step - loss: 0.3158 - val_loss: 0.4094\n",
      "Epoch 28/250\n",
      "21/21 [==============================] - 0s 2ms/step - loss: 0.3175 - val_loss: 0.4067\n",
      "Epoch 29/250\n",
      "21/21 [==============================] - 0s 2ms/step - loss: 0.3163 - val_loss: 0.4101\n",
      "Epoch 30/250\n",
      "21/21 [==============================] - 0s 2ms/step - loss: 0.3136 - val_loss: 0.4087\n",
      "Epoch 31/250\n",
      "21/21 [==============================] - 0s 2ms/step - loss: 0.3121 - val_loss: 0.4043\n",
      "Epoch 32/250\n",
      "21/21 [==============================] - 0s 2ms/step - loss: 0.3116 - val_loss: 0.4107\n",
      "Epoch 33/250\n",
      "21/21 [==============================] - 0s 2ms/step - loss: 0.3225 - val_loss: 0.4032\n",
      "Epoch 34/250\n",
      "21/21 [==============================] - 0s 2ms/step - loss: 0.3112 - val_loss: 0.3958\n",
      "Epoch 35/250\n",
      "21/21 [==============================] - 0s 2ms/step - loss: 0.3095 - val_loss: 0.4025\n",
      "Epoch 36/250\n",
      "21/21 [==============================] - 0s 2ms/step - loss: 0.3076 - val_loss: 0.4043\n",
      "Epoch 37/250\n",
      "21/21 [==============================] - 0s 2ms/step - loss: 0.3052 - val_loss: 0.4055\n",
      "Epoch 38/250\n",
      "21/21 [==============================] - 0s 2ms/step - loss: 0.3036 - val_loss: 0.4074\n",
      "Epoch 39/250\n",
      "21/21 [==============================] - 0s 2ms/step - loss: 0.3058 - val_loss: 0.4116\n",
      "Epoch 40/250\n",
      "21/21 [==============================] - 0s 2ms/step - loss: 0.3030 - val_loss: 0.4063\n",
      "Epoch 41/250\n",
      "21/21 [==============================] - 0s 2ms/step - loss: 0.3021 - val_loss: 0.4097\n",
      "Epoch 42/250\n",
      "21/21 [==============================] - 0s 2ms/step - loss: 0.3024 - val_loss: 0.4078\n",
      "Epoch 43/250\n",
      "21/21 [==============================] - 0s 2ms/step - loss: 0.3020 - val_loss: 0.4095\n",
      "Epoch 44/250\n",
      "21/21 [==============================] - 0s 2ms/step - loss: 0.3000 - val_loss: 0.4174\n",
      "Epoch 45/250\n",
      "21/21 [==============================] - 0s 2ms/step - loss: 0.3044 - val_loss: 0.4081\n",
      "Epoch 46/250\n",
      "21/21 [==============================] - 0s 2ms/step - loss: 0.3004 - val_loss: 0.4116\n",
      "Epoch 47/250\n",
      "21/21 [==============================] - 0s 2ms/step - loss: 0.2981 - val_loss: 0.4096\n",
      "Epoch 48/250\n",
      "21/21 [==============================] - 0s 2ms/step - loss: 0.2981 - val_loss: 0.4096\n",
      "Epoch 49/250\n",
      "21/21 [==============================] - 0s 2ms/step - loss: 0.3019 - val_loss: 0.4094\n",
      "Epoch 50/250\n",
      "21/21 [==============================] - 0s 2ms/step - loss: 0.2996 - val_loss: 0.4105\n",
      "Epoch 51/250\n",
      "21/21 [==============================] - 0s 2ms/step - loss: 0.3037 - val_loss: 0.4086\n",
      "Epoch 52/250\n",
      "21/21 [==============================] - 0s 2ms/step - loss: 0.2959 - val_loss: 0.4092\n",
      "Epoch 53/250\n",
      "21/21 [==============================] - 0s 2ms/step - loss: 0.2939 - val_loss: 0.4059\n",
      "Epoch 54/250\n",
      "21/21 [==============================] - 0s 2ms/step - loss: 0.2914 - val_loss: 0.4115\n",
      "Epoch 55/250\n",
      "21/21 [==============================] - 0s 2ms/step - loss: 0.2916 - val_loss: 0.4019\n",
      "Epoch 56/250\n",
      "21/21 [==============================] - 0s 2ms/step - loss: 0.2905 - val_loss: 0.4119\n",
      "Epoch 57/250\n",
      "21/21 [==============================] - 0s 2ms/step - loss: 0.2913 - val_loss: 0.4101\n",
      "Epoch 58/250\n",
      "21/21 [==============================] - 0s 2ms/step - loss: 0.2914 - val_loss: 0.4117\n",
      "Epoch 59/250\n",
      "21/21 [==============================] - 0s 2ms/step - loss: 0.2886 - val_loss: 0.4281\n",
      "Epoch 59: early stopping\n"
     ]
    },
    {
     "data": {
      "text/plain": [
       "<keras.callbacks.History at 0x11be93790>"
      ]
     },
     "execution_count": 100,
     "metadata": {},
     "output_type": "execute_result"
    }
   ],
   "source": [
    "model.fit(x=X_train,y=y_train,epochs=250,validation_data=(X_test,y_test),callbacks=[early_stop])"
   ]
  },
  {
   "cell_type": "code",
   "execution_count": 101,
   "id": "f2098219",
   "metadata": {},
   "outputs": [],
   "source": [
    "losses = pd.DataFrame(model.history.history)"
   ]
  },
  {
   "cell_type": "code",
   "execution_count": 102,
   "id": "c75c5371",
   "metadata": {},
   "outputs": [
    {
     "data": {
      "text/plain": [
       "<AxesSubplot:>"
      ]
     },
     "execution_count": 102,
     "metadata": {},
     "output_type": "execute_result"
    },
    {
     "data": {
      "image/png": "[encoded data removed]",
      "text/plain": [
       "<Figure size 432x288 with 1 Axes>"
      ]
     },
     "metadata": {
      "needs_background": "light"
     },
     "output_type": "display_data"
    }
   ],
   "source": [
    "losses.plot()"
   ]
  },
  {
   "cell_type": "code",
   "execution_count": 103,
   "id": "b848b69c",
   "metadata": {},
   "outputs": [],
   "source": [
    "predictions =  ((model.predict(X_test))>0.5).astype(int)"
   ]
  },
  {
   "cell_type": "code",
   "execution_count": 104,
   "id": "19c476cd",
   "metadata": {},
   "outputs": [
    {
     "data": {
      "text/plain": [
       "array([[0],\n",
       "       [1],\n",
       "       [0],\n",
       "       [1],\n",
       "       [1],\n",
       "       [1],\n",
       "       [0],\n",
       "       [0],\n",
       "       [0],\n",
       "       [0]])"
      ]
     },
     "execution_count": 104,
     "metadata": {},
     "output_type": "execute_result"
    }
   ],
   "source": [
    "predictions[:10]"
   ]
  },
  {
   "cell_type": "code",
   "execution_count": 105,
   "id": "5e3e2e37",
   "metadata": {},
   "outputs": [
    {
     "name": "stdout",
     "output_type": "stream",
     "text": [
      "[[106  20]\n",
      " [ 29 121]]\n",
      "\n",
      "\n",
      "              precision    recall  f1-score   support\n",
      "\n",
      "           0       0.79      0.84      0.81       126\n",
      "           1       0.86      0.81      0.83       150\n",
      "\n",
      "    accuracy                           0.82       276\n",
      "   macro avg       0.82      0.82      0.82       276\n",
      "weighted avg       0.82      0.82      0.82       276\n",
      "\n"
     ]
    }
   ],
   "source": [
    "print(confusion_matrix(y_test,predictions))\n",
    "print('\\n')\n",
    "print(classification_report(y_test,predictions))"
   ]
  },
  {
   "cell_type": "markdown",
   "id": "0b8da9c4",
   "metadata": {},
   "source": [
    "The performance this time isn't any starkly different from the previous one. There isn't much we're missing across every metric: precision, recall and accuracy. But it's best to keep both features in the model considering their importance in real world cases and their implications for diagnosis. We just excluded them here on a 'what-if' basis because they had a lot of missing values."
   ]
  },
  {
   "cell_type": "markdown",
   "id": "67e6a0cd",
   "metadata": {},
   "source": [
    "## Section 4: Conclusion"
   ]
  },
  {
   "cell_type": "markdown",
   "id": "b0b34e7c",
   "metadata": {},
   "source": [
    "It is important that our model is efficient with f1-scores at leasr around the 90s considering it could be determining life and death outcomes for individuals in the real world. The cost of misdiagnosing the absence of heart failure where there is indeed one far outweigh the costs of misdiagnosing the presence of heart failure where there isn't one.\n",
    "\n",
    "Some suggestions to improve the model would be filling in those zero values with actual readings and expanding the dataset to include more determining features (again, with the help of domain knowledge, of course)."
   ]
  },
  {
   "cell_type": "markdown",
   "id": "749f212e",
   "metadata": {},
   "source": [
    "## Thank You!"
   ]
  },
  {
   "cell_type": "code",
   "execution_count": null,
   "id": "0291cf80",
   "metadata": {},
   "outputs": [],
   "source": []
  }
 ],
 "metadata": {
  "kernelspec": {
   "display_name": "Python 3 (ipykernel)",
   "language": "python",
   "name": "python3"
  },
  "language_info": {
   "codemirror_mode": {
    "name": "ipython",
    "version": 3
   },
   "file_extension": ".py",
   "mimetype": "text/x-python",
   "name": "python",
   "nbconvert_exporter": "python",
   "pygments_lexer": "ipython3",
   "version": "3.9.7"
  }
 },
 "nbformat": 4,
 "nbformat_minor": 5
}
