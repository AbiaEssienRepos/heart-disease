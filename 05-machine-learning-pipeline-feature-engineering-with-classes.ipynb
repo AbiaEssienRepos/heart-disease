{
 "cells": [
  {
   "cell_type": "markdown",
   "id": "44826291-682d-44fc-98e0-d72c0a846610",
   "metadata": {},
   "source": [
    "# Machine Learning Pipeline - Feature Engineering with Classes\n",
    "\n",
    "In this notebook, we will reproduce the Feature Engineering Pipeline from the notebook 2 (02-Machine-Learning-Pipeline-Feature-Engineering), but we will replace, whenever possible, the manually created functions with our created classes, and hopefully understand the value they bring forward.\n",
    "\n",
    "Our classes are saved in the preprocessors module file."
   ]
  },
  {
   "cell_type": "code",
   "execution_count": 1,
   "id": "93ba2174-fd05-42f1-adf6-6250ba9d2823",
   "metadata": {},
   "outputs": [],
   "source": [
    "# data manipulation\n",
    "import pandas as pd\n",
    "import numpy as np\n",
    "\n",
    "# from sklearn\n",
    "from sklearn.model_selection import train_test_split\n",
    "\n",
    "# to visualise all the columns in the dataframe\n",
    "pd.pandas.set_option('display.max_columns', None)\n",
    "\n",
    "# our in-house pre-processing module\n",
    "import preprocessors as pp"
   ]
  },
  {
   "cell_type": "code",
   "execution_count": 2,
   "id": "a2fceb5f-a68b-4557-b10a-1cfa34494b91",
   "metadata": {},
   "outputs": [
    {
     "name": "stdout",
     "output_type": "stream",
     "text": [
      "Number of rows: 918\n",
      "Number of columns: 12\n"
     ]
    },
    {
     "data": {
      "text/html": [
       "<div>\n",
       "<style scoped>\n",
       "    .dataframe tbody tr th:only-of-type {\n",
       "        vertical-align: middle;\n",
       "    }\n",
       "\n",
       "    .dataframe tbody tr th {\n",
       "        vertical-align: top;\n",
       "    }\n",
       "\n",
       "    .dataframe thead th {\n",
       "        text-align: right;\n",
       "    }\n",
       "</style>\n",
       "<table border=\"1\" class=\"dataframe\">\n",
       "  <thead>\n",
       "    <tr style=\"text-align: right;\">\n",
       "      <th></th>\n",
       "      <th>Age</th>\n",
       "      <th>Sex</th>\n",
       "      <th>ChestPainType</th>\n",
       "      <th>RestingBP</th>\n",
       "      <th>Cholesterol</th>\n",
       "      <th>FastingBS</th>\n",
       "      <th>RestingECG</th>\n",
       "      <th>MaxHR</th>\n",
       "      <th>ExerciseAngina</th>\n",
       "      <th>Oldpeak</th>\n",
       "      <th>ST_Slope</th>\n",
       "      <th>HeartDisease</th>\n",
       "    </tr>\n",
       "  </thead>\n",
       "  <tbody>\n",
       "    <tr>\n",
       "      <th>0</th>\n",
       "      <td>40</td>\n",
       "      <td>M</td>\n",
       "      <td>ATA</td>\n",
       "      <td>140</td>\n",
       "      <td>289</td>\n",
       "      <td>0</td>\n",
       "      <td>Normal</td>\n",
       "      <td>172</td>\n",
       "      <td>N</td>\n",
       "      <td>0.0</td>\n",
       "      <td>Up</td>\n",
       "      <td>0</td>\n",
       "    </tr>\n",
       "    <tr>\n",
       "      <th>1</th>\n",
       "      <td>49</td>\n",
       "      <td>F</td>\n",
       "      <td>NAP</td>\n",
       "      <td>160</td>\n",
       "      <td>180</td>\n",
       "      <td>0</td>\n",
       "      <td>Normal</td>\n",
       "      <td>156</td>\n",
       "      <td>N</td>\n",
       "      <td>1.0</td>\n",
       "      <td>Flat</td>\n",
       "      <td>1</td>\n",
       "    </tr>\n",
       "    <tr>\n",
       "      <th>2</th>\n",
       "      <td>37</td>\n",
       "      <td>M</td>\n",
       "      <td>ATA</td>\n",
       "      <td>130</td>\n",
       "      <td>283</td>\n",
       "      <td>0</td>\n",
       "      <td>ST</td>\n",
       "      <td>98</td>\n",
       "      <td>N</td>\n",
       "      <td>0.0</td>\n",
       "      <td>Up</td>\n",
       "      <td>0</td>\n",
       "    </tr>\n",
       "    <tr>\n",
       "      <th>3</th>\n",
       "      <td>48</td>\n",
       "      <td>F</td>\n",
       "      <td>ASY</td>\n",
       "      <td>138</td>\n",
       "      <td>214</td>\n",
       "      <td>0</td>\n",
       "      <td>Normal</td>\n",
       "      <td>108</td>\n",
       "      <td>Y</td>\n",
       "      <td>1.5</td>\n",
       "      <td>Flat</td>\n",
       "      <td>1</td>\n",
       "    </tr>\n",
       "    <tr>\n",
       "      <th>4</th>\n",
       "      <td>54</td>\n",
       "      <td>M</td>\n",
       "      <td>NAP</td>\n",
       "      <td>150</td>\n",
       "      <td>195</td>\n",
       "      <td>0</td>\n",
       "      <td>Normal</td>\n",
       "      <td>122</td>\n",
       "      <td>N</td>\n",
       "      <td>0.0</td>\n",
       "      <td>Up</td>\n",
       "      <td>0</td>\n",
       "    </tr>\n",
       "  </tbody>\n",
       "</table>\n",
       "</div>"
      ],
      "text/plain": [
       "   Age Sex ChestPainType  RestingBP  Cholesterol  FastingBS RestingECG  MaxHR  \\\n",
       "0   40   M           ATA        140          289          0     Normal    172   \n",
       "1   49   F           NAP        160          180          0     Normal    156   \n",
       "2   37   M           ATA        130          283          0         ST     98   \n",
       "3   48   F           ASY        138          214          0     Normal    108   \n",
       "4   54   M           NAP        150          195          0     Normal    122   \n",
       "\n",
       "  ExerciseAngina  Oldpeak ST_Slope  HeartDisease  \n",
       "0              N      0.0       Up             0  \n",
       "1              N      1.0     Flat             1  \n",
       "2              N      0.0       Up             0  \n",
       "3              Y      1.5     Flat             1  \n",
       "4              N      0.0       Up             0  "
      ]
     },
     "execution_count": 2,
     "metadata": {},
     "output_type": "execute_result"
    }
   ],
   "source": [
    "# load dataset\n",
    "data = pd.read_csv('heart.csv')\n",
    "\n",
    "# rows and columns of the data\n",
    "print(f'Number of rows: {data.shape[0]}')\n",
    "print(f'Number of columns: {data.shape[1]}')\n",
    "\n",
    "# visualise the dataset\n",
    "data.head()"
   ]
  },
  {
   "cell_type": "markdown",
   "id": "c9e71868-6c8a-4c38-b8ab-6e6cddf2a9aa",
   "metadata": {},
   "source": [
    "# Separate dataset into train and test\n",
    "\n",
    "It is important to separate our data intro training and testing set.\n",
    "\n",
    "When we engineer features, some techniques learn parameters from data. It is important to learn these parameters only from the train set. This is to avoid over-fitting.\n",
    "\n",
    "**Separating the data into train and test involves randomness, therefore, we need to set the seed.**"
   ]
  },
  {
   "cell_type": "code",
   "execution_count": 3,
   "id": "f821f42f-f1e9-496d-8930-06f4a9005d0f",
   "metadata": {},
   "outputs": [],
   "source": [
    "# Let's separate into train and test set\n",
    "# Remember to set the seed (random_state for this sklearn function)\n",
    "\n",
    "X_train, X_test, y_train, y_test = train_test_split(\n",
    "    data.drop(['HeartDisease'], axis=1), # predictive variables\n",
    "    data['HeartDisease'], # target\n",
    "    test_size=0.2, # portion of dataset to allocate to test set\n",
    "    random_state=0, # we are setting the seed here\n",
    ")"
   ]
  },
  {
   "cell_type": "code",
   "execution_count": 4,
   "id": "14c6fe24-49c6-4b64-b6b3-5ba7d894a200",
   "metadata": {},
   "outputs": [
    {
     "data": {
      "text/plain": [
       "((734, 11), (184, 11))"
      ]
     },
     "execution_count": 4,
     "metadata": {},
     "output_type": "execute_result"
    }
   ],
   "source": [
    "X_train.shape, X_test.shape"
   ]
  },
  {
   "cell_type": "markdown",
   "id": "545fba16-16a5-4fb6-a7e7-734ad210e4e3",
   "metadata": {},
   "source": [
    "# Feature Engineering\n",
    "\n",
    "In the following cells, we will engineer the variables of the student grades dataset so that we tackle:\n",
    "\n",
    "1. Zero values in some variables.\n",
    "2. Categorical Variables: one-hot encode binary variables\n",
    "3. Categorical Variables: ordinal encoding on non-binary variables\n",
    "4. Scale the continuous variables to the same range\n",
    "\n",
    "## Mean Imputation\n",
    "\n",
    "Recall we had no null values but rather a recurrence of unusual 0 values in our Cholesterol and RestingBP variables. To correct this error, we will replace the zero values with the means of the respective variables.\n",
    "\n",
    "**NOTE:** Our mean computation will exclude the rows with 0 values, i.e. the total number of rows will be adjusted for only the rows with non-zero values."
   ]
  },
  {
   "cell_type": "code",
   "execution_count": 5,
   "id": "8487306a-b316-4d79-955c-6aa829bfc72e",
   "metadata": {},
   "outputs": [],
   "source": [
    "mean_impute = pp.MeanImputation(variables=['Cholesterol','RestingBP'])"
   ]
  },
  {
   "cell_type": "code",
   "execution_count": 6,
   "id": "21f23ad5-22e9-4869-9f4f-89d438186a66",
   "metadata": {},
   "outputs": [
    {
     "data": {
      "text/plain": [
       "<preprocessors.MeanImputation at 0x11b0d4670>"
      ]
     },
     "execution_count": 6,
     "metadata": {},
     "output_type": "execute_result"
    }
   ],
   "source": [
    "mean_impute.fit(X_train)"
   ]
  },
  {
   "cell_type": "code",
   "execution_count": 7,
   "id": "21ca6ac4-1635-478b-813e-bc88a746b71c",
   "metadata": {},
   "outputs": [
    {
     "data": {
      "text/plain": [
       "{'Cholesterol': 242.8818635607321, 'RestingBP': 132.72442019099591}"
      ]
     },
     "execution_count": 7,
     "metadata": {},
     "output_type": "execute_result"
    }
   ],
   "source": [
    "# print out the parameters\n",
    "mean_impute.params_"
   ]
  },
  {
   "cell_type": "code",
   "execution_count": 8,
   "id": "32363ba1-e4a9-4103-af91-7eb6d3cce89d",
   "metadata": {},
   "outputs": [],
   "source": [
    "X_train = mean_impute.transform(X_train)\n",
    "X_test = mean_impute.transform(X_test)"
   ]
  },
  {
   "cell_type": "markdown",
   "id": "150a5ace-e961-41f2-aa9c-f197489e19d4",
   "metadata": {},
   "source": [
    "## Categorical Variables \n",
    "\n",
    "### Encode binary variables\n",
    "Next, we need to transform the strings of the categorical variables into numbers. We will apply one-hot encoding on our binary features."
   ]
  },
  {
   "cell_type": "code",
   "execution_count": 9,
   "id": "e3a2434d-1d59-4412-aaf3-9e047ea1c558",
   "metadata": {},
   "outputs": [],
   "source": [
    "cat_encode = pp.CategoricalEncoder(variables=['Sex','ExerciseAngina','FastingBS'])"
   ]
  },
  {
   "cell_type": "code",
   "execution_count": 10,
   "id": "848c88be-d3aa-41e1-90ea-964798054656",
   "metadata": {},
   "outputs": [
    {
     "data": {
      "text/plain": [
       "<preprocessors.CategoricalEncoder at 0x11b0d4610>"
      ]
     },
     "execution_count": 10,
     "metadata": {},
     "output_type": "execute_result"
    }
   ],
   "source": [
    "cat_encode.fit(X_train)"
   ]
  },
  {
   "cell_type": "code",
   "execution_count": 11,
   "id": "615180cf-db82-4b89-88c6-cd973c33e005",
   "metadata": {},
   "outputs": [
    {
     "data": {
      "text/plain": [
       "{'Sex': ['Sex_M'],\n",
       " 'ExerciseAngina': ['ExerciseAngina_Y'],\n",
       " 'FastingBS': ['FastingBS_1']}"
      ]
     },
     "execution_count": 11,
     "metadata": {},
     "output_type": "execute_result"
    }
   ],
   "source": [
    "cat_encode.encoder_dict_"
   ]
  },
  {
   "cell_type": "code",
   "execution_count": 12,
   "id": "ad51b8cf-ad45-4d6b-b133-50384556ba78",
   "metadata": {},
   "outputs": [],
   "source": [
    "X_train = cat_encode.transform(X_train)\n",
    "X_test = cat_encode.transform(X_test)"
   ]
  },
  {
   "cell_type": "markdown",
   "id": "79b68e4b-bc28-490d-863a-7e08e2a6c891",
   "metadata": {},
   "source": [
    "### Encode non-binary variables\n",
    "\n",
    "For our non-binary features, we will transform the strings into numbers that capture the monotonic relationship between the label/category and the target. \n",
    "\n",
    "A common operation with categorical variables is to map non-binary variables by their assigned order if they happen to be ordinal. Ordinality for our variables would have to be determined by domain knowledge which we currently do not have. In place of that, we can assign ordinality based on the the rate of heart disease per label in the category."
   ]
  },
  {
   "cell_type": "code",
   "execution_count": 13,
   "id": "89d7e98d-2931-4dd7-b290-166b10d08120",
   "metadata": {},
   "outputs": [],
   "source": [
    "ord_encode = pp.OrdinalEncoder(variables=['ChestPainType','RestingECG','ST_Slope'],target='HeartDisease')"
   ]
  },
  {
   "cell_type": "code",
   "execution_count": 14,
   "id": "304efc83-5041-4232-9cf5-6c26b3a6dd60",
   "metadata": {},
   "outputs": [
    {
     "data": {
      "text/plain": [
       "<preprocessors.OrdinalEncoder at 0x11b0d46a0>"
      ]
     },
     "execution_count": 14,
     "metadata": {},
     "output_type": "execute_result"
    }
   ],
   "source": [
    "ord_encode.fit(X_train,y_train)"
   ]
  },
  {
   "cell_type": "code",
   "execution_count": 15,
   "id": "c30e1b29-04b3-4885-86d1-5d3d68cc14d5",
   "metadata": {},
   "outputs": [
    {
     "data": {
      "text/plain": [
       "{'ChestPainType': {'ASY': 0.7851662404092071,\n",
       "  'NAP': 0.35185185185185186,\n",
       "  'TA': 0.5,\n",
       "  'ATA': 0.1310344827586207},\n",
       " 'RestingECG': {'Normal': 0.5146067415730337,\n",
       "  'LVH': 0.5625,\n",
       "  'ST': 0.6275862068965518},\n",
       " 'ST_Slope': {'Flat': 0.8351648351648352,\n",
       "  'Up': 0.1761006289308176,\n",
       "  'Down': 0.7884615384615384}}"
      ]
     },
     "execution_count": 15,
     "metadata": {},
     "output_type": "execute_result"
    }
   ],
   "source": [
    "ord_encode.params_"
   ]
  },
  {
   "cell_type": "code",
   "execution_count": 16,
   "id": "354284b5-18df-426a-8749-9aa8633ea359",
   "metadata": {},
   "outputs": [],
   "source": [
    "X_train = ord_encode.transform(X_train)\n",
    "X_test = ord_encode.transform(X_test)"
   ]
  },
  {
   "cell_type": "code",
   "execution_count": 17,
   "id": "5c4efbad-ef84-4cd2-a961-140b3683a096",
   "metadata": {},
   "outputs": [
    {
     "data": {
      "text/plain": [
       "{'ChestPainType': {'ATA': 1, 'NAP': 2, 'TA': 3, 'ASY': 4},\n",
       " 'RestingECG': {'Normal': 1, 'LVH': 2, 'ST': 3},\n",
       " 'ST_Slope': {'Up': 1, 'Down': 2, 'Flat': 3}}"
      ]
     },
     "execution_count": 17,
     "metadata": {},
     "output_type": "execute_result"
    }
   ],
   "source": [
    "ord_encode.ordinal_labels_"
   ]
  },
  {
   "cell_type": "code",
   "execution_count": 18,
   "id": "24dcbb57-cd3c-4daa-bc9a-367df5ebd582",
   "metadata": {},
   "outputs": [
    {
     "data": {
      "text/html": [
       "<div>\n",
       "<style scoped>\n",
       "    .dataframe tbody tr th:only-of-type {\n",
       "        vertical-align: middle;\n",
       "    }\n",
       "\n",
       "    .dataframe tbody tr th {\n",
       "        vertical-align: top;\n",
       "    }\n",
       "\n",
       "    .dataframe thead th {\n",
       "        text-align: right;\n",
       "    }\n",
       "</style>\n",
       "<table border=\"1\" class=\"dataframe\">\n",
       "  <thead>\n",
       "    <tr style=\"text-align: right;\">\n",
       "      <th></th>\n",
       "      <th>Age</th>\n",
       "      <th>ChestPainType</th>\n",
       "      <th>RestingBP</th>\n",
       "      <th>Cholesterol</th>\n",
       "      <th>RestingECG</th>\n",
       "      <th>MaxHR</th>\n",
       "      <th>Oldpeak</th>\n",
       "      <th>ST_Slope</th>\n",
       "      <th>Sex_M</th>\n",
       "      <th>ExerciseAngina_Y</th>\n",
       "      <th>FastingBS_1</th>\n",
       "    </tr>\n",
       "  </thead>\n",
       "  <tbody>\n",
       "    <tr>\n",
       "      <th>378</th>\n",
       "      <td>70</td>\n",
       "      <td>4</td>\n",
       "      <td>140.0</td>\n",
       "      <td>242.881864</td>\n",
       "      <td>1</td>\n",
       "      <td>157</td>\n",
       "      <td>2.0</td>\n",
       "      <td>3</td>\n",
       "      <td>1</td>\n",
       "      <td>1</td>\n",
       "      <td>1</td>\n",
       "    </tr>\n",
       "    <tr>\n",
       "      <th>356</th>\n",
       "      <td>46</td>\n",
       "      <td>4</td>\n",
       "      <td>115.0</td>\n",
       "      <td>242.881864</td>\n",
       "      <td>1</td>\n",
       "      <td>113</td>\n",
       "      <td>1.5</td>\n",
       "      <td>3</td>\n",
       "      <td>1</td>\n",
       "      <td>1</td>\n",
       "      <td>0</td>\n",
       "    </tr>\n",
       "    <tr>\n",
       "      <th>738</th>\n",
       "      <td>65</td>\n",
       "      <td>2</td>\n",
       "      <td>160.0</td>\n",
       "      <td>360.000000</td>\n",
       "      <td>2</td>\n",
       "      <td>151</td>\n",
       "      <td>0.8</td>\n",
       "      <td>1</td>\n",
       "      <td>0</td>\n",
       "      <td>0</td>\n",
       "      <td>0</td>\n",
       "    </tr>\n",
       "    <tr>\n",
       "      <th>85</th>\n",
       "      <td>66</td>\n",
       "      <td>4</td>\n",
       "      <td>140.0</td>\n",
       "      <td>139.000000</td>\n",
       "      <td>1</td>\n",
       "      <td>94</td>\n",
       "      <td>1.0</td>\n",
       "      <td>3</td>\n",
       "      <td>1</td>\n",
       "      <td>1</td>\n",
       "      <td>0</td>\n",
       "    </tr>\n",
       "    <tr>\n",
       "      <th>427</th>\n",
       "      <td>59</td>\n",
       "      <td>4</td>\n",
       "      <td>140.0</td>\n",
       "      <td>242.881864</td>\n",
       "      <td>3</td>\n",
       "      <td>117</td>\n",
       "      <td>1.0</td>\n",
       "      <td>3</td>\n",
       "      <td>1</td>\n",
       "      <td>1</td>\n",
       "      <td>0</td>\n",
       "    </tr>\n",
       "  </tbody>\n",
       "</table>\n",
       "</div>"
      ],
      "text/plain": [
       "     Age  ChestPainType  RestingBP  Cholesterol  RestingECG  MaxHR  Oldpeak  \\\n",
       "378   70              4      140.0   242.881864           1    157      2.0   \n",
       "356   46              4      115.0   242.881864           1    113      1.5   \n",
       "738   65              2      160.0   360.000000           2    151      0.8   \n",
       "85    66              4      140.0   139.000000           1     94      1.0   \n",
       "427   59              4      140.0   242.881864           3    117      1.0   \n",
       "\n",
       "     ST_Slope  Sex_M  ExerciseAngina_Y  FastingBS_1  \n",
       "378         3      1                 1            1  \n",
       "356         3      1                 1            0  \n",
       "738         1      0                 0            0  \n",
       "85          3      1                 1            0  \n",
       "427         3      1                 1            0  "
      ]
     },
     "execution_count": 18,
     "metadata": {},
     "output_type": "execute_result"
    }
   ],
   "source": [
    "X_train.head()"
   ]
  },
  {
   "cell_type": "code",
   "execution_count": 19,
   "id": "7ff7a84a-be47-4086-9ec8-af2036dee54a",
   "metadata": {},
   "outputs": [],
   "source": [
    "scaled = ['Age',\n",
    " 'ChestPainType',\n",
    " 'RestingBP',\n",
    " 'Cholesterol',\n",
    " 'MaxHR',\n",
    " 'Oldpeak',\n",
    " 'ST_Slope']"
   ]
  },
  {
   "cell_type": "code",
   "execution_count": 20,
   "id": "ae6d7bf7-1382-45a4-b0a0-70a9cc3d0d08",
   "metadata": {},
   "outputs": [],
   "source": [
    "# create scaler\n",
    "scaler = pp.ContinuousScaler(variables=scaled)\n",
    "\n",
    "# fit the scaler to the train set\n",
    "scaler.fit(X_train)\n",
    "\n",
    "# transform train and test sets with learned parameters\n",
    "X_train = scaler.transform(X_train)\n",
    "X_test = scaler.transform(X_test)"
   ]
  },
  {
   "cell_type": "code",
   "execution_count": 21,
   "id": "5cca2570-335b-43ab-8e57-ba08064471b9",
   "metadata": {},
   "outputs": [
    {
     "data": {
      "text/html": [
       "<div>\n",
       "<style scoped>\n",
       "    .dataframe tbody tr th:only-of-type {\n",
       "        vertical-align: middle;\n",
       "    }\n",
       "\n",
       "    .dataframe tbody tr th {\n",
       "        vertical-align: top;\n",
       "    }\n",
       "\n",
       "    .dataframe thead th {\n",
       "        text-align: right;\n",
       "    }\n",
       "</style>\n",
       "<table border=\"1\" class=\"dataframe\">\n",
       "  <thead>\n",
       "    <tr style=\"text-align: right;\">\n",
       "      <th></th>\n",
       "      <th>Age</th>\n",
       "      <th>ChestPainType</th>\n",
       "      <th>RestingBP</th>\n",
       "      <th>Cholesterol</th>\n",
       "      <th>RestingECG</th>\n",
       "      <th>MaxHR</th>\n",
       "      <th>Oldpeak</th>\n",
       "      <th>ST_Slope</th>\n",
       "      <th>Sex_M</th>\n",
       "      <th>ExerciseAngina_Y</th>\n",
       "      <th>FastingBS_1</th>\n",
       "    </tr>\n",
       "  </thead>\n",
       "  <tbody>\n",
       "    <tr>\n",
       "      <th>378</th>\n",
       "      <td>0.857143</td>\n",
       "      <td>1.000000</td>\n",
       "      <td>0.500000</td>\n",
       "      <td>0.304791</td>\n",
       "      <td>1</td>\n",
       "      <td>0.676259</td>\n",
       "      <td>0.522727</td>\n",
       "      <td>1.0</td>\n",
       "      <td>1</td>\n",
       "      <td>1</td>\n",
       "      <td>1</td>\n",
       "    </tr>\n",
       "    <tr>\n",
       "      <th>356</th>\n",
       "      <td>0.367347</td>\n",
       "      <td>1.000000</td>\n",
       "      <td>0.291667</td>\n",
       "      <td>0.304791</td>\n",
       "      <td>1</td>\n",
       "      <td>0.359712</td>\n",
       "      <td>0.465909</td>\n",
       "      <td>1.0</td>\n",
       "      <td>1</td>\n",
       "      <td>1</td>\n",
       "      <td>0</td>\n",
       "    </tr>\n",
       "    <tr>\n",
       "      <th>738</th>\n",
       "      <td>0.755102</td>\n",
       "      <td>0.333333</td>\n",
       "      <td>0.666667</td>\n",
       "      <td>0.530888</td>\n",
       "      <td>2</td>\n",
       "      <td>0.633094</td>\n",
       "      <td>0.386364</td>\n",
       "      <td>0.0</td>\n",
       "      <td>0</td>\n",
       "      <td>0</td>\n",
       "      <td>0</td>\n",
       "    </tr>\n",
       "    <tr>\n",
       "      <th>85</th>\n",
       "      <td>0.775510</td>\n",
       "      <td>1.000000</td>\n",
       "      <td>0.500000</td>\n",
       "      <td>0.104247</td>\n",
       "      <td>1</td>\n",
       "      <td>0.223022</td>\n",
       "      <td>0.409091</td>\n",
       "      <td>1.0</td>\n",
       "      <td>1</td>\n",
       "      <td>1</td>\n",
       "      <td>0</td>\n",
       "    </tr>\n",
       "    <tr>\n",
       "      <th>427</th>\n",
       "      <td>0.632653</td>\n",
       "      <td>1.000000</td>\n",
       "      <td>0.500000</td>\n",
       "      <td>0.304791</td>\n",
       "      <td>3</td>\n",
       "      <td>0.388489</td>\n",
       "      <td>0.409091</td>\n",
       "      <td>1.0</td>\n",
       "      <td>1</td>\n",
       "      <td>1</td>\n",
       "      <td>0</td>\n",
       "    </tr>\n",
       "  </tbody>\n",
       "</table>\n",
       "</div>"
      ],
      "text/plain": [
       "          Age  ChestPainType  RestingBP  Cholesterol  RestingECG     MaxHR  \\\n",
       "378  0.857143       1.000000   0.500000     0.304791           1  0.676259   \n",
       "356  0.367347       1.000000   0.291667     0.304791           1  0.359712   \n",
       "738  0.755102       0.333333   0.666667     0.530888           2  0.633094   \n",
       "85   0.775510       1.000000   0.500000     0.104247           1  0.223022   \n",
       "427  0.632653       1.000000   0.500000     0.304791           3  0.388489   \n",
       "\n",
       "      Oldpeak  ST_Slope  Sex_M  ExerciseAngina_Y  FastingBS_1  \n",
       "378  0.522727       1.0      1                 1            1  \n",
       "356  0.465909       1.0      1                 1            0  \n",
       "738  0.386364       0.0      0                 0            0  \n",
       "85   0.409091       1.0      1                 1            0  \n",
       "427  0.409091       1.0      1                 1            0  "
      ]
     },
     "execution_count": 21,
     "metadata": {},
     "output_type": "execute_result"
    }
   ],
   "source": [
    "X_train.head()"
   ]
  },
  {
   "cell_type": "markdown",
   "id": "c02a0b84-bb3b-4941-8abe-d7180c17437c",
   "metadata": {},
   "source": [
    "We now have several classes with parameters learned from the training dataset, that we can store and retrieve at a later stage, so that when a colleague comes with new data, we are in a better position to score it faster.\n",
    "\n",
    "Still:\n",
    "\n",
    "- we would need to save each class\n",
    "- then we could load each class\n",
    "- and apply each transformation individually.\n",
    "\n",
    "Which sounds like a lot of work.\n",
    "\n",
    "The good news is, we can reduce the amount of work, if we set up all the transformations within a pipeline."
   ]
  },
  {
   "cell_type": "code",
   "execution_count": null,
   "id": "00567675-41b2-4f40-9676-b3c01fe3a37b",
   "metadata": {},
   "outputs": [],
   "source": []
  }
 ],
 "metadata": {
  "kernelspec": {
   "display_name": "Python 3 (ipykernel)",
   "language": "python",
   "name": "python3"
  },
  "language_info": {
   "codemirror_mode": {
    "name": "ipython",
    "version": 3
   },
   "file_extension": ".py",
   "mimetype": "text/x-python",
   "name": "python",
   "nbconvert_exporter": "python",
   "pygments_lexer": "ipython3",
   "version": "3.9.7"
  }
 },
 "nbformat": 4,
 "nbformat_minor": 5
}
