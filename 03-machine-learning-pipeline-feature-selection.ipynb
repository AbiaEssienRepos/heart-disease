{
 "cells": [
  {
   "cell_type": "markdown",
   "id": "8c260da4-a305-4757-824c-b29e5f27daef",
   "metadata": {},
   "source": [
    "# Machine Learning Pipeline - Feature Selection\n",
    "\n",
    "In the following notebooks, we will go through the implementation of each of the steps in the Machine Learning Pipeline.\n",
    "\n",
    "We will discuss:\n",
    "\n",
    "1. Data Analysis\n",
    "2. Feature Engineering\n",
    "3. **Feature Selection**\n",
    "4. Model Training\n",
    "5. Obtaining Predictions / Scoring\n",
    "\n",
    "Our selection procedure will be focused solely on non-parametric statistical methods because they are model-agnostic. We avoid model-specific methods because:\n",
    "\n",
    "1. They can be very computationally expensive. This project is being run on a local machine and not a distrubuted system.\n",
    "2. Model-specific methods would require us to use the same model in training as we did in feature selection for consistency. This is impractical as we still have to run our data through a range of options during training before deciding on our most optimal model."
   ]
  },
  {
   "cell_type": "code",
   "execution_count": 1,
   "id": "99957d17-7031-437a-83d7-bece31176ffe",
   "metadata": {},
   "outputs": [],
   "source": [
    "# to handle datasets\n",
    "import numpy as np\n",
    "import pandas as pd\n",
    "\n",
    "# for plotting\n",
    "import matplotlib.pyplot as plt\n",
    "import seaborn as sns\n",
    "sns.set_style('ticks')"
   ]
  },
  {
   "cell_type": "code",
   "execution_count": 2,
   "id": "f5723afb-f716-4fbe-98aa-1f7dc2a8d406",
   "metadata": {},
   "outputs": [],
   "source": [
    "# to run statistical tests\n",
    "from scipy.stats import kruskal, mannwhitneyu, spearmanr, chi2_contingency, ttest_ind\n",
    "from sklearn.feature_selection import f_classif"
   ]
  },
  {
   "cell_type": "code",
   "execution_count": 3,
   "id": "8e3e4416-7666-4dfb-a9e7-47526e4c69b6",
   "metadata": {},
   "outputs": [],
   "source": [
    "# to visualise all the columns in the dataframe\n",
    "pd.pandas.set_option('display.max_columns',None)"
   ]
  },
  {
   "cell_type": "code",
   "execution_count": 4,
   "id": "f8ae686e-a714-4d59-9afc-89cc4ae492df",
   "metadata": {},
   "outputs": [],
   "source": [
    "# load the train and test sets with the engineered variables\n",
    "X_train = pd.read_csv('xtrain_unscaled.csv')\n",
    "X_test = pd.read_csv('xtest_unscaled.csv')"
   ]
  },
  {
   "cell_type": "code",
   "execution_count": 5,
   "id": "ea559de0-60bb-4daf-a685-60466381b03d",
   "metadata": {},
   "outputs": [
    {
     "data": {
      "text/html": [
       "<div>\n",
       "<style scoped>\n",
       "    .dataframe tbody tr th:only-of-type {\n",
       "        vertical-align: middle;\n",
       "    }\n",
       "\n",
       "    .dataframe tbody tr th {\n",
       "        vertical-align: top;\n",
       "    }\n",
       "\n",
       "    .dataframe thead th {\n",
       "        text-align: right;\n",
       "    }\n",
       "</style>\n",
       "<table border=\"1\" class=\"dataframe\">\n",
       "  <thead>\n",
       "    <tr style=\"text-align: right;\">\n",
       "      <th></th>\n",
       "      <th>Age</th>\n",
       "      <th>ChestPainType</th>\n",
       "      <th>RestingBP</th>\n",
       "      <th>Cholesterol</th>\n",
       "      <th>RestingECG</th>\n",
       "      <th>MaxHR</th>\n",
       "      <th>Oldpeak</th>\n",
       "      <th>ST_Slope</th>\n",
       "      <th>Sex_M</th>\n",
       "      <th>ExerciseAngina_Y</th>\n",
       "      <th>FastingBS_1</th>\n",
       "    </tr>\n",
       "  </thead>\n",
       "  <tbody>\n",
       "    <tr>\n",
       "      <th>0</th>\n",
       "      <td>70</td>\n",
       "      <td>4</td>\n",
       "      <td>140.0</td>\n",
       "      <td>242.881864</td>\n",
       "      <td>1</td>\n",
       "      <td>157</td>\n",
       "      <td>2.0</td>\n",
       "      <td>3</td>\n",
       "      <td>1</td>\n",
       "      <td>1</td>\n",
       "      <td>1</td>\n",
       "    </tr>\n",
       "    <tr>\n",
       "      <th>1</th>\n",
       "      <td>46</td>\n",
       "      <td>4</td>\n",
       "      <td>115.0</td>\n",
       "      <td>242.881864</td>\n",
       "      <td>1</td>\n",
       "      <td>113</td>\n",
       "      <td>1.5</td>\n",
       "      <td>3</td>\n",
       "      <td>1</td>\n",
       "      <td>1</td>\n",
       "      <td>0</td>\n",
       "    </tr>\n",
       "    <tr>\n",
       "      <th>2</th>\n",
       "      <td>65</td>\n",
       "      <td>2</td>\n",
       "      <td>160.0</td>\n",
       "      <td>360.000000</td>\n",
       "      <td>2</td>\n",
       "      <td>151</td>\n",
       "      <td>0.8</td>\n",
       "      <td>1</td>\n",
       "      <td>0</td>\n",
       "      <td>0</td>\n",
       "      <td>0</td>\n",
       "    </tr>\n",
       "    <tr>\n",
       "      <th>3</th>\n",
       "      <td>66</td>\n",
       "      <td>4</td>\n",
       "      <td>140.0</td>\n",
       "      <td>139.000000</td>\n",
       "      <td>1</td>\n",
       "      <td>94</td>\n",
       "      <td>1.0</td>\n",
       "      <td>3</td>\n",
       "      <td>1</td>\n",
       "      <td>1</td>\n",
       "      <td>0</td>\n",
       "    </tr>\n",
       "    <tr>\n",
       "      <th>4</th>\n",
       "      <td>59</td>\n",
       "      <td>4</td>\n",
       "      <td>140.0</td>\n",
       "      <td>242.881864</td>\n",
       "      <td>3</td>\n",
       "      <td>117</td>\n",
       "      <td>1.0</td>\n",
       "      <td>3</td>\n",
       "      <td>1</td>\n",
       "      <td>1</td>\n",
       "      <td>0</td>\n",
       "    </tr>\n",
       "  </tbody>\n",
       "</table>\n",
       "</div>"
      ],
      "text/plain": [
       "   Age  ChestPainType  RestingBP  Cholesterol  RestingECG  MaxHR  Oldpeak  \\\n",
       "0   70              4      140.0   242.881864           1    157      2.0   \n",
       "1   46              4      115.0   242.881864           1    113      1.5   \n",
       "2   65              2      160.0   360.000000           2    151      0.8   \n",
       "3   66              4      140.0   139.000000           1     94      1.0   \n",
       "4   59              4      140.0   242.881864           3    117      1.0   \n",
       "\n",
       "   ST_Slope  Sex_M  ExerciseAngina_Y  FastingBS_1  \n",
       "0         3      1                 1            1  \n",
       "1         3      1                 1            0  \n",
       "2         1      0                 0            0  \n",
       "3         3      1                 1            0  \n",
       "4         3      1                 1            0  "
      ]
     },
     "execution_count": 5,
     "metadata": {},
     "output_type": "execute_result"
    }
   ],
   "source": [
    "X_train.head()"
   ]
  },
  {
   "cell_type": "code",
   "execution_count": 6,
   "id": "d3e66ee0-ebea-4aea-9faa-81bd68072f5a",
   "metadata": {},
   "outputs": [],
   "source": [
    "# load the target\n",
    "y_train = pd.read_csv('ytrain.csv')\n",
    "y_test = pd.read_csv('ytest.csv')"
   ]
  },
  {
   "cell_type": "code",
   "execution_count": 7,
   "id": "eb5732da-cad3-46b7-8f3c-9aa26af48f98",
   "metadata": {},
   "outputs": [
    {
     "data": {
      "text/html": [
       "<div>\n",
       "<style scoped>\n",
       "    .dataframe tbody tr th:only-of-type {\n",
       "        vertical-align: middle;\n",
       "    }\n",
       "\n",
       "    .dataframe tbody tr th {\n",
       "        vertical-align: top;\n",
       "    }\n",
       "\n",
       "    .dataframe thead th {\n",
       "        text-align: right;\n",
       "    }\n",
       "</style>\n",
       "<table border=\"1\" class=\"dataframe\">\n",
       "  <thead>\n",
       "    <tr style=\"text-align: right;\">\n",
       "      <th></th>\n",
       "      <th>HeartDisease</th>\n",
       "    </tr>\n",
       "  </thead>\n",
       "  <tbody>\n",
       "    <tr>\n",
       "      <th>0</th>\n",
       "      <td>1</td>\n",
       "    </tr>\n",
       "    <tr>\n",
       "      <th>1</th>\n",
       "      <td>1</td>\n",
       "    </tr>\n",
       "    <tr>\n",
       "      <th>2</th>\n",
       "      <td>0</td>\n",
       "    </tr>\n",
       "    <tr>\n",
       "      <th>3</th>\n",
       "      <td>1</td>\n",
       "    </tr>\n",
       "    <tr>\n",
       "      <th>4</th>\n",
       "      <td>1</td>\n",
       "    </tr>\n",
       "  </tbody>\n",
       "</table>\n",
       "</div>"
      ],
      "text/plain": [
       "   HeartDisease\n",
       "0             1\n",
       "1             1\n",
       "2             0\n",
       "3             1\n",
       "4             1"
      ]
     },
     "execution_count": 7,
     "metadata": {},
     "output_type": "execute_result"
    }
   ],
   "source": [
    "y_train.head()"
   ]
  },
  {
   "cell_type": "markdown",
   "id": "6ef3cdc8-14ea-4137-8882-dfdbccd95bb3",
   "metadata": {},
   "source": [
    "# Feature Selection\n",
    "\n",
    "Let's go ahead and select a subset of the most predictive features.\n",
    "\n",
    "## Drop constant features\n",
    "Constant features show the same value for all observations in the dataset and provide no information value for a machine learning model. As a sanity check, we will check all our variables for constant features and remove them."
   ]
  },
  {
   "cell_type": "code",
   "execution_count": 8,
   "id": "30dde290-4fcd-4818-a148-956c4a6223d5",
   "metadata": {},
   "outputs": [
    {
     "data": {
      "text/plain": [
       "[]"
      ]
     },
     "execution_count": 8,
     "metadata": {},
     "output_type": "execute_result"
    }
   ],
   "source": [
    "constant_features = [feat for feat in X_train.columns if X_train[feat].nunique() == 1]\n",
    "constant_features"
   ]
  },
  {
   "cell_type": "markdown",
   "id": "89bc2f7a-99fc-40d4-87ad-ff3d749986ea",
   "metadata": {},
   "source": [
    "We have no variables with constant values in the dataset.\n",
    "\n",
    "## Drop quasi-constant features\n",
    "\n",
    "Quasi-constant features also show the same value but only for the great majority of the observations. Like constant features, they provide little, if any, information value for any model to work with.\n",
    "\n",
    "As another sanity check, we will also check all our columns for quasi-consyant features and remove them."
   ]
  },
  {
   "cell_type": "code",
   "execution_count": 9,
   "id": "97d6f8cf-1d2b-44bb-8fbf-c0e8417ba019",
   "metadata": {},
   "outputs": [],
   "source": [
    "# creat an empty list\n",
    "quasi_constant_feat = []\n",
    "\n",
    "# iterate over every feature\n",
    "for feature in X_train.columns:\n",
    "    \n",
    "    # find the predominant value, i.e. the value shared\n",
    "    # by most observations\n",
    "    predominant = (X_train[feature].value_counts() / float(\n",
    "        len(X_train))).sort_values(ascending=False).values[0]\n",
    "    \n",
    "    # evaluate the predominant feature: do more than 99% of the observations\n",
    "    # show 1 value?\n",
    "    if predominant > 0.998:\n",
    "        \n",
    "        # if yes, add the variable to the list\n",
    "        quasi_constant_feat.append(feature)"
   ]
  },
  {
   "cell_type": "code",
   "execution_count": 10,
   "id": "c89bc89e-2ef2-4ee9-816f-ee144ee2c446",
   "metadata": {},
   "outputs": [
    {
     "data": {
      "text/plain": [
       "0"
      ]
     },
     "execution_count": 10,
     "metadata": {},
     "output_type": "execute_result"
    }
   ],
   "source": [
    "len(quasi_constant_feat)"
   ]
  },
  {
   "cell_type": "markdown",
   "id": "abc0c176-e959-438e-b247-568b9d85550d",
   "metadata": {},
   "source": [
    "Our dataset does not have any variables with quasi-constant values.\n",
    "\n",
    "## Statistical Tests\n",
    "\n",
    "We will now evaluate our variables individually to select variables with a strong predictive association with our target.\n",
    "\n",
    "### Continuous Variables\n",
    "Recall that our distributions were Gaussian-like in our data analysis notebook. This would thus inform our adoption of parametric methods in determining variable association. To be sure about our results, we can also run nonparametric tests. Where the results differ, we will accept the nonparametric results."
   ]
  },
  {
   "cell_type": "code",
   "execution_count": 11,
   "id": "c035206f-7f89-4840-bed3-47f462cb053a",
   "metadata": {},
   "outputs": [],
   "source": [
    "cont_vars = ['Age','RestingBP','Cholesterol','MaxHR','Oldpeak']"
   ]
  },
  {
   "cell_type": "markdown",
   "id": "421bb520-61c7-44d6-b05a-2f5b357c043c",
   "metadata": {},
   "source": [
    "Let's test the hypothesis and grab the p-values of the continuous variables with the Student t-test and the Mann-Whitney U test:"
   ]
  },
  {
   "cell_type": "code",
   "execution_count": 12,
   "id": "2b054eb9-7ff1-40d7-901d-7f1f3fcb4472",
   "metadata": {},
   "outputs": [],
   "source": [
    "train = pd.concat([X_train,y_train],axis=1)\n",
    "\n",
    "# empty dictionaries to hold the p values from the two tests\n",
    "p_ls_ttest = {}\n",
    "p_ls_mann = {}\n",
    "\n",
    "# iterate over the continuous variables\n",
    "for var in cont_vars:\n",
    "    \n",
    "    # separate the two samples from the target for each variable\n",
    "    data_1 = train[train['HeartDisease']==0][var]\n",
    "    data_2 = train[train['HeartDisease']==1][var]\n",
    "    \n",
    "    # student t-test\n",
    "    stat, p_ttest = ttest_ind(data_1,data_2)\n",
    "    p_ls_ttest[var] = p_ttest\n",
    "    \n",
    "    # mann-whitney u test\n",
    "    stat, p_mann = mannwhitneyu(data_1,data_2)\n",
    "    p_ls_mann[var] = p_mann"
   ]
  },
  {
   "cell_type": "code",
   "execution_count": 13,
   "id": "b4acd64c-c85a-489a-802f-a0479a55d735",
   "metadata": {},
   "outputs": [
    {
     "data": {
      "text/plain": [
       "<AxesSubplot:>"
      ]
     },
     "execution_count": 13,
     "metadata": {},
     "output_type": "execute_result"
    },
    {
     "data": {
      "image/png": "[encoded data removed]",
      "text/plain": [
       "<Figure size 1440x504 with 1 Axes>"
      ]
     },
     "metadata": {},
     "output_type": "display_data"
    }
   ],
   "source": [
    "# plot out the p values for the t-test\n",
    "p_ls_mann = pd.Series(p_ls_mann)\n",
    "p_ls_mann.sort_values(ascending=True).plot.bar(figsize=(20,7))"
   ]
  },
  {
   "cell_type": "code",
   "execution_count": 14,
   "id": "b1cdce78-b653-4834-9a6d-24256eeb2086",
   "metadata": {},
   "outputs": [
    {
     "data": {
      "text/plain": [
       "<AxesSubplot:>"
      ]
     },
     "execution_count": 14,
     "metadata": {},
     "output_type": "execute_result"
    },
    {
     "data": {
      "image/png": "[encoded data removed]",
      "text/plain": [
       "<Figure size 1440x504 with 1 Axes>"
      ]
     },
     "metadata": {},
     "output_type": "display_data"
    }
   ],
   "source": [
    "# plot out the p values for the mann-whitney u test\n",
    "p_ls_ttest = pd.Series(p_ls_ttest)\n",
    "p_ls_ttest.sort_values(ascending=True).plot.bar(figsize=(20,7))"
   ]
  },
  {
   "cell_type": "markdown",
   "id": "69b0acfd-e3dc-48da-8399-ce4a641ad805",
   "metadata": {},
   "source": [
    "Both tests confirm that all our continuous variables are associated with the target at the 5% significance level. The p-value rankings for both variables are also similiar even though their values are different. The degree of association would still have to be determined by a computation of the effect sizes.\n",
    "\n",
    "Let's now go ahead to compute the effect sizes:"
   ]
  },
  {
   "cell_type": "code",
   "execution_count": 15,
   "id": "589e54af-8c29-4124-a18f-072ecfd3783a",
   "metadata": {},
   "outputs": [],
   "source": [
    "# gaussian-distributed effect size\n",
    "\n",
    "def cohen_d(data1, data2):\n",
    "    \n",
    "    # calculate the size of samples\n",
    "    n1, n2 = len(data_1), len(data_2)\n",
    "    \n",
    "    # calculate the variance of the samples\n",
    "    s1, s2 = np.var(data_1, ddof=1), np.var(data_2, ddof=1)\n",
    "    \n",
    "    # calculate the pooled standard deviation\n",
    "    s = np.sqrt(((n1 - 1) * s1 + (n2 - 1) * s2) / (n1 + n2 -2))\n",
    "    \n",
    "    # calculate the means of the samples\n",
    "    u1, u2 = np.mean(data_1), np.mean(data_2)\n",
    "    \n",
    "    # calculate the effect size\n",
    "    return (u1 - u2) / s"
   ]
  },
  {
   "cell_type": "code",
   "execution_count": 16,
   "id": "2d84ee42-10eb-43d0-aaeb-c4d036a0f382",
   "metadata": {},
   "outputs": [],
   "source": [
    "effect_sizes = {}\n",
    "\n",
    "for var in cont_vars:\n",
    "    \n",
    "    data_1 = train[train['HeartDisease']==0][var]\n",
    "    data_2 = train[train['HeartDisease']==1][var] \n",
    "    \n",
    "    d = cohen_d(data_1, data_2)\n",
    "    effect_sizes[var] = abs(d)"
   ]
  },
  {
   "cell_type": "code",
   "execution_count": 17,
   "id": "7fa318d6-5a17-41b0-8469-450b60590bf9",
   "metadata": {},
   "outputs": [
    {
     "data": {
      "text/plain": [
       "Text(0.5, 1.0, 'Parameteric effect sizes of categorical variables')"
      ]
     },
     "execution_count": 17,
     "metadata": {},
     "output_type": "execute_result"
    },
    {
     "data": {
      "image/png": "[encoded data removed]",
      "text/plain": [
       "<Figure size 1440x504 with 1 Axes>"
      ]
     },
     "metadata": {},
     "output_type": "display_data"
    }
   ],
   "source": [
    "# plot out the effects\n",
    "effect_sizes = pd.Series(effect_sizes)\n",
    "effect_sizes.sort_values(ascending=False).plot.bar(figsize=(20,7))\n",
    "plt.title('Parameteric effect sizes of categorical variables')"
   ]
  },
  {
   "cell_type": "code",
   "execution_count": 18,
   "id": "91ef1c1a-61e9-4958-a6b6-ed689ad399b6",
   "metadata": {},
   "outputs": [
    {
     "data": {
      "text/plain": [
       "Oldpeak        0.946102\n",
       "MaxHR          0.892613\n",
       "Age            0.531759\n",
       "RestingBP      0.262314\n",
       "Cholesterol    0.167377\n",
       "dtype: float64"
      ]
     },
     "execution_count": 18,
     "metadata": {},
     "output_type": "execute_result"
    }
   ],
   "source": [
    "# print out the effect\n",
    "effect_sizes.sort_values(ascending=False)"
   ]
  },
  {
   "cell_type": "code",
   "execution_count": 19,
   "id": "ed5e34dd-0d13-4e47-9e70-40187e5fd488",
   "metadata": {},
   "outputs": [],
   "source": [
    "# distribution-free effect size\n",
    "\n",
    "def mw_effect_size(df, var):\n",
    "    \n",
    "    # separate the two samples\n",
    "    data_1 = train[train['HeartDisease']==0][var]\n",
    "    data_2 = train[train['HeartDisease']==1][var] \n",
    "    \n",
    "    # grab the p value and the test statistic\n",
    "    U1, p = mannwhitneyu(data_1, data_2)\n",
    "    nx, ny = len(data_1), len(data_2)\n",
    "    \n",
    "    # calculate the z score\n",
    "    U2 = (nx*ny) - U1\n",
    "    U = min(U1, U2)\n",
    "    N = nx + ny\n",
    "    z = (U - nx*ny/2 + 0.5) / np.sqrt(nx*ny * (N + 1)/ 12)\n",
    "    \n",
    "    # compute the effect size\n",
    "    r = z / np.sqrt(N)\n",
    "    return r"
   ]
  },
  {
   "cell_type": "code",
   "execution_count": 20,
   "id": "60bfc850-77a0-4656-a5f8-f415c04d9d8b",
   "metadata": {},
   "outputs": [],
   "source": [
    "# empty dictionary to store the sizes\n",
    "sizes = {}\n",
    "\n",
    "# iterate over each variable\n",
    "for var in cont_vars:\n",
    "    \n",
    "    # store the size and variable name in the dictionary\n",
    "    size = mw_effect_size(train, var)\n",
    "    sizes[var] = abs(size)"
   ]
  },
  {
   "cell_type": "code",
   "execution_count": 21,
   "id": "98f1edc9-d021-452f-928b-d80cebbdae16",
   "metadata": {},
   "outputs": [
    {
     "data": {
      "text/plain": [
       "Text(0.5, 1.0, 'Nonparametric effect sizes of continuous variables')"
      ]
     },
     "execution_count": 21,
     "metadata": {},
     "output_type": "execute_result"
    },
    {
     "data": {
      "image/png": "[encoded data removed]",
      "text/plain": [
       "<Figure size 1440x504 with 1 Axes>"
      ]
     },
     "metadata": {},
     "output_type": "display_data"
    }
   ],
   "source": [
    "# plot out the sizes in ascending order\n",
    "sizes = pd.Series(sizes)\n",
    "sizes.sort_values(ascending=False).plot.bar(figsize=(20,7))\n",
    "plt.title('Nonparametric effect sizes of continuous variables')"
   ]
  },
  {
   "cell_type": "markdown",
   "id": "92cfc3fa-5eb4-429d-8061-490a9f52a92a",
   "metadata": {},
   "source": [
    "Notice the variables with the lowest p-values have the largest size effects.\n",
    "\n",
    "### Categorical Variables\n",
    "\n",
    "Let us now assess the p-values and the effect sizes of the categorical variables."
   ]
  },
  {
   "cell_type": "code",
   "execution_count": 22,
   "id": "c94afd58-e4c7-4c8c-b672-14c53c1e54d0",
   "metadata": {},
   "outputs": [],
   "source": [
    "# list out the categorical variables\n",
    "cat_vars = ['Sex_M', 'ExerciseAngina_Y', 'FastingBS_1', 'ChestPainType', 'RestingECG', 'ST_Slope']"
   ]
  },
  {
   "cell_type": "code",
   "execution_count": 23,
   "id": "cdde9695-6d80-4742-b82a-6bb38df9b60a",
   "metadata": {},
   "outputs": [],
   "source": [
    "p_ls = []\n",
    "chi_ls = []\n",
    "\n",
    "for feature in cat_vars:\n",
    "    \n",
    "    # create contingency table\n",
    "    c = pd.crosstab(train['HeartDisease'], train[feature])\n",
    "    \n",
    "    # chi_test\n",
    "    chi = chi2_contingency(c)[0]\n",
    "    p_value = chi2_contingency(c)[1]\n",
    "    \n",
    "    chi_ls.append(chi)\n",
    "    p_ls.append(p_value)"
   ]
  },
  {
   "cell_type": "code",
   "execution_count": 24,
   "id": "332dc56f-a16d-434e-bd7f-3d6ed5fc817d",
   "metadata": {},
   "outputs": [
    {
     "data": {
      "text/plain": [
       "Text(0.5, 1.0, 'Feature importance based on chi-square test')"
      ]
     },
     "execution_count": 24,
     "metadata": {},
     "output_type": "execute_result"
    },
    {
     "data": {
      "image/png": "[encoded data removed]",
      "text/plain": [
       "<Figure size 1440x504 with 1 Axes>"
      ]
     },
     "metadata": {},
     "output_type": "display_data"
    }
   ],
   "source": [
    "pd.Series(p_ls, index=cat_vars).sort_values(ascending=True).plot.bar(rot=90,figsize=(20,7))\n",
    "plt.ylabel('p value')\n",
    "plt.title('Feature importance based on chi-square test')"
   ]
  },
  {
   "cell_type": "code",
   "execution_count": 25,
   "id": "616306db-ea06-41e7-8133-5c78bcb2df18",
   "metadata": {},
   "outputs": [
    {
     "data": {
      "text/plain": [
       "ST_Slope            3.438604e-68\n",
       "ChestPainType       1.531057e-46\n",
       "ExerciseAngina_Y    4.356672e-41\n",
       "Sex_M               4.371673e-15\n",
       "FastingBS_1         4.098078e-14\n",
       "RestingECG          5.443787e-02\n",
       "dtype: float64"
      ]
     },
     "execution_count": 25,
     "metadata": {},
     "output_type": "execute_result"
    }
   ],
   "source": [
    "pd.Series(p_ls, index=cat_vars).sort_values(ascending=True)"
   ]
  },
  {
   "cell_type": "code",
   "execution_count": 26,
   "id": "36be6c11-5e3c-4afe-9762-25589bc03aa9",
   "metadata": {},
   "outputs": [
    {
     "data": {
      "text/plain": [
       "Text(0.5, 1.0, 'Feature importance based on chi-square test')"
      ]
     },
     "execution_count": 26,
     "metadata": {},
     "output_type": "execute_result"
    },
    {
     "data": {
      "image/png": "[encoded data removed]",
      "text/plain": [
       "<Figure size 1440x504 with 1 Axes>"
      ]
     },
     "metadata": {},
     "output_type": "display_data"
    }
   ],
   "source": [
    "pd.Series(chi_ls, index=cat_vars).sort_values(ascending=False).plot.bar(rot=90,figsize=(20,7))\n",
    "plt.ylabel('chi value')\n",
    "plt.title('Feature importance based on chi-square test')"
   ]
  },
  {
   "cell_type": "code",
   "execution_count": 27,
   "id": "42a0b0b0-c351-4ad2-864f-aefd024b4b3a",
   "metadata": {},
   "outputs": [
    {
     "data": {
      "text/plain": [
       "ST_Slope            310.681442\n",
       "ChestPainType       215.918429\n",
       "ExerciseAngina_Y    180.211896\n",
       "Sex_M                61.524954\n",
       "FastingBS_1          57.120993\n",
       "RestingECG            5.821391\n",
       "dtype: float64"
      ]
     },
     "execution_count": 27,
     "metadata": {},
     "output_type": "execute_result"
    }
   ],
   "source": [
    "pd.Series(chi_ls, index=cat_vars).sort_values(ascending=False)"
   ]
  },
  {
   "cell_type": "markdown",
   "id": "eb04f8b8-3452-42e8-9c73-3f5327c66c9d",
   "metadata": {},
   "source": [
    "We can now store all our selected features in a list. For this project, they just happen to be all the features from the original dataset excluding only RestingECG."
   ]
  },
  {
   "cell_type": "code",
   "execution_count": 28,
   "id": "f3ba480c-b5f6-4b0c-ac32-0a881694b4c0",
   "metadata": {},
   "outputs": [
    {
     "data": {
      "text/plain": [
       "['Age',\n",
       " 'ChestPainType',\n",
       " 'RestingBP',\n",
       " 'Cholesterol',\n",
       " 'MaxHR',\n",
       " 'Oldpeak',\n",
       " 'ST_Slope',\n",
       " 'Sex_M',\n",
       " 'ExerciseAngina_Y',\n",
       " 'FastingBS_1']"
      ]
     },
     "execution_count": 28,
     "metadata": {},
     "output_type": "execute_result"
    }
   ],
   "source": [
    "selected_features = list(X_train.drop('RestingECG',axis=1).columns)\n",
    "selected_features"
   ]
  },
  {
   "cell_type": "code",
   "execution_count": 29,
   "id": "eee873a4-6287-4966-adbe-923b3ab85eeb",
   "metadata": {},
   "outputs": [],
   "source": [
    "# save our selected features for the next notebook\n",
    "pd.Series(selected_features).to_csv('selected_features.csv', index=False)"
   ]
  },
  {
   "cell_type": "code",
   "execution_count": null,
   "id": "d285ebe0-c361-4da0-8769-58b7c9ea694a",
   "metadata": {},
   "outputs": [],
   "source": []
  }
 ],
 "metadata": {
  "kernelspec": {
   "display_name": "Python 3 (ipykernel)",
   "language": "python",
   "name": "python3"
  },
  "language_info": {
   "codemirror_mode": {
    "name": "ipython",
    "version": 3
   },
   "file_extension": ".py",
   "mimetype": "text/x-python",
   "name": "python",
   "nbconvert_exporter": "python",
   "pygments_lexer": "ipython3",
   "version": "3.9.7"
  }
 },
 "nbformat": 4,
 "nbformat_minor": 5
}
