{
 "cells": [
  {
   "cell_type": "markdown",
   "id": "f02bdf6f-d078-4ef7-9e32-0b9b7eec5d80",
   "metadata": {},
   "source": [
    "# Final Machine Learning Pipeline\n",
    "\n",
    "In this notebook, we will set up all the feature engineering steps within a Scikit-learn pipeline utilizing the open source transformers plus those we developed in house.\n",
    "\n",
    "The pipeline features:\n",
    "\n",
    "- open source classes\n",
    "- in house package classes\n",
    "- only the selected features"
   ]
  },
  {
   "cell_type": "code",
   "execution_count": 1,
   "id": "2ecc7c32-2995-437d-bf70-864c33951495",
   "metadata": {},
   "outputs": [],
   "source": [
    "# data manipulation\n",
    "import pandas as pd\n",
    "import numpy as np\n",
    "\n",
    "# data visualisation\n",
    "import matplotlib.pyplot as plt\n",
    "import seaborn as sns\n",
    "sns.set_style('ticks')\n",
    "\n",
    "# for saving the pipeline\n",
    "import joblib\n",
    "\n",
    "# from scikit-learn\n",
    "from sklearn.neighbors import KNeighborsClassifier\n",
    "from sklearn.preprocessing import MinMaxScaler\n",
    "from sklearn.model_selection import train_test_split\n",
    "from sklearn.metrics import classification_report, confusion_matrix, f1_score, accuracy_score, precision_score, recall_score\n",
    "from sklearn.pipeline import Pipeline\n",
    "\n",
    "# from feature engine\n",
    "from feature_engine.selection import DropFeatures\n",
    "\n",
    "# to visualise all the columns in the dataframe\n",
    "pd.pandas.set_option('display.max_columns', None)\n",
    "\n",
    "# our in-house pre-processing module\n",
    "import preprocessors as pp"
   ]
  },
  {
   "cell_type": "code",
   "execution_count": 2,
   "id": "dd228cfe-8eb8-4839-9154-5b7eb4fc5518",
   "metadata": {},
   "outputs": [],
   "source": [
    "# to display all the columns of the dataframe in the notebook\n",
    "pd.pandas.set_option('display.max_columns', None)"
   ]
  },
  {
   "cell_type": "code",
   "execution_count": 3,
   "id": "b89ac937-0a9b-432f-9e06-5f62ff84c49b",
   "metadata": {},
   "outputs": [
    {
     "name": "stdout",
     "output_type": "stream",
     "text": [
      "(918, 12)\n"
     ]
    },
    {
     "data": {
      "text/html": [
       "<div>\n",
       "<style scoped>\n",
       "    .dataframe tbody tr th:only-of-type {\n",
       "        vertical-align: middle;\n",
       "    }\n",
       "\n",
       "    .dataframe tbody tr th {\n",
       "        vertical-align: top;\n",
       "    }\n",
       "\n",
       "    .dataframe thead th {\n",
       "        text-align: right;\n",
       "    }\n",
       "</style>\n",
       "<table border=\"1\" class=\"dataframe\">\n",
       "  <thead>\n",
       "    <tr style=\"text-align: right;\">\n",
       "      <th></th>\n",
       "      <th>Age</th>\n",
       "      <th>Sex</th>\n",
       "      <th>ChestPainType</th>\n",
       "      <th>RestingBP</th>\n",
       "      <th>Cholesterol</th>\n",
       "      <th>FastingBS</th>\n",
       "      <th>RestingECG</th>\n",
       "      <th>MaxHR</th>\n",
       "      <th>ExerciseAngina</th>\n",
       "      <th>Oldpeak</th>\n",
       "      <th>ST_Slope</th>\n",
       "      <th>HeartDisease</th>\n",
       "    </tr>\n",
       "  </thead>\n",
       "  <tbody>\n",
       "    <tr>\n",
       "      <th>0</th>\n",
       "      <td>40</td>\n",
       "      <td>M</td>\n",
       "      <td>ATA</td>\n",
       "      <td>140</td>\n",
       "      <td>289</td>\n",
       "      <td>0</td>\n",
       "      <td>Normal</td>\n",
       "      <td>172</td>\n",
       "      <td>N</td>\n",
       "      <td>0.0</td>\n",
       "      <td>Up</td>\n",
       "      <td>0</td>\n",
       "    </tr>\n",
       "    <tr>\n",
       "      <th>1</th>\n",
       "      <td>49</td>\n",
       "      <td>F</td>\n",
       "      <td>NAP</td>\n",
       "      <td>160</td>\n",
       "      <td>180</td>\n",
       "      <td>0</td>\n",
       "      <td>Normal</td>\n",
       "      <td>156</td>\n",
       "      <td>N</td>\n",
       "      <td>1.0</td>\n",
       "      <td>Flat</td>\n",
       "      <td>1</td>\n",
       "    </tr>\n",
       "    <tr>\n",
       "      <th>2</th>\n",
       "      <td>37</td>\n",
       "      <td>M</td>\n",
       "      <td>ATA</td>\n",
       "      <td>130</td>\n",
       "      <td>283</td>\n",
       "      <td>0</td>\n",
       "      <td>ST</td>\n",
       "      <td>98</td>\n",
       "      <td>N</td>\n",
       "      <td>0.0</td>\n",
       "      <td>Up</td>\n",
       "      <td>0</td>\n",
       "    </tr>\n",
       "    <tr>\n",
       "      <th>3</th>\n",
       "      <td>48</td>\n",
       "      <td>F</td>\n",
       "      <td>ASY</td>\n",
       "      <td>138</td>\n",
       "      <td>214</td>\n",
       "      <td>0</td>\n",
       "      <td>Normal</td>\n",
       "      <td>108</td>\n",
       "      <td>Y</td>\n",
       "      <td>1.5</td>\n",
       "      <td>Flat</td>\n",
       "      <td>1</td>\n",
       "    </tr>\n",
       "    <tr>\n",
       "      <th>4</th>\n",
       "      <td>54</td>\n",
       "      <td>M</td>\n",
       "      <td>NAP</td>\n",
       "      <td>150</td>\n",
       "      <td>195</td>\n",
       "      <td>0</td>\n",
       "      <td>Normal</td>\n",
       "      <td>122</td>\n",
       "      <td>N</td>\n",
       "      <td>0.0</td>\n",
       "      <td>Up</td>\n",
       "      <td>0</td>\n",
       "    </tr>\n",
       "  </tbody>\n",
       "</table>\n",
       "</div>"
      ],
      "text/plain": [
       "   Age Sex ChestPainType  RestingBP  Cholesterol  FastingBS RestingECG  MaxHR  \\\n",
       "0   40   M           ATA        140          289          0     Normal    172   \n",
       "1   49   F           NAP        160          180          0     Normal    156   \n",
       "2   37   M           ATA        130          283          0         ST     98   \n",
       "3   48   F           ASY        138          214          0     Normal    108   \n",
       "4   54   M           NAP        150          195          0     Normal    122   \n",
       "\n",
       "  ExerciseAngina  Oldpeak ST_Slope  HeartDisease  \n",
       "0              N      0.0       Up             0  \n",
       "1              N      1.0     Flat             1  \n",
       "2              N      0.0       Up             0  \n",
       "3              Y      1.5     Flat             1  \n",
       "4              N      0.0       Up             0  "
      ]
     },
     "execution_count": 3,
     "metadata": {},
     "output_type": "execute_result"
    }
   ],
   "source": [
    "# load dataset\n",
    "data = pd.read_csv('heart.csv')\n",
    "\n",
    "# rows and columns of the data\n",
    "print(data.shape)\n",
    "\n",
    "# visualise the dataset\n",
    "data.head()"
   ]
  },
  {
   "cell_type": "markdown",
   "id": "8a0ac5fa-c3e8-433c-a841-b34b1d5cd75d",
   "metadata": {},
   "source": [
    "# Separate dataset into train and test\n",
    "\n",
    "It is important to separate our data intro training and testing set.\n",
    "\n",
    "When we engineer features, some techniques learn parameters from data. It is important to learn these parameters only from the train set. This is to avoid over-fitting.\n",
    "\n",
    "**Separating the data into train and test involves randomness, therefore, we need to set the seed.**"
   ]
  },
  {
   "cell_type": "code",
   "execution_count": 4,
   "id": "ce9a6493-b5a0-4dc5-8c29-28e4570b19ae",
   "metadata": {},
   "outputs": [],
   "source": [
    "# Let's separate into train and test set\n",
    "# Remember to set the seed (random_state for this sklearn function)\n",
    "\n",
    "X_train, X_test, y_train, y_test = train_test_split(\n",
    "    data.drop(['HeartDisease'], axis=1), # predictive variables\n",
    "    data['HeartDisease'], # target\n",
    "    test_size=0.2, # portion of dataset to allocate to test set\n",
    "    random_state=0, # we are setting the seed here\n",
    ")"
   ]
  },
  {
   "cell_type": "code",
   "execution_count": 5,
   "id": "9993db36-3b02-4049-8131-d8efd343841b",
   "metadata": {},
   "outputs": [
    {
     "data": {
      "text/plain": [
       "((734, 11), (184, 11))"
      ]
     },
     "execution_count": 5,
     "metadata": {},
     "output_type": "execute_result"
    }
   ],
   "source": [
    "X_train.shape, X_test.shape"
   ]
  },
  {
   "cell_type": "markdown",
   "id": "19b53054-460a-49ba-a1fb-382a8018b1ea",
   "metadata": {},
   "source": [
    "# Configuration"
   ]
  },
  {
   "cell_type": "code",
   "execution_count": 6,
   "id": "92e7c818-86de-4d2c-b93e-ecb72ac15232",
   "metadata": {},
   "outputs": [],
   "source": [
    "ZERO_VALUES = ['Cholesterol','RestingBP']\n",
    "\n",
    "BINARY_VARS = ['Sex','ExerciseAngina','FastingBS']\n",
    "\n",
    "NON_BINARY_VARS = ['ChestPainType','RestingECG','ST_Slope']\n",
    "\n",
    "TARGET = 'HeartDisease'\n",
    "\n",
    "SCALED_VARS = ['Age',\n",
    " 'ChestPainType',\n",
    " 'RestingBP',\n",
    " 'Cholesterol',\n",
    " 'MaxHR',\n",
    " 'Oldpeak',\n",
    " 'ST_Slope']\n",
    "\n",
    "DROPPED_VARS = ['RestingECG']"
   ]
  },
  {
   "cell_type": "markdown",
   "id": "335af612-c8ce-4461-8ce0-83510ac37ad8",
   "metadata": {},
   "source": [
    "# Pipeline - End-to-end\n",
    "\n",
    "We have 5 steps less, commented out:\n",
    "\n",
    "- replacing zero values in certain variables\n",
    "- encoding of binary variables\n",
    "- encoding of non-binary variables\n",
    "- scaling the continuous variables\n",
    "- dropping the unneeded features\n",
    "- training the model with nearest neighbors"
   ]
  },
  {
   "cell_type": "code",
   "execution_count": 7,
   "id": "da081e15-51ff-4cb5-9fc6-2590eae8c706",
   "metadata": {},
   "outputs": [],
   "source": [
    "# set up the pipeline\n",
    "heart_pipe = Pipeline([\n",
    "    \n",
    "    # ===== MEAN IMPUTATION =====\n",
    "    # replace zero values with the adjusted mean\n",
    "    ('mean_imputation', pp.MeanImputation(variables=ZERO_VALUES)),\n",
    "    \n",
    "    # ===== ENCODING =====\n",
    "    # encoding of binary variables\n",
    "    ('binary_encoder', pp.CategoricalEncoder(variables=BINARY_VARS)),\n",
    "    \n",
    "    # encoding of non-binary variables\n",
    "    ('non_binary_encoder', pp.OrdinalEncoder(\n",
    "        variables=NON_BINARY_VARS, target=TARGET)),\n",
    "    \n",
    "    # ===== SCALER =====\n",
    "    # scale the continuous variables\n",
    "    ('scaler', pp.ContinuousScaler(variables=SCALED_VARS)),\n",
    "    \n",
    "    # ===== DROP FEATURES =====\n",
    "    # reduce dataset to selected features\n",
    "    ('drop_features', DropFeatures(features_to_drop=DROPPED_VARS)),\n",
    "    \n",
    "    # ===== MODEL TRAINING =====\n",
    "    ('knn_model', KNeighborsClassifier(n_neighbors=5)),\n",
    "    \n",
    "])"
   ]
  },
  {
   "cell_type": "code",
   "execution_count": 8,
   "id": "877af5ee-251c-478a-ae06-a8db62a8313d",
   "metadata": {},
   "outputs": [
    {
     "data": {
      "text/plain": [
       "Pipeline(steps=[('mean_imputation',\n",
       "                 <preprocessors.MeanImputation object at 0x1279267f0>),\n",
       "                ('binary_encoder',\n",
       "                 <preprocessors.CategoricalEncoder object at 0x127926850>),\n",
       "                ('non_binary_encoder',\n",
       "                 <preprocessors.OrdinalEncoder object at 0x1279268b0>),\n",
       "                ('scaler',\n",
       "                 <preprocessors.ContinuousScaler object at 0x127926910>),\n",
       "                ('drop_features',\n",
       "                 DropFeatures(features_to_drop=['RestingECG'])),\n",
       "                ('knn_model', KNeighborsClassifier())])"
      ]
     },
     "execution_count": 8,
     "metadata": {},
     "output_type": "execute_result"
    }
   ],
   "source": [
    "# train the pipeline\n",
    "heart_pipe.fit(X_train,y_train)"
   ]
  },
  {
   "cell_type": "code",
   "execution_count": 9,
   "id": "150d73ac-2301-4230-8854-5c572db90051",
   "metadata": {},
   "outputs": [
    {
     "name": "stdout",
     "output_type": "stream",
     "text": [
      "f1 score: 0.8755760368663594\n",
      "accuracy: 0.8532608695652174\n",
      "precision: 0.8636363636363636\n",
      "recall: 0.8878504672897196\n"
     ]
    }
   ],
   "source": [
    "# evaluate the model:\n",
    "# ====================\n",
    "\n",
    "# make predictions for test set\n",
    "preds = heart_pipe.predict(X_test)\n",
    "\n",
    "# determine f1, accuracy, precision and recall\n",
    "print(f'f1 score: {f1_score(y_test,preds)}')\n",
    "print(f'accuracy: {accuracy_score(y_test,preds)}')\n",
    "print(f'precision: {precision_score(y_test,preds)}')\n",
    "print(f'recall: {recall_score(y_test,preds)}')"
   ]
  },
  {
   "cell_type": "markdown",
   "id": "f3af6bec-6e28-45fb-88cd-f0c1d7833fa7",
   "metadata": {},
   "source": [
    "We can see that these are identical results with when we did the engineering manually.\n",
    "\n",
    "WE CAN GO AHEAD AND DEPLOY!"
   ]
  },
  {
   "cell_type": "code",
   "execution_count": null,
   "id": "785e42b9-ecdb-48b2-a94b-9944c8d0c799",
   "metadata": {},
   "outputs": [],
   "source": []
  }
 ],
 "metadata": {
  "kernelspec": {
   "display_name": "Python 3 (ipykernel)",
   "language": "python",
   "name": "python3"
  },
  "language_info": {
   "codemirror_mode": {
    "name": "ipython",
    "version": 3
   },
   "file_extension": ".py",
   "mimetype": "text/x-python",
   "name": "python",
   "nbconvert_exporter": "python",
   "pygments_lexer": "ipython3",
   "version": "3.9.7"
  }
 },
 "nbformat": 4,
 "nbformat_minor": 5
}
