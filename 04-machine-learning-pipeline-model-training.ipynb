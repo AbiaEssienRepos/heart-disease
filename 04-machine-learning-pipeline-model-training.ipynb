{
 "cells": [
  {
   "cell_type": "markdown",
   "id": "17e3e3db-f63c-4b4c-94a6-21437c60da19",
   "metadata": {},
   "source": [
    "# Machine Learning Pipeline - Model Training\n",
    "\n",
    "In the following notebooks, we will go through the implementation of each of the steps in the Machine Learning Pipeline.\n",
    "\n",
    "We will discuss:\n",
    "\n",
    "1. Data Analysis\n",
    "2. Feature Engineering\n",
    "3. Feature Selection\n",
    "4. **Model Training**\n",
    "5. Obtaining Predictions / Scoring"
   ]
  },
  {
   "cell_type": "code",
   "execution_count": 1,
   "id": "8b9b4afa-a973-4f3e-b46d-ccc91a9ea424",
   "metadata": {},
   "outputs": [],
   "source": [
    "# to handle datasets\n",
    "import pandas as pd\n",
    "import numpy as np\n",
    "\n",
    "# for plotting\n",
    "import matplotlib.pyplot as plt\n",
    "import seaborn as sns\n",
    "sns.set_style('ticks')\n",
    "\n",
    "# to save the model\n",
    "import joblib\n",
    "\n",
    "# algorithms to build and train the models\n",
    "from sklearn.linear_model import LogisticRegression\n",
    "from sklearn.tree import DecisionTreeClassifier\n",
    "from sklearn.neighbors import KNeighborsClassifier\n",
    "from sklearn.svm import SVC\n",
    "from sklearn.ensemble import RandomForestClassifier\n",
    "\n",
    "# to evaluate the model\n",
    "from sklearn.metrics import classification_report, confusion_matrix, f1_score, accuracy_score\n",
    "\n",
    "# to scale the features\n",
    "from sklearn.preprocessing import MinMaxScaler\n",
    "\n",
    "# to visualise all the columns in the dataframe\n",
    "pd.pandas.set_option('display.max_columns', None)"
   ]
  },
  {
   "cell_type": "code",
   "execution_count": 2,
   "id": "17363746-24c0-4b5a-ba92-d1b3dca19b24",
   "metadata": {},
   "outputs": [],
   "source": [
    "# load the train and test set with the engineered variables\n",
    "X_train = pd.read_csv('xtrain_unscaled.csv')\n",
    "X_test = pd.read_csv('xtest_unscaled.csv')"
   ]
  },
  {
   "cell_type": "code",
   "execution_count": 3,
   "id": "e9cf07ac-81cd-452a-b630-2735338c109e",
   "metadata": {},
   "outputs": [],
   "source": [
    "y_train = pd.read_csv('ytrain.csv')\n",
    "y_test = pd.read_csv('ytest.csv')"
   ]
  },
  {
   "cell_type": "code",
   "execution_count": 4,
   "id": "1183bdd2-dc03-44d4-b4e7-b331bc447a62",
   "metadata": {},
   "outputs": [
    {
     "data": {
      "text/plain": [
       "['Age',\n",
       " 'ChestPainType',\n",
       " 'RestingBP',\n",
       " 'Cholesterol',\n",
       " 'MaxHR',\n",
       " 'Oldpeak',\n",
       " 'ST_Slope',\n",
       " 'Sex_M',\n",
       " 'ExerciseAngina_Y',\n",
       " 'FastingBS_1']"
      ]
     },
     "execution_count": 4,
     "metadata": {},
     "output_type": "execute_result"
    }
   ],
   "source": [
    "# load the pre-selected features\n",
    "features = pd.read_csv('selected_features.csv')\n",
    "features = features['0'].to_list()\n",
    "\n",
    "# display the final feature set\n",
    "features "
   ]
  },
  {
   "cell_type": "code",
   "execution_count": 5,
   "id": "d5d9512d-be66-431d-9c7d-2e1b95799ec4",
   "metadata": {},
   "outputs": [],
   "source": [
    "# reduce the train and test set to the selected features\n",
    "X_train = X_train[features]\n",
    "X_test = X_test[features]"
   ]
  },
  {
   "cell_type": "code",
   "execution_count": 6,
   "id": "96c47b1d-7a6c-4ddd-9953-24b865235535",
   "metadata": {},
   "outputs": [
    {
     "data": {
      "text/plain": [
       "Index(['Age', 'ChestPainType', 'RestingBP', 'Cholesterol', 'MaxHR', 'Oldpeak',\n",
       "       'ST_Slope', 'Sex_M', 'ExerciseAngina_Y', 'FastingBS_1'],\n",
       "      dtype='object')"
      ]
     },
     "execution_count": 6,
     "metadata": {},
     "output_type": "execute_result"
    }
   ],
   "source": [
    "X_train.columns"
   ]
  },
  {
   "cell_type": "markdown",
   "id": "c6b1fc27-d861-44e2-ab16-3ce1332bffd2",
   "metadata": {
    "tags": []
   },
   "source": [
    "# Feature Scaling\n",
    "\n",
    "We have to scale our features because a machine learning algorithm tends to weigh greater values, higher and consider smaller values as the lower values, regardless of the original unit of the values. \n",
    "\n",
    "Since scaling is typically done to limit value between 0 and 1, we will exclude our binary features and focus on non-binary/discrete and continuous features. \n",
    "\n",
    "Let's grab the features that have more than 2 unique values:"
   ]
  },
  {
   "cell_type": "code",
   "execution_count": 7,
   "id": "e32c6eb9-68e1-4828-a964-2567ccf586b2",
   "metadata": {},
   "outputs": [
    {
     "name": "stdout",
     "output_type": "stream",
     "text": [
      "Age: 49\n",
      "ChestPainType: 4\n",
      "RestingBP: 63\n",
      "Cholesterol: 205\n",
      "MaxHR: 115\n",
      "Oldpeak: 48\n",
      "ST_Slope: 3\n",
      "Sex_M: 2\n",
      "ExerciseAngina_Y: 2\n",
      "FastingBS_1: 2\n"
     ]
    }
   ],
   "source": [
    "for var in X_train.columns:\n",
    "    print(f'{var}: {X_train[var].nunique()}')"
   ]
  },
  {
   "cell_type": "code",
   "execution_count": 8,
   "id": "5ae6af1f-53cd-4407-a60a-1ac6ecc6e15b",
   "metadata": {},
   "outputs": [
    {
     "data": {
      "text/plain": [
       "['Age',\n",
       " 'ChestPainType',\n",
       " 'RestingBP',\n",
       " 'Cholesterol',\n",
       " 'MaxHR',\n",
       " 'Oldpeak',\n",
       " 'ST_Slope']"
      ]
     },
     "execution_count": 8,
     "metadata": {},
     "output_type": "execute_result"
    }
   ],
   "source": [
    "# list out all the continuous variables that will be scaled\n",
    "scaled = [feat for feat in X_train.columns if X_train[feat].nunique() > 2]\n",
    "scaled"
   ]
  },
  {
   "cell_type": "markdown",
   "id": "bfa40a67-d706-4303-a104-812df0b55e78",
   "metadata": {},
   "source": [
    "Let's observe the initial range of our continuous variables before the scaling operation. Notice that seem to fall in different ranges."
   ]
  },
  {
   "cell_type": "code",
   "execution_count": 9,
   "id": "d44ded58-d6f6-41b3-a9e7-5139bb70eea9",
   "metadata": {},
   "outputs": [
    {
     "data": {
      "text/html": [
       "<div>\n",
       "<style scoped>\n",
       "    .dataframe tbody tr th:only-of-type {\n",
       "        vertical-align: middle;\n",
       "    }\n",
       "\n",
       "    .dataframe tbody tr th {\n",
       "        vertical-align: top;\n",
       "    }\n",
       "\n",
       "    .dataframe thead th {\n",
       "        text-align: right;\n",
       "    }\n",
       "</style>\n",
       "<table border=\"1\" class=\"dataframe\">\n",
       "  <thead>\n",
       "    <tr style=\"text-align: right;\">\n",
       "      <th></th>\n",
       "      <th>Age</th>\n",
       "      <th>ChestPainType</th>\n",
       "      <th>RestingBP</th>\n",
       "      <th>Cholesterol</th>\n",
       "      <th>MaxHR</th>\n",
       "      <th>Oldpeak</th>\n",
       "      <th>ST_Slope</th>\n",
       "    </tr>\n",
       "  </thead>\n",
       "  <tbody>\n",
       "    <tr>\n",
       "      <th>count</th>\n",
       "      <td>734.000000</td>\n",
       "      <td>734.000000</td>\n",
       "      <td>734.000000</td>\n",
       "      <td>734.000000</td>\n",
       "      <td>734.000000</td>\n",
       "      <td>734.000000</td>\n",
       "      <td>734.000000</td>\n",
       "    </tr>\n",
       "    <tr>\n",
       "      <th>mean</th>\n",
       "      <td>53.633515</td>\n",
       "      <td>2.916894</td>\n",
       "      <td>132.724420</td>\n",
       "      <td>242.881864</td>\n",
       "      <td>136.682561</td>\n",
       "      <td>0.894959</td>\n",
       "      <td>2.062670</td>\n",
       "    </tr>\n",
       "    <tr>\n",
       "      <th>std</th>\n",
       "      <td>9.339761</td>\n",
       "      <td>1.240478</td>\n",
       "      <td>17.808146</td>\n",
       "      <td>52.977081</td>\n",
       "      <td>25.633928</td>\n",
       "      <td>1.047775</td>\n",
       "      <td>0.962544</td>\n",
       "    </tr>\n",
       "    <tr>\n",
       "      <th>min</th>\n",
       "      <td>28.000000</td>\n",
       "      <td>1.000000</td>\n",
       "      <td>80.000000</td>\n",
       "      <td>85.000000</td>\n",
       "      <td>63.000000</td>\n",
       "      <td>-2.600000</td>\n",
       "      <td>1.000000</td>\n",
       "    </tr>\n",
       "    <tr>\n",
       "      <th>25%</th>\n",
       "      <td>47.250000</td>\n",
       "      <td>2.000000</td>\n",
       "      <td>120.000000</td>\n",
       "      <td>213.000000</td>\n",
       "      <td>120.000000</td>\n",
       "      <td>0.000000</td>\n",
       "      <td>1.000000</td>\n",
       "    </tr>\n",
       "    <tr>\n",
       "      <th>50%</th>\n",
       "      <td>54.000000</td>\n",
       "      <td>4.000000</td>\n",
       "      <td>130.000000</td>\n",
       "      <td>242.881864</td>\n",
       "      <td>138.000000</td>\n",
       "      <td>0.600000</td>\n",
       "      <td>2.000000</td>\n",
       "    </tr>\n",
       "    <tr>\n",
       "      <th>75%</th>\n",
       "      <td>60.000000</td>\n",
       "      <td>4.000000</td>\n",
       "      <td>140.000000</td>\n",
       "      <td>265.000000</td>\n",
       "      <td>156.000000</td>\n",
       "      <td>1.500000</td>\n",
       "      <td>3.000000</td>\n",
       "    </tr>\n",
       "    <tr>\n",
       "      <th>max</th>\n",
       "      <td>77.000000</td>\n",
       "      <td>4.000000</td>\n",
       "      <td>200.000000</td>\n",
       "      <td>603.000000</td>\n",
       "      <td>202.000000</td>\n",
       "      <td>6.200000</td>\n",
       "      <td>3.000000</td>\n",
       "    </tr>\n",
       "  </tbody>\n",
       "</table>\n",
       "</div>"
      ],
      "text/plain": [
       "              Age  ChestPainType   RestingBP  Cholesterol       MaxHR  \\\n",
       "count  734.000000     734.000000  734.000000   734.000000  734.000000   \n",
       "mean    53.633515       2.916894  132.724420   242.881864  136.682561   \n",
       "std      9.339761       1.240478   17.808146    52.977081   25.633928   \n",
       "min     28.000000       1.000000   80.000000    85.000000   63.000000   \n",
       "25%     47.250000       2.000000  120.000000   213.000000  120.000000   \n",
       "50%     54.000000       4.000000  130.000000   242.881864  138.000000   \n",
       "75%     60.000000       4.000000  140.000000   265.000000  156.000000   \n",
       "max     77.000000       4.000000  200.000000   603.000000  202.000000   \n",
       "\n",
       "          Oldpeak    ST_Slope  \n",
       "count  734.000000  734.000000  \n",
       "mean     0.894959    2.062670  \n",
       "std      1.047775    0.962544  \n",
       "min     -2.600000    1.000000  \n",
       "25%      0.000000    1.000000  \n",
       "50%      0.600000    2.000000  \n",
       "75%      1.500000    3.000000  \n",
       "max      6.200000    3.000000  "
      ]
     },
     "execution_count": 9,
     "metadata": {},
     "output_type": "execute_result"
    }
   ],
   "source": [
    "X_train[scaled].describe()"
   ]
  },
  {
   "cell_type": "code",
   "execution_count": 10,
   "id": "cc490556-0fd6-431a-bdea-ebebf290c282",
   "metadata": {},
   "outputs": [],
   "source": [
    "# load the scaler object\n",
    "scaler = MinMaxScaler()\n",
    "\n",
    "# fit the train set\n",
    "scaler.fit(X_train[scaled])\n",
    "\n",
    "# transform the train and test set\n",
    "X_train[scaled] = scaler.transform(X_train[scaled])\n",
    "X_test[scaled] = scaler.transform(X_test[scaled])"
   ]
  },
  {
   "cell_type": "code",
   "execution_count": 11,
   "id": "73f3853d-5b3b-4d8d-92fa-db00b5b38a95",
   "metadata": {},
   "outputs": [
    {
     "data": {
      "text/html": [
       "<div>\n",
       "<style scoped>\n",
       "    .dataframe tbody tr th:only-of-type {\n",
       "        vertical-align: middle;\n",
       "    }\n",
       "\n",
       "    .dataframe tbody tr th {\n",
       "        vertical-align: top;\n",
       "    }\n",
       "\n",
       "    .dataframe thead th {\n",
       "        text-align: right;\n",
       "    }\n",
       "</style>\n",
       "<table border=\"1\" class=\"dataframe\">\n",
       "  <thead>\n",
       "    <tr style=\"text-align: right;\">\n",
       "      <th></th>\n",
       "      <th>Age</th>\n",
       "      <th>ChestPainType</th>\n",
       "      <th>RestingBP</th>\n",
       "      <th>Cholesterol</th>\n",
       "      <th>MaxHR</th>\n",
       "      <th>Oldpeak</th>\n",
       "      <th>ST_Slope</th>\n",
       "    </tr>\n",
       "  </thead>\n",
       "  <tbody>\n",
       "    <tr>\n",
       "      <th>0</th>\n",
       "      <td>0.857143</td>\n",
       "      <td>1.000000</td>\n",
       "      <td>0.500000</td>\n",
       "      <td>0.304791</td>\n",
       "      <td>0.676259</td>\n",
       "      <td>0.522727</td>\n",
       "      <td>1.0</td>\n",
       "    </tr>\n",
       "    <tr>\n",
       "      <th>1</th>\n",
       "      <td>0.367347</td>\n",
       "      <td>1.000000</td>\n",
       "      <td>0.291667</td>\n",
       "      <td>0.304791</td>\n",
       "      <td>0.359712</td>\n",
       "      <td>0.465909</td>\n",
       "      <td>1.0</td>\n",
       "    </tr>\n",
       "    <tr>\n",
       "      <th>2</th>\n",
       "      <td>0.755102</td>\n",
       "      <td>0.333333</td>\n",
       "      <td>0.666667</td>\n",
       "      <td>0.530888</td>\n",
       "      <td>0.633094</td>\n",
       "      <td>0.386364</td>\n",
       "      <td>0.0</td>\n",
       "    </tr>\n",
       "    <tr>\n",
       "      <th>3</th>\n",
       "      <td>0.775510</td>\n",
       "      <td>1.000000</td>\n",
       "      <td>0.500000</td>\n",
       "      <td>0.104247</td>\n",
       "      <td>0.223022</td>\n",
       "      <td>0.409091</td>\n",
       "      <td>1.0</td>\n",
       "    </tr>\n",
       "    <tr>\n",
       "      <th>4</th>\n",
       "      <td>0.632653</td>\n",
       "      <td>1.000000</td>\n",
       "      <td>0.500000</td>\n",
       "      <td>0.304791</td>\n",
       "      <td>0.388489</td>\n",
       "      <td>0.409091</td>\n",
       "      <td>1.0</td>\n",
       "    </tr>\n",
       "  </tbody>\n",
       "</table>\n",
       "</div>"
      ],
      "text/plain": [
       "        Age  ChestPainType  RestingBP  Cholesterol     MaxHR   Oldpeak  \\\n",
       "0  0.857143       1.000000   0.500000     0.304791  0.676259  0.522727   \n",
       "1  0.367347       1.000000   0.291667     0.304791  0.359712  0.465909   \n",
       "2  0.755102       0.333333   0.666667     0.530888  0.633094  0.386364   \n",
       "3  0.775510       1.000000   0.500000     0.104247  0.223022  0.409091   \n",
       "4  0.632653       1.000000   0.500000     0.304791  0.388489  0.409091   \n",
       "\n",
       "   ST_Slope  \n",
       "0       1.0  \n",
       "1       1.0  \n",
       "2       0.0  \n",
       "3       1.0  \n",
       "4       1.0  "
      ]
     },
     "execution_count": 11,
     "metadata": {},
     "output_type": "execute_result"
    }
   ],
   "source": [
    "# display the scaled dataset\n",
    "X_train[scaled].head()"
   ]
  },
  {
   "cell_type": "code",
   "execution_count": 12,
   "id": "fd5be81a-3eb4-432d-8b3f-80b7b36976ff",
   "metadata": {},
   "outputs": [
    {
     "data": {
      "text/html": [
       "<div>\n",
       "<style scoped>\n",
       "    .dataframe tbody tr th:only-of-type {\n",
       "        vertical-align: middle;\n",
       "    }\n",
       "\n",
       "    .dataframe tbody tr th {\n",
       "        vertical-align: top;\n",
       "    }\n",
       "\n",
       "    .dataframe thead th {\n",
       "        text-align: right;\n",
       "    }\n",
       "</style>\n",
       "<table border=\"1\" class=\"dataframe\">\n",
       "  <thead>\n",
       "    <tr style=\"text-align: right;\">\n",
       "      <th></th>\n",
       "      <th>Age</th>\n",
       "      <th>ChestPainType</th>\n",
       "      <th>RestingBP</th>\n",
       "      <th>Cholesterol</th>\n",
       "      <th>MaxHR</th>\n",
       "      <th>Oldpeak</th>\n",
       "      <th>ST_Slope</th>\n",
       "    </tr>\n",
       "  </thead>\n",
       "  <tbody>\n",
       "    <tr>\n",
       "      <th>count</th>\n",
       "      <td>734.00</td>\n",
       "      <td>734.00</td>\n",
       "      <td>734.00</td>\n",
       "      <td>734.00</td>\n",
       "      <td>734.00</td>\n",
       "      <td>734.00</td>\n",
       "      <td>734.00</td>\n",
       "    </tr>\n",
       "    <tr>\n",
       "      <th>mean</th>\n",
       "      <td>0.52</td>\n",
       "      <td>0.64</td>\n",
       "      <td>0.44</td>\n",
       "      <td>0.30</td>\n",
       "      <td>0.53</td>\n",
       "      <td>0.40</td>\n",
       "      <td>0.53</td>\n",
       "    </tr>\n",
       "    <tr>\n",
       "      <th>std</th>\n",
       "      <td>0.19</td>\n",
       "      <td>0.41</td>\n",
       "      <td>0.15</td>\n",
       "      <td>0.10</td>\n",
       "      <td>0.18</td>\n",
       "      <td>0.12</td>\n",
       "      <td>0.48</td>\n",
       "    </tr>\n",
       "    <tr>\n",
       "      <th>min</th>\n",
       "      <td>0.00</td>\n",
       "      <td>0.00</td>\n",
       "      <td>0.00</td>\n",
       "      <td>0.00</td>\n",
       "      <td>0.00</td>\n",
       "      <td>0.00</td>\n",
       "      <td>0.00</td>\n",
       "    </tr>\n",
       "    <tr>\n",
       "      <th>25%</th>\n",
       "      <td>0.39</td>\n",
       "      <td>0.33</td>\n",
       "      <td>0.33</td>\n",
       "      <td>0.25</td>\n",
       "      <td>0.41</td>\n",
       "      <td>0.30</td>\n",
       "      <td>0.00</td>\n",
       "    </tr>\n",
       "    <tr>\n",
       "      <th>50%</th>\n",
       "      <td>0.53</td>\n",
       "      <td>1.00</td>\n",
       "      <td>0.42</td>\n",
       "      <td>0.30</td>\n",
       "      <td>0.54</td>\n",
       "      <td>0.36</td>\n",
       "      <td>0.50</td>\n",
       "    </tr>\n",
       "    <tr>\n",
       "      <th>75%</th>\n",
       "      <td>0.65</td>\n",
       "      <td>1.00</td>\n",
       "      <td>0.50</td>\n",
       "      <td>0.35</td>\n",
       "      <td>0.67</td>\n",
       "      <td>0.47</td>\n",
       "      <td>1.00</td>\n",
       "    </tr>\n",
       "    <tr>\n",
       "      <th>max</th>\n",
       "      <td>1.00</td>\n",
       "      <td>1.00</td>\n",
       "      <td>1.00</td>\n",
       "      <td>1.00</td>\n",
       "      <td>1.00</td>\n",
       "      <td>1.00</td>\n",
       "      <td>1.00</td>\n",
       "    </tr>\n",
       "  </tbody>\n",
       "</table>\n",
       "</div>"
      ],
      "text/plain": [
       "          Age  ChestPainType  RestingBP  Cholesterol   MaxHR  Oldpeak  \\\n",
       "count  734.00         734.00     734.00       734.00  734.00   734.00   \n",
       "mean     0.52           0.64       0.44         0.30    0.53     0.40   \n",
       "std      0.19           0.41       0.15         0.10    0.18     0.12   \n",
       "min      0.00           0.00       0.00         0.00    0.00     0.00   \n",
       "25%      0.39           0.33       0.33         0.25    0.41     0.30   \n",
       "50%      0.53           1.00       0.42         0.30    0.54     0.36   \n",
       "75%      0.65           1.00       0.50         0.35    0.67     0.47   \n",
       "max      1.00           1.00       1.00         1.00    1.00     1.00   \n",
       "\n",
       "       ST_Slope  \n",
       "count    734.00  \n",
       "mean       0.53  \n",
       "std        0.48  \n",
       "min        0.00  \n",
       "25%        0.00  \n",
       "50%        0.50  \n",
       "75%        1.00  \n",
       "max        1.00  "
      ]
     },
     "execution_count": 12,
     "metadata": {},
     "output_type": "execute_result"
    }
   ],
   "source": [
    "X_train[scaled].describe().round(2)"
   ]
  },
  {
   "cell_type": "markdown",
   "id": "21eb8184-f7b2-4349-90fe-e0d10e036adb",
   "metadata": {},
   "source": [
    "Notice how all the values of the continuous variables now fall between 0 and 1.\n",
    "\n",
    "# Model Training\n",
    "\n",
    "To train the model, we will be trying the following learning approaches:\n",
    "\n",
    "- Logistic Regression\n",
    "- Decision Trees\n",
    "- Random Forests\n",
    "- Nearest Neighbors\n",
    "- Support Vector Machines\n",
    "\n",
    "Our metric of priority will be the f-1 score for the 'Y' label, i.e. the 1 class. Since both target labels are fairly balanced, we can also observe the accuracy score for the model.\n",
    "\n",
    "## Logistic Regression"
   ]
  },
  {
   "cell_type": "code",
   "execution_count": 13,
   "id": "1ff3e2c1-0b10-4b11-81ca-71a3d3226630",
   "metadata": {},
   "outputs": [],
   "source": [
    "f1_scores = {}\n",
    "accuracy_scores = {}"
   ]
  },
  {
   "cell_type": "code",
   "execution_count": 14,
   "id": "94087ecf-f0ab-4d86-a65c-63a00b29824b",
   "metadata": {},
   "outputs": [
    {
     "name": "stdout",
     "output_type": "stream",
     "text": [
      "[[56 21]\n",
      " [12 95]]\n",
      "\n",
      "              precision    recall  f1-score   support\n",
      "\n",
      "           0       0.82      0.73      0.77        77\n",
      "           1       0.82      0.89      0.85       107\n",
      "\n",
      "    accuracy                           0.82       184\n",
      "   macro avg       0.82      0.81      0.81       184\n",
      "weighted avg       0.82      0.82      0.82       184\n",
      "\n"
     ]
    }
   ],
   "source": [
    "log_model = LogisticRegression()\n",
    "log_model.fit(X_train,y_train['HeartDisease'])\n",
    "log_preds = log_model.predict(X_test)\n",
    "\n",
    "f1_scores['log_model'] = f1_score(y_test,log_preds)\n",
    "accuracy_scores['log_model'] = accuracy_score(y_test,log_preds)\n",
    "\n",
    "print(confusion_matrix(y_test,log_preds))\n",
    "print()\n",
    "print(classification_report(y_test,log_preds))"
   ]
  },
  {
   "cell_type": "markdown",
   "id": "8c0b6a70-fad2-4fe4-8be7-1f12d91e03e7",
   "metadata": {},
   "source": [
    "## Decision Tree"
   ]
  },
  {
   "cell_type": "code",
   "execution_count": 15,
   "id": "3c98ca25-a3c6-4633-826a-3748d4b5d11e",
   "metadata": {},
   "outputs": [
    {
     "name": "stdout",
     "output_type": "stream",
     "text": [
      "[[61 16]\n",
      " [23 84]]\n",
      "\n",
      "              precision    recall  f1-score   support\n",
      "\n",
      "           0       0.73      0.79      0.76        77\n",
      "           1       0.84      0.79      0.81       107\n",
      "\n",
      "    accuracy                           0.79       184\n",
      "   macro avg       0.78      0.79      0.78       184\n",
      "weighted avg       0.79      0.79      0.79       184\n",
      "\n"
     ]
    }
   ],
   "source": [
    "tree_model = DecisionTreeClassifier()\n",
    "tree_model.fit(X_train,y_train['HeartDisease'])\n",
    "tree_preds = tree_model.predict(X_test)\n",
    "\n",
    "f1_scores['tree_model'] = f1_score(y_test,tree_preds)\n",
    "accuracy_scores['tree_model'] = accuracy_score(y_test,tree_preds)\n",
    "\n",
    "print(confusion_matrix(y_test,tree_preds))\n",
    "print()\n",
    "print(classification_report(y_test,tree_preds))"
   ]
  },
  {
   "cell_type": "markdown",
   "id": "a778b361-c6c8-436a-b29b-8861c5a7bd48",
   "metadata": {},
   "source": [
    "## Random Forests"
   ]
  },
  {
   "cell_type": "code",
   "execution_count": 16,
   "id": "184406c2-fe2b-4c71-aacb-200ffb4ebcfc",
   "metadata": {},
   "outputs": [
    {
     "name": "stdout",
     "output_type": "stream",
     "text": [
      "[[60 17]\n",
      " [11 96]]\n",
      "\n",
      "              precision    recall  f1-score   support\n",
      "\n",
      "           0       0.85      0.78      0.81        77\n",
      "           1       0.85      0.90      0.87       107\n",
      "\n",
      "    accuracy                           0.85       184\n",
      "   macro avg       0.85      0.84      0.84       184\n",
      "weighted avg       0.85      0.85      0.85       184\n",
      "\n"
     ]
    }
   ],
   "source": [
    "forest_model = RandomForestClassifier(n_estimators=200,random_state=0)\n",
    "forest_model.fit(X_train,y_train['HeartDisease'])\n",
    "forest_preds = forest_model.predict(X_test)\n",
    "\n",
    "f1_scores['forest_model'] = f1_score(y_test,forest_preds)\n",
    "accuracy_scores['forest_model'] = accuracy_score(y_test,forest_preds)\n",
    "\n",
    "print(confusion_matrix(y_test,forest_preds))\n",
    "print()\n",
    "print(classification_report(y_test,forest_preds))"
   ]
  },
  {
   "cell_type": "markdown",
   "id": "028d0a16-dacc-4d79-92f1-16725e7d50e7",
   "metadata": {},
   "source": [
    "## Nearest Neighbors"
   ]
  },
  {
   "cell_type": "code",
   "execution_count": 17,
   "id": "ebc8ac26-94b6-4136-a381-cf60dad8a32f",
   "metadata": {},
   "outputs": [
    {
     "name": "stdout",
     "output_type": "stream",
     "text": [
      "[[62 15]\n",
      " [12 95]]\n",
      "\n",
      "              precision    recall  f1-score   support\n",
      "\n",
      "           0       0.84      0.81      0.82        77\n",
      "           1       0.86      0.89      0.88       107\n",
      "\n",
      "    accuracy                           0.85       184\n",
      "   macro avg       0.85      0.85      0.85       184\n",
      "weighted avg       0.85      0.85      0.85       184\n",
      "\n"
     ]
    }
   ],
   "source": [
    "knn_model = KNeighborsClassifier(n_neighbors=5)\n",
    "knn_model.fit(X_train,y_train['HeartDisease'])\n",
    "knn_preds = knn_model.predict(X_test)\n",
    "\n",
    "f1_scores['knn_model'] = f1_score(y_test,knn_preds)\n",
    "accuracy_scores['knn_model'] = accuracy_score(y_test,knn_preds)\n",
    "\n",
    "print(confusion_matrix(y_test,knn_preds))\n",
    "print()\n",
    "print(classification_report(y_test,knn_preds))"
   ]
  },
  {
   "cell_type": "markdown",
   "id": "d34fc6f4-695b-4669-8765-e312019d733e",
   "metadata": {},
   "source": [
    "## Support Vector Machines"
   ]
  },
  {
   "cell_type": "code",
   "execution_count": 18,
   "id": "aaa37e5b-b03e-4274-9c2e-f5a7852061aa",
   "metadata": {},
   "outputs": [
    {
     "name": "stdout",
     "output_type": "stream",
     "text": [
      "[[57 20]\n",
      " [11 96]]\n",
      "\n",
      "              precision    recall  f1-score   support\n",
      "\n",
      "           0       0.84      0.74      0.79        77\n",
      "           1       0.83      0.90      0.86       107\n",
      "\n",
      "    accuracy                           0.83       184\n",
      "   macro avg       0.83      0.82      0.82       184\n",
      "weighted avg       0.83      0.83      0.83       184\n",
      "\n"
     ]
    }
   ],
   "source": [
    "svc_model = SVC()\n",
    "svc_model.fit(X_train,y_train['HeartDisease'])\n",
    "svc_preds = svc_model.predict(X_test)\n",
    "\n",
    "f1_scores['svc_model'] = f1_score(y_test,svc_preds)\n",
    "accuracy_scores['svc_model'] = accuracy_score(y_test,svc_preds)\n",
    "\n",
    "print(confusion_matrix(y_test,svc_preds))\n",
    "print()\n",
    "print(classification_report(y_test,svc_preds))"
   ]
  },
  {
   "cell_type": "markdown",
   "id": "6ecbd1f2-7990-42e9-a0c6-e3732faa38c6",
   "metadata": {},
   "source": [
    "# Model Evaluation\n",
    "\n",
    "Let's plot out the f1 scores and the accuracy scores from all our models:"
   ]
  },
  {
   "cell_type": "code",
   "execution_count": 22,
   "id": "d7e3be5c-5dda-4661-90c7-1c7c9d65ffaf",
   "metadata": {},
   "outputs": [
    {
     "data": {
      "text/plain": [
       "Text(0.5, 1.0, 'Model Evaluation')"
      ]
     },
     "execution_count": 22,
     "metadata": {},
     "output_type": "execute_result"
    },
    {
     "data": {
      "image/png": "[encoded data removed]",
      "text/plain": [
       "<Figure size 1440x504 with 1 Axes>"
      ]
     },
     "metadata": {},
     "output_type": "display_data"
    }
   ],
   "source": [
    "pd.Series(f1_scores).sort_values(ascending=False).plot.line(rot=90,figsize=(20,7))\n",
    "plt.ylabel('f1 score')\n",
    "plt.title('Model Evaluation')"
   ]
  },
  {
   "cell_type": "code",
   "execution_count": 21,
   "id": "56e3399b-6391-4d3a-988f-5c23caee13bd",
   "metadata": {},
   "outputs": [
    {
     "data": {
      "text/plain": [
       "Text(0.5, 1.0, 'Model Evaluation')"
      ]
     },
     "execution_count": 21,
     "metadata": {},
     "output_type": "execute_result"
    },
    {
     "data": {
      "image/png": "[encoded data removed]",
      "text/plain": [
       "<Figure size 1440x504 with 1 Axes>"
      ]
     },
     "metadata": {},
     "output_type": "display_data"
    }
   ],
   "source": [
    "pd.Series(accuracy_scores).sort_values(ascending=False).plot.line(rot=90,figsize=(20,7))\n",
    "plt.ylabel('accuracy score')\n",
    "plt.title('Model Evaluation')"
   ]
  },
  {
   "cell_type": "markdown",
   "id": "3dbaf0fa-ca5c-4bdf-b547-1b3ff7f5dec2",
   "metadata": {},
   "source": [
    "The KNN algorithm gives the highest f1 (harmonic mean) and accuracy scores of all the approaches we used. "
   ]
  },
  {
   "cell_type": "code",
   "execution_count": null,
   "id": "bff0f3a3-014a-4334-89b9-cc59b213a7d6",
   "metadata": {},
   "outputs": [],
   "source": []
  }
 ],
 "metadata": {
  "kernelspec": {
   "display_name": "Python 3 (ipykernel)",
   "language": "python",
   "name": "python3"
  },
  "language_info": {
   "codemirror_mode": {
    "name": "ipython",
    "version": 3
   },
   "file_extension": ".py",
   "mimetype": "text/x-python",
   "name": "python",
   "nbconvert_exporter": "python",
   "pygments_lexer": "ipython3",
   "version": "3.9.7"
  }
 },
 "nbformat": 4,
 "nbformat_minor": 5
}
